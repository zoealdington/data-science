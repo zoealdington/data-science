{
 "cells": [
  {
   "cell_type": "markdown",
   "metadata": {},
   "source": [
    "# Lesson 6 - Solution Code"
   ]
  },
  {
   "cell_type": "code",
   "execution_count": 118,
   "metadata": {
    "collapsed": false
   },
   "outputs": [],
   "source": [
    "%matplotlib inline\n",
    "import numpy as np\n",
    "import pandas as pd\n",
    "from matplotlib import pyplot as plt\n",
    "import seaborn as sns\n",
    "sns.set_style(\"darkgrid\")\n",
    "import sklearn.linear_model\n",
    "\n",
    "# read in the mammal dataset\n",
    "wd = '../../assets/dataset/msleep/'\n",
    "mammals = pd.read_csv(wd+'msleep.csv')\n",
    "mammals = mammals[mammals.brainwt.notnull()].copy()"
   ]
  },
  {
   "cell_type": "markdown",
   "metadata": {},
   "source": [
    "### Explore our mammals dataset"
   ]
  },
  {
   "cell_type": "code",
   "execution_count": 119,
   "metadata": {
    "collapsed": false
   },
   "outputs": [
    {
     "data": {
      "text/html": [
       "<div>\n",
       "<table border=\"1\" class=\"dataframe\">\n",
       "  <thead>\n",
       "    <tr style=\"text-align: right;\">\n",
       "      <th></th>\n",
       "      <th>name</th>\n",
       "      <th>genus</th>\n",
       "      <th>vore</th>\n",
       "      <th>order</th>\n",
       "      <th>conservation</th>\n",
       "      <th>sleep_total</th>\n",
       "      <th>sleep_rem</th>\n",
       "      <th>sleep_cycle</th>\n",
       "      <th>awake</th>\n",
       "      <th>brainwt</th>\n",
       "      <th>bodywt</th>\n",
       "    </tr>\n",
       "  </thead>\n",
       "  <tbody>\n",
       "    <tr>\n",
       "      <th>1</th>\n",
       "      <td>Owl monkey</td>\n",
       "      <td>Aotus</td>\n",
       "      <td>omni</td>\n",
       "      <td>Primates</td>\n",
       "      <td>NaN</td>\n",
       "      <td>17.0</td>\n",
       "      <td>1.8</td>\n",
       "      <td>NaN</td>\n",
       "      <td>7.0</td>\n",
       "      <td>0.01550</td>\n",
       "      <td>0.480</td>\n",
       "    </tr>\n",
       "    <tr>\n",
       "      <th>3</th>\n",
       "      <td>Greater short-tailed shrew</td>\n",
       "      <td>Blarina</td>\n",
       "      <td>omni</td>\n",
       "      <td>Soricomorpha</td>\n",
       "      <td>lc</td>\n",
       "      <td>14.9</td>\n",
       "      <td>2.3</td>\n",
       "      <td>0.133333</td>\n",
       "      <td>9.1</td>\n",
       "      <td>0.00029</td>\n",
       "      <td>0.019</td>\n",
       "    </tr>\n",
       "    <tr>\n",
       "      <th>4</th>\n",
       "      <td>Cow</td>\n",
       "      <td>Bos</td>\n",
       "      <td>herbi</td>\n",
       "      <td>Artiodactyla</td>\n",
       "      <td>domesticated</td>\n",
       "      <td>4.0</td>\n",
       "      <td>0.7</td>\n",
       "      <td>0.666667</td>\n",
       "      <td>20.0</td>\n",
       "      <td>0.42300</td>\n",
       "      <td>600.000</td>\n",
       "    </tr>\n",
       "    <tr>\n",
       "      <th>8</th>\n",
       "      <td>Dog</td>\n",
       "      <td>Canis</td>\n",
       "      <td>carni</td>\n",
       "      <td>Carnivora</td>\n",
       "      <td>domesticated</td>\n",
       "      <td>10.1</td>\n",
       "      <td>2.9</td>\n",
       "      <td>0.333333</td>\n",
       "      <td>13.9</td>\n",
       "      <td>0.07000</td>\n",
       "      <td>14.000</td>\n",
       "    </tr>\n",
       "    <tr>\n",
       "      <th>9</th>\n",
       "      <td>Roe deer</td>\n",
       "      <td>Capreolus</td>\n",
       "      <td>herbi</td>\n",
       "      <td>Artiodactyla</td>\n",
       "      <td>lc</td>\n",
       "      <td>3.0</td>\n",
       "      <td>NaN</td>\n",
       "      <td>NaN</td>\n",
       "      <td>21.0</td>\n",
       "      <td>0.09820</td>\n",
       "      <td>14.800</td>\n",
       "    </tr>\n",
       "  </tbody>\n",
       "</table>\n",
       "</div>"
      ],
      "text/plain": [
       "                         name      genus   vore         order  conservation  \\\n",
       "1                  Owl monkey      Aotus   omni      Primates           NaN   \n",
       "3  Greater short-tailed shrew    Blarina   omni  Soricomorpha            lc   \n",
       "4                         Cow        Bos  herbi  Artiodactyla  domesticated   \n",
       "8                         Dog      Canis  carni     Carnivora  domesticated   \n",
       "9                    Roe deer  Capreolus  herbi  Artiodactyla            lc   \n",
       "\n",
       "   sleep_total  sleep_rem  sleep_cycle  awake  brainwt   bodywt  \n",
       "1         17.0        1.8          NaN    7.0  0.01550    0.480  \n",
       "3         14.9        2.3     0.133333    9.1  0.00029    0.019  \n",
       "4          4.0        0.7     0.666667   20.0  0.42300  600.000  \n",
       "8         10.1        2.9     0.333333   13.9  0.07000   14.000  \n",
       "9          3.0        NaN          NaN   21.0  0.09820   14.800  "
      ]
     },
     "execution_count": 119,
     "metadata": {},
     "output_type": "execute_result"
    }
   ],
   "source": [
    "mammals.head()"
   ]
  },
  {
   "cell_type": "markdown",
   "metadata": {},
   "source": [
    "### Lets check out a scatter plot of body wieght and brain weight"
   ]
  },
  {
   "cell_type": "code",
   "execution_count": 120,
   "metadata": {
    "collapsed": false
   },
   "outputs": [
    {
     "data": {
      "image/png": "[encoded data removed]",
      "text/plain": [
       "<matplotlib.figure.Figure at 0x1ac62e76f60>"
      ]
     },
     "metadata": {},
     "output_type": "display_data"
    }
   ],
   "source": [
    "# create a matplotlib figure\n",
    "plt.figure()\n",
    "# generate a scatterplot inside the figure\n",
    "plt.plot(mammals.bodywt, mammals.brainwt, '.')\n",
    "# show the plot\n",
    "plt.show()"
   ]
  },
  {
   "cell_type": "code",
   "execution_count": 121,
   "metadata": {
    "collapsed": false
   },
   "outputs": [
    {
     "data": {
      "text/plain": [
       "<matplotlib.axes._subplots.AxesSubplot at 0x1ac62b280b8>"
      ]
     },
     "execution_count": 121,
     "metadata": {},
     "output_type": "execute_result"
    },
    {
     "data": {
      "image/png": "[encoded data removed]",
      "text/plain": [
       "<matplotlib.figure.Figure at 0x1ac6144a080>"
      ]
     },
     "metadata": {},
     "output_type": "display_data"
    }
   ],
   "source": [
    "sns.boxplot(mammals.bodywt)"
   ]
  },
  {
   "cell_type": "code",
   "execution_count": 122,
   "metadata": {
    "collapsed": false
   },
   "outputs": [
    {
     "data": {
      "text/plain": [
       "<matplotlib.axes._subplots.AxesSubplot at 0x1ac61a3f0b8>"
      ]
     },
     "execution_count": 122,
     "metadata": {},
     "output_type": "execute_result"
    },
    {
     "data": {
      "image/png": "[encoded data removed]",
      "text/plain": [
       "<matplotlib.figure.Figure at 0x1ac63c7f940>"
      ]
     },
     "metadata": {},
     "output_type": "display_data"
    }
   ],
   "source": [
    "sns.boxplot(mammals.brainwt)"
   ]
  },
  {
   "cell_type": "code",
   "execution_count": 123,
   "metadata": {
    "collapsed": false
   },
   "outputs": [
    {
     "data": {
      "text/plain": [
       "<seaborn.axisgrid.FacetGrid at 0x1ac61a07908>"
      ]
     },
     "execution_count": 123,
     "metadata": {},
     "output_type": "execute_result"
    },
    {
     "data": {
      "image/png": "[encoded data removed]",
      "text/plain": [
       "<matplotlib.figure.Figure at 0x1ac61a07780>"
      ]
     },
     "metadata": {},
     "output_type": "display_data"
    }
   ],
   "source": [
    "sns.lmplot('bodywt', 'brainwt', mammals)"
   ]
  },
  {
   "cell_type": "code",
   "execution_count": 130,
   "metadata": {
    "collapsed": false
   },
   "outputs": [],
   "source": [
    "log_columns = ['bodywt', 'brainwt']\n",
    "log_mammals = mammals.copy()\n",
    "log_mammals[log_columns] = log_mammals[log_columns].apply(np.log10)"
   ]
  },
  {
   "cell_type": "code",
   "execution_count": 131,
   "metadata": {
    "collapsed": false
   },
   "outputs": [
    {
     "data": {
      "text/plain": [
       "<matplotlib.axes._subplots.AxesSubplot at 0x1ac63991048>"
      ]
     },
     "execution_count": 131,
     "metadata": {},
     "output_type": "execute_result"
    },
    {
     "data": {
      "image/png": "[encoded data removed]",
      "text/plain": [
       "<matplotlib.figure.Figure at 0x1ac62bff320>"
      ]
     },
     "metadata": {},
     "output_type": "display_data"
    }
   ],
   "source": [
    "sns.boxplot(log_mammals.brainwt)"
   ]
  },
  {
   "cell_type": "code",
   "execution_count": 132,
   "metadata": {
    "collapsed": false
   },
   "outputs": [
    {
     "data": {
      "text/plain": [
       "<matplotlib.axes._subplots.AxesSubplot at 0x1ac637f1908>"
      ]
     },
     "execution_count": 132,
     "metadata": {},
     "output_type": "execute_result"
    },
    {
     "data": {
      "image/png": "[encoded data removed]",
      "text/plain": [
       "<matplotlib.figure.Figure at 0x1ac6393ab00>"
      ]
     },
     "metadata": {},
     "output_type": "display_data"
    }
   ],
   "source": [
    "sns.distplot(log_mammals.brainwt)"
   ]
  },
  {
   "cell_type": "code",
   "execution_count": 20,
   "metadata": {
    "collapsed": false
   },
   "outputs": [
    {
     "data": {
      "text/plain": [
       "<seaborn.axisgrid.FacetGrid at 0x1ac60dca6a0>"
      ]
     },
     "execution_count": 20,
     "metadata": {},
     "output_type": "execute_result"
    },
    {
     "data": {
      "image/png": "[encoded data removed]",
      "text/plain": [
       "<matplotlib.figure.Figure at 0x1ac60dca3c8>"
      ]
     },
     "metadata": {},
     "output_type": "display_data"
    }
   ],
   "source": [
    "sns.lmplot('bodywt', 'brainwt', log_mammals)"
   ]
  },
  {
   "cell_type": "markdown",
   "metadata": {},
   "source": [
    "## Guided Practice: Using Seaborn to generate single variable linear model plots (15 mins)\n",
    "Update and complete the code below to use lmplot and display correlations between body weight and two dependent variables: sleep_rem and awake.\n"
   ]
  },
  {
   "cell_type": "code",
   "execution_count": 21,
   "metadata": {
    "collapsed": true
   },
   "outputs": [],
   "source": [
    "log_columns = ['bodywt', 'brainwt','sleep_rem','awake']  # any others?\n",
    "log_mammals = mammals.copy()\n",
    "log_mammals[log_columns] = log_mammals[log_columns].apply(np.log10)"
   ]
  },
  {
   "cell_type": "markdown",
   "metadata": {},
   "source": [
    "##### Complete below for sleep_rem and awake as a y, with variables you've already used as x.\n"
   ]
  },
  {
   "cell_type": "code",
   "execution_count": 160,
   "metadata": {
    "collapsed": false
   },
   "outputs": [
    {
     "data": {
      "text/plain": [
       "<seaborn.axisgrid.FacetGrid at 0x1ac62cf2748>"
      ]
     },
     "execution_count": 160,
     "metadata": {},
     "output_type": "execute_result"
    },
    {
     "data": {
      "image/png": "[encoded data removed]",
      "text/plain": [
       "<matplotlib.figure.Figure at 0x1ac62cf2358>"
      ]
     },
     "metadata": {},
     "output_type": "display_data"
    },
    {
     "data": {
      "image/png": "[encoded data removed]",
      "text/plain": [
       "<matplotlib.figure.Figure at 0x1ac630dc5f8>"
      ]
     },
     "metadata": {},
     "output_type": "display_data"
    }
   ],
   "source": [
    "x = 'sleep_rem'\n",
    "y = 'awake'\n",
    "sns.lmplot(x, y, mammals)\n",
    "sns.lmplot(x, y, log_mammals)"
   ]
  },
  {
   "cell_type": "markdown",
   "metadata": {},
   "source": [
    "#### Solution:"
   ]
  },
  {
   "cell_type": "code",
   "execution_count": 41,
   "metadata": {
    "collapsed": false
   },
   "outputs": [
    {
     "data": {
      "text/plain": [
       "<seaborn.axisgrid.FacetGrid at 0x10b68ae10>"
      ]
     },
     "execution_count": 41,
     "metadata": {},
     "output_type": "execute_result"
    },
    {
     "data": {
      "image/png": "[encoded data removed]",
      "text/plain": [
       "<matplotlib.figure.Figure at 0x1099f5650>"
      ]
     },
     "metadata": {},
     "output_type": "display_data"
    },
    {
     "data": {
      "image/png": "[encoded data removed]",
      "text/plain": [
       "<matplotlib.figure.Figure at 0x109970c90>"
      ]
     },
     "metadata": {},
     "output_type": "display_data"
    }
   ],
   "source": [
    "log_columns = ['bodywt', 'brainwt', 'awake', 'sleep_rem']  # any others?\n",
    "log_mammals = mammals.copy()\n",
    "log_mammals[log_columns] = log_mammals[log_columns].apply(np.log10)\n",
    "\n",
    "# one other example, using brainwt and awake.\n",
    "x = 'brainwt'\n",
    "y = 'awake'\n",
    "sns.lmplot(x, y, mammals)\n",
    "sns.lmplot(x, y, log_mammals)"
   ]
  },
  {
   "cell_type": "code",
   "execution_count": 35,
   "metadata": {
    "collapsed": false
   },
   "outputs": [
    {
     "data": {
      "text/plain": [
       "(56, 11)"
      ]
     },
     "execution_count": 35,
     "metadata": {},
     "output_type": "execute_result"
    }
   ],
   "source": [
    "mammals.shape"
   ]
  },
  {
   "cell_type": "code",
   "execution_count": 171,
   "metadata": {
    "collapsed": false
   },
   "outputs": [
    {
     "data": {
      "text/html": [
       "<div>\n",
       "<table border=\"1\" class=\"dataframe\">\n",
       "  <thead>\n",
       "    <tr style=\"text-align: right;\">\n",
       "      <th></th>\n",
       "      <th>name</th>\n",
       "      <th>genus</th>\n",
       "      <th>vore</th>\n",
       "      <th>order</th>\n",
       "      <th>conservation</th>\n",
       "      <th>sleep_total</th>\n",
       "      <th>sleep_rem</th>\n",
       "      <th>sleep_cycle</th>\n",
       "      <th>awake</th>\n",
       "      <th>brainwt</th>\n",
       "      <th>bodywt</th>\n",
       "    </tr>\n",
       "  </thead>\n",
       "  <tbody>\n",
       "    <tr>\n",
       "      <th>1</th>\n",
       "      <td>Owl monkey</td>\n",
       "      <td>Aotus</td>\n",
       "      <td>omni</td>\n",
       "      <td>Primates</td>\n",
       "      <td>NaN</td>\n",
       "      <td>17.0</td>\n",
       "      <td>1.8</td>\n",
       "      <td>NaN</td>\n",
       "      <td>7.0</td>\n",
       "      <td>0.01550</td>\n",
       "      <td>0.480</td>\n",
       "    </tr>\n",
       "    <tr>\n",
       "      <th>3</th>\n",
       "      <td>Greater short-tailed shrew</td>\n",
       "      <td>Blarina</td>\n",
       "      <td>omni</td>\n",
       "      <td>Soricomorpha</td>\n",
       "      <td>lc</td>\n",
       "      <td>14.9</td>\n",
       "      <td>2.3</td>\n",
       "      <td>0.133333</td>\n",
       "      <td>9.1</td>\n",
       "      <td>0.00029</td>\n",
       "      <td>0.019</td>\n",
       "    </tr>\n",
       "    <tr>\n",
       "      <th>4</th>\n",
       "      <td>Cow</td>\n",
       "      <td>Bos</td>\n",
       "      <td>herbi</td>\n",
       "      <td>Artiodactyla</td>\n",
       "      <td>domesticated</td>\n",
       "      <td>4.0</td>\n",
       "      <td>0.7</td>\n",
       "      <td>0.666667</td>\n",
       "      <td>20.0</td>\n",
       "      <td>0.42300</td>\n",
       "      <td>600.000</td>\n",
       "    </tr>\n",
       "    <tr>\n",
       "      <th>8</th>\n",
       "      <td>Dog</td>\n",
       "      <td>Canis</td>\n",
       "      <td>carni</td>\n",
       "      <td>Carnivora</td>\n",
       "      <td>domesticated</td>\n",
       "      <td>10.1</td>\n",
       "      <td>2.9</td>\n",
       "      <td>0.333333</td>\n",
       "      <td>13.9</td>\n",
       "      <td>0.07000</td>\n",
       "      <td>14.000</td>\n",
       "    </tr>\n",
       "    <tr>\n",
       "      <th>9</th>\n",
       "      <td>Roe deer</td>\n",
       "      <td>Capreolus</td>\n",
       "      <td>herbi</td>\n",
       "      <td>Artiodactyla</td>\n",
       "      <td>lc</td>\n",
       "      <td>3.0</td>\n",
       "      <td>NaN</td>\n",
       "      <td>NaN</td>\n",
       "      <td>21.0</td>\n",
       "      <td>0.09820</td>\n",
       "      <td>14.800</td>\n",
       "    </tr>\n",
       "  </tbody>\n",
       "</table>\n",
       "</div>"
      ],
      "text/plain": [
       "                         name      genus   vore         order  conservation  \\\n",
       "1                  Owl monkey      Aotus   omni      Primates           NaN   \n",
       "3  Greater short-tailed shrew    Blarina   omni  Soricomorpha            lc   \n",
       "4                         Cow        Bos  herbi  Artiodactyla  domesticated   \n",
       "8                         Dog      Canis  carni     Carnivora  domesticated   \n",
       "9                    Roe deer  Capreolus  herbi  Artiodactyla            lc   \n",
       "\n",
       "   sleep_total  sleep_rem  sleep_cycle  awake  brainwt   bodywt  \n",
       "1         17.0        1.8          NaN    7.0  0.01550    0.480  \n",
       "3         14.9        2.3     0.133333    9.1  0.00029    0.019  \n",
       "4          4.0        0.7     0.666667   20.0  0.42300  600.000  \n",
       "8         10.1        2.9     0.333333   13.9  0.07000   14.000  \n",
       "9          3.0        NaN          NaN   21.0  0.09820   14.800  "
      ]
     },
     "execution_count": 171,
     "metadata": {},
     "output_type": "execute_result"
    }
   ],
   "source": [
    "mammals.head()"
   ]
  },
  {
   "cell_type": "markdown",
   "metadata": {},
   "source": [
    "## Introduction: Single Regression Analysis in statsmodels & scikit (10 mins)"
   ]
  },
  {
   "cell_type": "code",
   "execution_count": 172,
   "metadata": {
    "collapsed": false
   },
   "outputs": [
    {
     "data": {
      "text/html": [
       "<table class=\"simpletable\">\n",
       "<caption>OLS Regression Results</caption>\n",
       "<tr>\n",
       "  <th>Dep. Variable:</th>         <td>brainwt</td>     <th>  R-squared:         </th> <td>   0.872</td>\n",
       "</tr>\n",
       "<tr>\n",
       "  <th>Model:</th>                   <td>OLS</td>       <th>  Adj. R-squared:    </th> <td>   0.870</td>\n",
       "</tr>\n",
       "<tr>\n",
       "  <th>Method:</th>             <td>Least Squares</td>  <th>  F-statistic:       </th> <td>   367.7</td>\n",
       "</tr>\n",
       "<tr>\n",
       "  <th>Date:</th>             <td>Mon, 09 Oct 2017</td> <th>  Prob (F-statistic):</th> <td>9.16e-26</td>\n",
       "</tr>\n",
       "<tr>\n",
       "  <th>Time:</th>                 <td>19:28:18</td>     <th>  Log-Likelihood:    </th> <td> -20.070</td>\n",
       "</tr>\n",
       "<tr>\n",
       "  <th>No. Observations:</th>      <td>    56</td>      <th>  AIC:               </th> <td>   44.14</td>\n",
       "</tr>\n",
       "<tr>\n",
       "  <th>Df Residuals:</th>          <td>    54</td>      <th>  BIC:               </th> <td>   48.19</td>\n",
       "</tr>\n",
       "<tr>\n",
       "  <th>Df Model:</th>              <td>     1</td>      <th>                     </th>     <td> </td>   \n",
       "</tr>\n",
       "<tr>\n",
       "  <th>Covariance Type:</th>      <td>nonrobust</td>    <th>                     </th>     <td> </td>   \n",
       "</tr>\n",
       "</table>\n",
       "<table class=\"simpletable\">\n",
       "<tr>\n",
       "      <td></td>         <th>coef</th>     <th>std err</th>      <th>t</th>      <th>P>|t|</th>  <th>[0.025</th>    <th>0.975]</th>  \n",
       "</tr>\n",
       "<tr>\n",
       "  <th>Intercept</th> <td>    0.0859</td> <td>    0.048</td> <td>    1.782</td> <td> 0.080</td> <td>   -0.011</td> <td>    0.183</td>\n",
       "</tr>\n",
       "<tr>\n",
       "  <th>bodywt</th>    <td>    0.0010</td> <td> 5.03e-05</td> <td>   19.176</td> <td> 0.000</td> <td>    0.001</td> <td>    0.001</td>\n",
       "</tr>\n",
       "</table>\n",
       "<table class=\"simpletable\">\n",
       "<tr>\n",
       "  <th>Omnibus:</th>       <td>85.068</td> <th>  Durbin-Watson:     </th> <td>   2.376</td> \n",
       "</tr>\n",
       "<tr>\n",
       "  <th>Prob(Omnibus):</th> <td> 0.000</td> <th>  Jarque-Bera (JB):  </th> <td>1330.630</td> \n",
       "</tr>\n",
       "<tr>\n",
       "  <th>Skew:</th>          <td> 4.258</td> <th>  Prob(JB):          </th> <td>1.14e-289</td>\n",
       "</tr>\n",
       "<tr>\n",
       "  <th>Kurtosis:</th>      <td>25.311</td> <th>  Cond. No.          </th> <td>    981.</td> \n",
       "</tr>\n",
       "</table>"
      ],
      "text/plain": [
       "<class 'statsmodels.iolib.summary.Summary'>\n",
       "\"\"\"\n",
       "                            OLS Regression Results                            \n",
       "==============================================================================\n",
       "Dep. Variable:                brainwt   R-squared:                       0.872\n",
       "Model:                            OLS   Adj. R-squared:                  0.870\n",
       "Method:                 Least Squares   F-statistic:                     367.7\n",
       "Date:                Mon, 09 Oct 2017   Prob (F-statistic):           9.16e-26\n",
       "Time:                        19:28:18   Log-Likelihood:                -20.070\n",
       "No. Observations:                  56   AIC:                             44.14\n",
       "Df Residuals:                      54   BIC:                             48.19\n",
       "Df Model:                           1                                         \n",
       "Covariance Type:            nonrobust                                         \n",
       "==============================================================================\n",
       "                 coef    std err          t      P>|t|      [0.025      0.975]\n",
       "------------------------------------------------------------------------------\n",
       "Intercept      0.0859      0.048      1.782      0.080      -0.011       0.183\n",
       "bodywt         0.0010   5.03e-05     19.176      0.000       0.001       0.001\n",
       "==============================================================================\n",
       "Omnibus:                       85.068   Durbin-Watson:                   2.376\n",
       "Prob(Omnibus):                  0.000   Jarque-Bera (JB):             1330.630\n",
       "Skew:                           4.258   Prob(JB):                    1.14e-289\n",
       "Kurtosis:                      25.311   Cond. No.                         981.\n",
       "==============================================================================\n",
       "\n",
       "Warnings:\n",
       "[1] Standard Errors assume that the covariance matrix of the errors is correctly specified.\n",
       "\"\"\""
      ]
     },
     "execution_count": 172,
     "metadata": {},
     "output_type": "execute_result"
    }
   ],
   "source": [
    "# this is the standard import if you're using \"formula notation\" (similar to R)\n",
    "import statsmodels.formula.api as smf\n",
    "\n",
    "X = mammals[['bodywt']]\n",
    "y = mammals['brainwt']\n",
    "\n",
    "# create a fitted model in one line\n",
    "#formula notiation is the equivalent to writting out our models such that 'outcome = predictor'\n",
    "#with the follwing syntax formula = 'outcome ~ predictor1 + predictor2 ... predictorN'\n",
    "lm = smf.ols(formula='brainwt ~ bodywt', data=mammals).fit()\n",
    "#print the full summary\n",
    "lm.summary()"
   ]
  },
  {
   "cell_type": "markdown",
   "metadata": {},
   "source": [
    "#### use Statsmodels to make the prediction"
   ]
  },
  {
   "cell_type": "code",
   "execution_count": 169,
   "metadata": {
    "collapsed": false
   },
   "outputs": [
    {
     "data": {
      "text/html": [
       "<div>\n",
       "<table border=\"1\" class=\"dataframe\">\n",
       "  <thead>\n",
       "    <tr style=\"text-align: right;\">\n",
       "      <th></th>\n",
       "      <th>X</th>\n",
       "    </tr>\n",
       "  </thead>\n",
       "  <tbody>\n",
       "    <tr>\n",
       "      <th>0</th>\n",
       "      <td>50</td>\n",
       "    </tr>\n",
       "    <tr>\n",
       "      <th>1</th>\n",
       "      <td>30</td>\n",
       "    </tr>\n",
       "    <tr>\n",
       "      <th>2</th>\n",
       "      <td>20</td>\n",
       "    </tr>\n",
       "    <tr>\n",
       "      <th>3</th>\n",
       "      <td>40</td>\n",
       "    </tr>\n",
       "  </tbody>\n",
       "</table>\n",
       "</div>"
      ],
      "text/plain": [
       "    X\n",
       "0  50\n",
       "1  30\n",
       "2  20\n",
       "3  40"
      ]
     },
     "execution_count": 169,
     "metadata": {},
     "output_type": "execute_result"
    }
   ],
   "source": [
    "# you have to create a DataFrame since the Statsmodels formula interface expects it\n",
    "X_new = pd.DataFrame({'X': [50, 30, 20, 40]})\n",
    "X_new.head()"
   ]
  },
  {
   "cell_type": "code",
   "execution_count": 170,
   "metadata": {
    "collapsed": false
   },
   "outputs": [
    {
     "data": {
      "text/plain": [
       "0    0.134115\n",
       "1    0.114836\n",
       "2    0.105196\n",
       "3    0.124475\n",
       "dtype: float64"
      ]
     },
     "execution_count": 170,
     "metadata": {},
     "output_type": "execute_result"
    }
   ],
   "source": [
    "lm.predict(X_new)"
   ]
  },
  {
   "cell_type": "code",
   "execution_count": 173,
   "metadata": {
    "collapsed": false
   },
   "outputs": [
    {
     "name": "stdout",
     "output_type": "stream",
     "text": [
      "F-statistic: 367.708,  p-value: 0.00000\n",
      "56.0\n"
     ]
    }
   ],
   "source": [
    "import scipy\n",
    "N = lm.nobs\n",
    "P = lm.df_model\n",
    "dfn, dfd = P, N - P - 1\n",
    "F = lm.mse_model / lm.mse_resid\n",
    "p = 1.0 - scipy.stats.f.cdf(F,dfn,dfd)\n",
    "print('F-statistic: {:.3f},  p-value: {:.5f}'.format( F, p ))\n",
    "print(N)"
   ]
  },
  {
   "cell_type": "markdown",
   "metadata": {},
   "source": [
    "### Repeat in Scikit with handy plotting"
   ]
  },
  {
   "cell_type": "markdown",
   "metadata": {},
   "source": [
    "When modeling with sklearn, you'll use the following base principals.\n",
    "\n",
    "- All sklearn estimators (modeling classes) are based on this base estimator. This allows you to easily rotate through estimators without changing much code.\n",
    "- All estimators take a matrix, X, either sparse or dense.\n",
    "- Many estimators also take a vector, y, when working on a supervised machine learning problem. Regressions are supervised learning because we already have examples of y given X.\n",
    "- All estimators have parameters that can be set. This allows for customization and higher level of detail to the learning process. The parameters are appropriate to each estimator algorithm."
   ]
  },
  {
   "cell_type": "code",
   "execution_count": 175,
   "metadata": {
    "collapsed": false
   },
   "outputs": [
    {
     "data": {
      "text/plain": [
       "(array([ 367.70762848]), array([  9.15540205e-26]))"
      ]
     },
     "execution_count": 175,
     "metadata": {},
     "output_type": "execute_result"
    }
   ],
   "source": [
    "X = mammals[['bodywt']]\n",
    "y = mammals['brainwt']\n",
    "feature_selection.f_regression(X, y)"
   ]
  },
  {
   "cell_type": "code",
   "execution_count": 177,
   "metadata": {
    "collapsed": false
   },
   "outputs": [
    {
     "data": {
      "text/plain": [
       "array([ 0.08638001,  0.08593563,  0.66428685,  0.0994126 ,  0.10018376,\n",
       "        0.11820961,  0.08661907,  0.08632217,  0.08597515,  0.08688126,\n",
       "        0.08592213,  0.08929113,  0.08876096,  0.08755602,  2.54109599,\n",
       "        0.08593948,  0.58813486,  0.26617582,  0.08665955,  0.0955568 ,\n",
       "        0.08909834,  0.0861101 ,  0.16785299,  0.08844768,  0.14568216,\n",
       "        6.50003547,  0.09247217,  0.08603298,  0.08593852,  0.08592695,\n",
       "        0.08726684,  0.08832718,  0.13941649,  0.13623546,  0.18231223,\n",
       "        0.11024257,  0.08644748,  0.08747891,  0.14375426,  0.08938753,\n",
       "        0.08622577,  0.08663352,  0.08598961,  0.08605997,  0.08603491,\n",
       "        0.08680414,  0.08601467,  0.08596358,  0.16905793,  0.09025508,\n",
       "        0.28593774,  0.08678486,  0.08601756,  0.08784521,  0.08917546,\n",
       "        0.08999482])"
      ]
     },
     "execution_count": 177,
     "metadata": {},
     "output_type": "execute_result"
    }
   ],
   "source": [
    "lm.predict(X)"
   ]
  },
  {
   "cell_type": "code",
   "execution_count": 179,
   "metadata": {
    "collapsed": false
   },
   "outputs": [
    {
     "name": "stdout",
     "output_type": "stream",
     "text": [
      "P Values: [  9.15540205e-26]\n",
      "F Stats: [ 367.70762848]\n",
      "Coefficients: [ 0.00096395]\n",
      "y-intercept: 0.0859173102936\n",
      "R-Squared: 0.871949198087\n"
     ]
    },
    {
     "data": {
      "image/png": "[encoded data removed]",
      "text/plain": [
       "<matplotlib.figure.Figure at 0x1ac6384b828>"
      ]
     },
     "metadata": {},
     "output_type": "display_data"
    }
   ],
   "source": [
    "from sklearn import feature_selection, linear_model\n",
    "\n",
    "def get_linear_model_metrics(X, y, algo):\n",
    "    # get the pvalue of X given y. Ignore f-stat for now.\n",
    "    pvals = feature_selection.f_regression(X, y)[1]\n",
    "    fstats = feature_selection.f_regression(X, y)[0]\n",
    "    # start with an empty linear regression object\n",
    "    # .fit() runs the linear regression function on X and y\n",
    "    algo.fit(X,y)\n",
    "    residuals = (y-algo.predict(X)).values\n",
    "\n",
    "    # print the necessary values\n",
    "    print('P Values:', pvals)\n",
    "    print('F Stats:', fstats)\n",
    "    print('Coefficients:', algo.coef_)\n",
    "    print('y-intercept:', algo.intercept_)\n",
    "    print('R-Squared:', algo.score(X,y))\n",
    "    plt.figure()\n",
    "    #plt.hist(residuals, bins=int(np.ceil(np.sqrt(len(y)))))\n",
    "    sns.distplot(residuals)\n",
    "    # keep the model\n",
    "    return algo\n",
    "\n",
    "X = mammals[['bodywt']]\n",
    "y = mammals['brainwt']\n",
    "lm = linear_model.LinearRegression()\n",
    "lm = get_linear_model_metrics(X, y, lm)"
   ]
  },
  {
   "cell_type": "markdown",
   "metadata": {},
   "source": [
    "## Demo: Significance is Key (20 mins)"
   ]
  },
  {
   "cell_type": "markdown",
   "metadata": {},
   "source": [
    "### What does our output tell us?"
   ]
  },
  {
   "cell_type": "markdown",
   "metadata": {},
   "source": [
    "Our output tells us that:\n",
    "\n",
    "* The relationship between bodywt and brainwt isn't random (p value approaching 0)  \n",
    "* The model explains, roughly, 87% of the variance of the dataset (the largest errors being in the large brain and body sizes)  \n",
    "* With this current model, brainwt is roughly bodywt * 0.00096395  \n",
    "* The residuals, or error in the prediction, is not normal, with outliers on the right. A better model will have similar to normally distributed error."
   ]
  },
  {
   "cell_type": "markdown",
   "metadata": {},
   "source": [
    "### Evaluating Fit, Evaluating Sense"
   ]
  },
  {
   "cell_type": "markdown",
   "metadata": {},
   "source": [
    "Although we know there is a better solution to the model, we should evaluate some other sense things first. For example, given this model, what is an animal's brainwt if their bodywt is 0?"
   ]
  },
  {
   "cell_type": "code",
   "execution_count": 46,
   "metadata": {
    "collapsed": false
   },
   "outputs": [
    {
     "name": "stdout",
     "output_type": "stream",
     "text": [
      "[ 0.08591731]\n"
     ]
    }
   ],
   "source": [
    "# prediction at 0?\n",
    "print lm.predict([[0]])"
   ]
  },
  {
   "cell_type": "code",
   "execution_count": 181,
   "metadata": {
    "collapsed": false
   },
   "outputs": [
    {
     "name": "stdout",
     "output_type": "stream",
     "text": [
      "P Values: [  9.15540205e-26]\n",
      "F Stats: [ 367.70762848]\n",
      "Coefficients: [ 0.00098291]\n",
      "y-intercept: 0.0\n",
      "R-Squared: 0.864418807451\n",
      "[ 0.]\n"
     ]
    },
    {
     "data": {
      "image/png": "[encoded data removed]",
      "text/plain": [
       "<matplotlib.figure.Figure at 0x1ac6522cac8>"
      ]
     },
     "metadata": {},
     "output_type": "display_data"
    }
   ],
   "source": [
    "lm = linear_model.LinearRegression(fit_intercept=False)\n",
    "lm = get_linear_model_metrics(X, y, lm)\n",
    "# prediction at 0?\n",
    "print(lm.predict([[0]]))"
   ]
  },
  {
   "cell_type": "markdown",
   "metadata": {},
   "source": [
    "#### Intrepretation\n",
    "With linear modeling we call this part of the linear assumption. Consider it a test to the model. If an animal's body weights nothing, we expect their brain to be nonexistent. That given, we can improve the model by telling sklearn's LinearRegression object we do not want to fit a y intercept."
   ]
  },
  {
   "cell_type": "markdown",
   "metadata": {},
   "source": [
    "Now, the model fits where brainwt = 0, bodywt = 0.\n",
    "Because we start at 0, the large outliers have a greater effect, so the coefficient has increased.\n",
    "Fitting the this linear assumption also explains slightly less of the variance."
   ]
  },
  {
   "cell_type": "markdown",
   "metadata": {},
   "source": [
    "## Guided Practice: Using the LinearRegression object (15 mins)\n",
    "\n",
    "We learned earlier that the the data in its current state does not allow for the best linear regression fit. \n",
    "\n",
    "With a partner, generate two more models using the log-transformed data to see how this transform changes the model's performance. \n",
    "\n",
    "Complete the following code to update X and y to match the log-transformed data. Complete the loop by setting the list to be one True and one False."
   ]
  },
  {
   "cell_type": "code",
   "execution_count": 49,
   "metadata": {
    "collapsed": false
   },
   "outputs": [
    {
     "ename": "SyntaxError",
     "evalue": "invalid syntax (<ipython-input-49-04cc83d21c13>, line 2)",
     "output_type": "error",
     "traceback": [
      "\u001b[0;36m  File \u001b[0;32m\"<ipython-input-49-04cc83d21c13>\"\u001b[0;36m, line \u001b[0;32m2\u001b[0m\n\u001b[0;31m    X =\u001b[0m\n\u001b[0m       ^\u001b[0m\n\u001b[0;31mSyntaxError\u001b[0m\u001b[0;31m:\u001b[0m invalid syntax\n"
     ]
    }
   ],
   "source": [
    "#starter\n",
    "X =\n",
    "y =\n",
    "loop = []\n",
    "for boolean in loop:\n",
    "    print('y-intercept:', boolean)\n",
    "    lm = linear_model.LinearRegression(fit_intercept=boolean)\n",
    "    get_linear_model_metrics(X, y, lm)\n",
    "    print"
   ]
  },
  {
   "cell_type": "code",
   "execution_count": 137,
   "metadata": {
    "collapsed": false
   },
   "outputs": [
    {
     "name": "stdout",
     "output_type": "stream",
     "text": [
      "y-intercept: True\n",
      "P Values: [  3.56282243e-33]\n",
      "F Stats: [ 738.38855464]\n",
      "Coefficients: [ 0.76516177]\n",
      "y-intercept: -2.07393164084\n",
      "R-Squared: 0.931851615367\n",
      "y-intercept: False\n",
      "P Values: [  3.56282243e-33]\n",
      "F Stats: [ 738.38855464]\n",
      "Coefficients: [ 0.35561441]\n",
      "y-intercept: 0.0\n",
      "R-Squared: -2.41053211437\n"
     ]
    },
    {
     "data": {
      "image/png": "[encoded data removed]",
      "text/plain": [
       "<matplotlib.figure.Figure at 0x1ac630a06d8>"
      ]
     },
     "metadata": {},
     "output_type": "display_data"
    },
    {
     "data": {
      "image/png": "[encoded data removed]",
      "text/plain": [
       "<matplotlib.figure.Figure at 0x1ac62eba518>"
      ]
     },
     "metadata": {},
     "output_type": "display_data"
    }
   ],
   "source": [
    "#solution\n",
    "X = log_mammals[['bodywt']]\n",
    "y = log_mammals['brainwt']\n",
    "loop = [True, False]\n",
    "for boolean in loop:\n",
    "    print('y-intercept:', boolean)\n",
    "    lm = linear_model.LinearRegression(fit_intercept=boolean)\n",
    "    get_linear_model_metrics(X, y, lm)\n",
    "    print\n"
   ]
  },
  {
   "cell_type": "markdown",
   "metadata": {},
   "source": [
    "### Check: Which model performed the best? The worst? Why?\n",
    "\n"
   ]
  },
  {
   "cell_type": "markdown",
   "metadata": {},
   "source": [
    "### Advanced Methods! \n",
    "\n",
    "We will go over different estimators in detail in the future but check it out in the docs if you're curious..."
   ]
  },
  {
   "cell_type": "code",
   "execution_count": 139,
   "metadata": {
    "collapsed": false
   },
   "outputs": [
    {
     "name": "stdout",
     "output_type": "stream",
     "text": [
      "Lasso(alpha=1.0, copy_X=True, fit_intercept=True, max_iter=1000,\n",
      "   normalize=False, positive=False, precompute=False, random_state=None,\n",
      "   selection='cyclic', tol=0.0001, warm_start=False)\n",
      "P Values: [  3.56282243e-33]\n",
      "F Stats: [ 738.38855464]\n",
      "Coefficients: [ 0.23454772]\n",
      "y-intercept: -1.85931606304\n",
      "R-Squared: 0.483728109403\n",
      "Ridge(alpha=1.0, copy_X=True, fit_intercept=True, max_iter=None,\n",
      "   normalize=False, random_state=None, solver='auto', tol=0.001)\n",
      "P Values: [  3.56282243e-33]\n",
      "F Stats: [ 738.38855464]\n",
      "Coefficients: [ 0.75797972]\n",
      "y-intercept: -2.07102674342\n",
      "R-Squared: 0.931769516561\n",
      "ElasticNet(alpha=1.0, copy_X=True, fit_intercept=True, l1_ratio=0.5,\n",
      "      max_iter=1000, normalize=False, positive=False, precompute=False,\n",
      "      random_state=None, selection='cyclic', tol=0.0001, warm_start=False)\n",
      "P Values: [  3.56282243e-33]\n",
      "F Stats: [ 738.38855464]\n",
      "Coefficients: [ 0.39504621]\n",
      "y-intercept: -1.9242323166\n",
      "R-Squared: 0.71382228495\n"
     ]
    },
    {
     "data": {
      "image/png": "[encoded data removed]",
      "text/plain": [
       "<matplotlib.figure.Figure at 0x1ac637f27f0>"
      ]
     },
     "metadata": {},
     "output_type": "display_data"
    },
    {
     "data": {
      "image/png": "[encoded data removed]",
      "text/plain": [
       "<matplotlib.figure.Figure at 0x1ac63a71b00>"
      ]
     },
     "metadata": {},
     "output_type": "display_data"
    },
    {
     "data": {
      "image/png": "[encoded data removed]",
      "text/plain": [
       "<matplotlib.figure.Figure at 0x1ac630f4dd8>"
      ]
     },
     "metadata": {},
     "output_type": "display_data"
    }
   ],
   "source": [
    "# loading other sklearn regression estimators\n",
    "X = log_mammals[['bodywt']]\n",
    "y = log_mammals['brainwt']\n",
    "\n",
    "estimators = [\n",
    "    linear_model.Lasso(),\n",
    "    linear_model.Ridge(),\n",
    "    linear_model.ElasticNet(),\n",
    "]\n",
    "\n",
    "for est in estimators:\n",
    "    print(est)\n",
    "    get_linear_model_metrics(X, y, est)\n",
    "    print\n"
   ]
  },
  {
   "cell_type": "markdown",
   "metadata": {},
   "source": [
    "## Introduction: Multiple Regression Analysis using citi bike data (10 minutes)\n"
   ]
  },
  {
   "cell_type": "markdown",
   "metadata": {},
   "source": [
    "In the previous example, one variable explained the variance of another; however, more often than not, we will need multiple variables. \n",
    "\n",
    "For example, a house's price may be best measured by square feet, but a lot of other variables play a vital role: bedrooms, bathrooms, location, appliances, etc. \n",
    "\n",
    "For a linear regression, we want these variables to be largely independent of each other, but all of them should help explain the y variable.\n",
    "\n",
    "We'll work with bikeshare data to showcase what this means and to explain a concept called multicollinearity."
   ]
  },
  {
   "cell_type": "code",
   "execution_count": 94,
   "metadata": {
    "collapsed": false
   },
   "outputs": [
    {
     "data": {
      "text/html": [
       "<div>\n",
       "<table border=\"1\" class=\"dataframe\">\n",
       "  <thead>\n",
       "    <tr style=\"text-align: right;\">\n",
       "      <th></th>\n",
       "      <th>instant</th>\n",
       "      <th>dteday</th>\n",
       "      <th>season</th>\n",
       "      <th>yr</th>\n",
       "      <th>mnth</th>\n",
       "      <th>hr</th>\n",
       "      <th>holiday</th>\n",
       "      <th>weekday</th>\n",
       "      <th>workingday</th>\n",
       "      <th>weathersit</th>\n",
       "      <th>temp</th>\n",
       "      <th>atemp</th>\n",
       "      <th>hum</th>\n",
       "      <th>windspeed</th>\n",
       "      <th>casual</th>\n",
       "      <th>registered</th>\n",
       "      <th>cnt</th>\n",
       "    </tr>\n",
       "  </thead>\n",
       "  <tbody>\n",
       "    <tr>\n",
       "      <th>0</th>\n",
       "      <td>1</td>\n",
       "      <td>2011-01-01</td>\n",
       "      <td>1</td>\n",
       "      <td>0</td>\n",
       "      <td>1</td>\n",
       "      <td>0</td>\n",
       "      <td>0</td>\n",
       "      <td>6</td>\n",
       "      <td>0</td>\n",
       "      <td>1</td>\n",
       "      <td>0.24</td>\n",
       "      <td>0.2879</td>\n",
       "      <td>0.81</td>\n",
       "      <td>0.0</td>\n",
       "      <td>3</td>\n",
       "      <td>13</td>\n",
       "      <td>16</td>\n",
       "    </tr>\n",
       "    <tr>\n",
       "      <th>1</th>\n",
       "      <td>2</td>\n",
       "      <td>2011-01-01</td>\n",
       "      <td>1</td>\n",
       "      <td>0</td>\n",
       "      <td>1</td>\n",
       "      <td>1</td>\n",
       "      <td>0</td>\n",
       "      <td>6</td>\n",
       "      <td>0</td>\n",
       "      <td>1</td>\n",
       "      <td>0.22</td>\n",
       "      <td>0.2727</td>\n",
       "      <td>0.80</td>\n",
       "      <td>0.0</td>\n",
       "      <td>8</td>\n",
       "      <td>32</td>\n",
       "      <td>40</td>\n",
       "    </tr>\n",
       "    <tr>\n",
       "      <th>2</th>\n",
       "      <td>3</td>\n",
       "      <td>2011-01-01</td>\n",
       "      <td>1</td>\n",
       "      <td>0</td>\n",
       "      <td>1</td>\n",
       "      <td>2</td>\n",
       "      <td>0</td>\n",
       "      <td>6</td>\n",
       "      <td>0</td>\n",
       "      <td>1</td>\n",
       "      <td>0.22</td>\n",
       "      <td>0.2727</td>\n",
       "      <td>0.80</td>\n",
       "      <td>0.0</td>\n",
       "      <td>5</td>\n",
       "      <td>27</td>\n",
       "      <td>32</td>\n",
       "    </tr>\n",
       "    <tr>\n",
       "      <th>3</th>\n",
       "      <td>4</td>\n",
       "      <td>2011-01-01</td>\n",
       "      <td>1</td>\n",
       "      <td>0</td>\n",
       "      <td>1</td>\n",
       "      <td>3</td>\n",
       "      <td>0</td>\n",
       "      <td>6</td>\n",
       "      <td>0</td>\n",
       "      <td>1</td>\n",
       "      <td>0.24</td>\n",
       "      <td>0.2879</td>\n",
       "      <td>0.75</td>\n",
       "      <td>0.0</td>\n",
       "      <td>3</td>\n",
       "      <td>10</td>\n",
       "      <td>13</td>\n",
       "    </tr>\n",
       "    <tr>\n",
       "      <th>4</th>\n",
       "      <td>5</td>\n",
       "      <td>2011-01-01</td>\n",
       "      <td>1</td>\n",
       "      <td>0</td>\n",
       "      <td>1</td>\n",
       "      <td>4</td>\n",
       "      <td>0</td>\n",
       "      <td>6</td>\n",
       "      <td>0</td>\n",
       "      <td>1</td>\n",
       "      <td>0.24</td>\n",
       "      <td>0.2879</td>\n",
       "      <td>0.75</td>\n",
       "      <td>0.0</td>\n",
       "      <td>0</td>\n",
       "      <td>1</td>\n",
       "      <td>1</td>\n",
       "    </tr>\n",
       "  </tbody>\n",
       "</table>\n",
       "</div>"
      ],
      "text/plain": [
       "   instant      dteday  season  yr  mnth  hr  holiday  weekday  workingday  \\\n",
       "0        1  2011-01-01       1   0     1   0        0        6           0   \n",
       "1        2  2011-01-01       1   0     1   1        0        6           0   \n",
       "2        3  2011-01-01       1   0     1   2        0        6           0   \n",
       "3        4  2011-01-01       1   0     1   3        0        6           0   \n",
       "4        5  2011-01-01       1   0     1   4        0        6           0   \n",
       "\n",
       "   weathersit  temp   atemp   hum  windspeed  casual  registered  cnt  \n",
       "0           1  0.24  0.2879  0.81        0.0       3          13   16  \n",
       "1           1  0.22  0.2727  0.80        0.0       8          32   40  \n",
       "2           1  0.22  0.2727  0.80        0.0       5          27   32  \n",
       "3           1  0.24  0.2879  0.75        0.0       3          10   13  \n",
       "4           1  0.24  0.2879  0.75        0.0       0           1    1  "
      ]
     },
     "execution_count": 94,
     "metadata": {},
     "output_type": "execute_result"
    }
   ],
   "source": [
    "wd = '../../assets/dataset/bikeshare/'\n",
    "bike_data = pd.read_csv(wd+'bikeshare.csv')\n",
    "bike_data.head()"
   ]
  },
  {
   "cell_type": "markdown",
   "metadata": {},
   "source": [
    "### What is Multicollinearity?\n",
    "\n",
    "With the bike share data, let's compare three data points: actual temperature, \"feel\" temperature, and guest ridership. \n",
    "\n",
    "Our data is already normalized between 0 and 1, so we'll start off with the correlations and modeling."
   ]
  },
  {
   "cell_type": "code",
   "execution_count": 95,
   "metadata": {
    "collapsed": false
   },
   "outputs": [
    {
     "name": "stdout",
     "output_type": "stream",
     "text": [
      "            temp     atemp    casual\n",
      "temp    1.000000  0.987672  0.459616\n",
      "atemp   0.987672  1.000000  0.454080\n",
      "casual  0.459616  0.454080  1.000000\n",
      "Axes(0.125,0.125;0.62x0.755)\n"
     ]
    },
    {
     "data": {
      "image/png": "[encoded data removed]",
      "text/plain": [
       "<matplotlib.figure.Figure at 0x1ac63630978>"
      ]
     },
     "metadata": {},
     "output_type": "display_data"
    }
   ],
   "source": [
    "cmap = sns.diverging_palette(220, 10, as_cmap=True)\n",
    "\n",
    "correlations = bike_data[['temp', 'atemp', 'casual']].corr()\n",
    "print(correlations)\n",
    "print(sns.heatmap(correlations, cmap=cmap))"
   ]
  },
  {
   "cell_type": "code",
   "execution_count": 183,
   "metadata": {
    "collapsed": false
   },
   "outputs": [
    {
     "name": "stdout",
     "output_type": "stream",
     "text": [
      "            temp       hum    casual\n",
      "temp    1.000000 -0.069881  0.459616\n",
      "hum    -0.069881  1.000000 -0.347028\n",
      "casual  0.459616 -0.347028  1.000000\n",
      "Axes(0.125,0.125;0.62x0.755)\n"
     ]
    },
    {
     "data": {
      "image/png": "[encoded data removed]",
      "text/plain": [
       "<matplotlib.figure.Figure at 0x1ac63461ba8>"
      ]
     },
     "metadata": {},
     "output_type": "display_data"
    }
   ],
   "source": [
    "correlations = bike_data[['temp', 'hum', 'casual']].corr()\n",
    "print(correlations)\n",
    "print(sns.heatmap(correlations, cmap=cmap))"
   ]
  },
  {
   "cell_type": "markdown",
   "metadata": {},
   "source": [
    "#### The correlation matrix explains that:\n",
    "\n",
    "- both temperature fields are moderately correlated to guest ridership;\n",
    "- the two temperature fields are highly correlated to each other.\n",
    "\n",
    "\n",
    "Including both of these fields in a model could introduce a pain point of multicollinearity, where it's more difficult for a model to determine which feature is effecting the predicted value."
   ]
  },
  {
   "cell_type": "markdown",
   "metadata": {},
   "source": [
    "## We can measure this effect in the coefficients:\n",
    "\n"
   ]
  },
  {
   "cell_type": "code",
   "execution_count": 140,
   "metadata": {
    "collapsed": false
   },
   "outputs": [
    {
     "name": "stdout",
     "output_type": "stream",
     "text": [
      "temp\n",
      "P Values: [ 0.]\n",
      "F Stats: [ 4653.96520921]\n",
      "Coefficients: [ 117.68705779]\n",
      "y-intercept: -22.812739188\n",
      "R-Squared: 0.21124654163\n",
      "atemp\n",
      "P Values: [ 0.]\n",
      "F Stats: [ 4513.59304836]\n",
      "Coefficients: [ 130.27875081]\n",
      "y-intercept: -26.3071675481\n",
      "R-Squared: 0.206188705733\n",
      "temp, atemp\n",
      "P Values: [ 0.  0.]\n",
      "F Stats: [ 4653.96520921  4513.59304836]\n",
      "Coefficients: [ 116.34021588    1.52795677]\n",
      "y-intercept: -22.8703398286\n",
      "R-Squared: 0.21124723661\n"
     ]
    },
    {
     "data": {
      "image/png": "[encoded data removed]",
      "text/plain": [
       "<matplotlib.figure.Figure at 0x1ac630f90b8>"
      ]
     },
     "metadata": {},
     "output_type": "display_data"
    },
    {
     "data": {
      "image/png": "[encoded data removed]",
      "text/plain": [
       "<matplotlib.figure.Figure at 0x1ac62f087b8>"
      ]
     },
     "metadata": {},
     "output_type": "display_data"
    },
    {
     "data": {
      "image/png": "[encoded data removed]",
      "text/plain": [
       "<matplotlib.figure.Figure at 0x1ac651f07b8>"
      ]
     },
     "metadata": {},
     "output_type": "display_data"
    }
   ],
   "source": [
    "y = bike_data['casual']\n",
    "x_sets = (\n",
    "    ['temp'],\n",
    "    ['atemp'],\n",
    "    ['temp', 'atemp'],\n",
    ")\n",
    "\n",
    "for x in x_sets:\n",
    "    print(', '.join(x))\n",
    "    get_linear_model_metrics(bike_data[x], y, linear_model.LinearRegression())\n",
    "    print"
   ]
  },
  {
   "cell_type": "markdown",
   "metadata": {},
   "source": [
    "###  Intrepretation: \n",
    "Even though the 2-variable model temp + atemp has a higher explanation of variance than two variables on their own, and both variables are considered significant (p values approaching 0), we can see that together, their coefficients are wildly different. \n",
    "\n",
    "This can introduce error in how we explain models.\n",
    "\n",
    "### What happens if we use a second variable that isn't highly correlated with temperature, like humidity?\n",
    "\n"
   ]
  },
  {
   "cell_type": "code",
   "execution_count": 141,
   "metadata": {
    "collapsed": false
   },
   "outputs": [
    {
     "name": "stdout",
     "output_type": "stream",
     "text": [
      "P Values: [ 0.  0.]\n",
      "F Stats: [ 4653.96520921  2379.21077431]\n",
      "Coefficients: [ 112.02457031  -80.87301833]\n",
      "y-intercept: 30.7273338581\n",
      "R-Squared: 0.310901196913\n"
     ]
    },
    {
     "data": {
      "text/plain": [
       "LinearRegression(copy_X=True, fit_intercept=True, n_jobs=1, normalize=False)"
      ]
     },
     "execution_count": 141,
     "metadata": {},
     "output_type": "execute_result"
    },
    {
     "data": {
      "image/png": "[encoded data removed]",
      "text/plain": [
       "<matplotlib.figure.Figure at 0x1ac638e36a0>"
      ]
     },
     "metadata": {},
     "output_type": "display_data"
    }
   ],
   "source": [
    "y = bike_data['casual']\n",
    "x = bike_data[['temp', 'hum']]\n",
    "get_linear_model_metrics(x, y, linear_model.LinearRegression())\n"
   ]
  },
  {
   "cell_type": "code",
   "execution_count": 182,
   "metadata": {
    "collapsed": false
   },
   "outputs": [
    {
     "name": "stdout",
     "output_type": "stream",
     "text": [
      "P Values: [ 0.]\n",
      "F Stats: [ 2379.21077431]\n",
      "Coefficients: [-88.68628715]\n",
      "y-intercept: 91.3028153818\n",
      "R-Squared: 0.12042849722\n"
     ]
    },
    {
     "data": {
      "text/plain": [
       "LinearRegression(copy_X=True, fit_intercept=True, n_jobs=1, normalize=False)"
      ]
     },
     "execution_count": 182,
     "metadata": {},
     "output_type": "execute_result"
    },
    {
     "data": {
      "image/png": "[encoded data removed]",
      "text/plain": [
       "<matplotlib.figure.Figure at 0x1ac6521bb00>"
      ]
     },
     "metadata": {},
     "output_type": "display_data"
    }
   ],
   "source": [
    "y = bike_data['casual']\n",
    "x = bike_data[['hum']]\n",
    "get_linear_model_metrics(x, y, linear_model.LinearRegression())"
   ]
  },
  {
   "cell_type": "markdown",
   "metadata": {},
   "source": [
    "## Guided Practice: Multicollinearity with dummy variables (15 mins)\n",
    "\n"
   ]
  },
  {
   "cell_type": "markdown",
   "metadata": {},
   "source": [
    "There can be a similar effect from a feature set that is a singular matrix, which is when there is a clear relationship in the matrix (for example, the sum of all rows = 1).\n",
    "\n",
    "### Run through the following code on your own.\n",
    "#### What happens to the coefficients when you include all weather situations instead of just including all except one?"
   ]
  },
  {
   "cell_type": "code",
   "execution_count": 184,
   "metadata": {
    "collapsed": false
   },
   "outputs": [
    {
     "data": {
      "text/plain": [
       "0        1\n",
       "1        1\n",
       "2        1\n",
       "3        1\n",
       "4        1\n",
       "5        2\n",
       "6        1\n",
       "7        1\n",
       "8        1\n",
       "9        1\n",
       "10       1\n",
       "11       1\n",
       "12       1\n",
       "13       2\n",
       "14       2\n",
       "15       2\n",
       "16       2\n",
       "17       2\n",
       "18       3\n",
       "19       3\n",
       "20       2\n",
       "21       2\n",
       "22       2\n",
       "23       2\n",
       "24       2\n",
       "25       2\n",
       "26       2\n",
       "27       2\n",
       "28       2\n",
       "29       3\n",
       "        ..\n",
       "17349    2\n",
       "17350    1\n",
       "17351    1\n",
       "17352    1\n",
       "17353    1\n",
       "17354    1\n",
       "17355    1\n",
       "17356    1\n",
       "17357    1\n",
       "17358    1\n",
       "17359    1\n",
       "17360    1\n",
       "17361    1\n",
       "17362    1\n",
       "17363    1\n",
       "17364    2\n",
       "17365    2\n",
       "17366    2\n",
       "17367    2\n",
       "17368    2\n",
       "17369    2\n",
       "17370    2\n",
       "17371    2\n",
       "17372    2\n",
       "17373    2\n",
       "17374    2\n",
       "17375    2\n",
       "17376    1\n",
       "17377    1\n",
       "17378    1\n",
       "Name: weathersit, dtype: int64"
      ]
     },
     "execution_count": 184,
     "metadata": {},
     "output_type": "execute_result"
    }
   ],
   "source": [
    "bike_data.weathersit"
   ]
  },
  {
   "cell_type": "code",
   "execution_count": 142,
   "metadata": {
    "collapsed": false
   },
   "outputs": [
    {
     "name": "stdout",
     "output_type": "stream",
     "text": [
      "P Values: [  3.75616929e-73   3.43170021e-22   1.57718666e-55   2.46181288e-01]\n",
      "F Stats: [ 330.39322725   94.09026653  248.16896988    1.34493607]\n",
      "Coefficients: [  5.33996323e+12   5.33996323e+12   5.33996323e+12   5.33996323e+12]\n",
      "y-intercept: -5.33996323254e+12\n",
      "R-Squared: 0.0233906300439\n",
      "P Values: [  3.75616929e-73   3.43170021e-22   1.57718666e-55]\n",
      "F Stats: [ 330.39322725   94.09026653  248.16896988]\n",
      "Coefficients: [ 37.87876398  26.92862383  13.38900634]\n",
      "y-intercept: 2.66666666667\n",
      "R-Squared: 0.0233906873841\n"
     ]
    },
    {
     "data": {
      "text/plain": [
       "LinearRegression(copy_X=True, fit_intercept=True, n_jobs=1, normalize=False)"
      ]
     },
     "execution_count": 142,
     "metadata": {},
     "output_type": "execute_result"
    },
    {
     "data": {
      "image/png": "[encoded data removed]",
      "text/plain": [
       "<matplotlib.figure.Figure at 0x1ac63780160>"
      ]
     },
     "metadata": {},
     "output_type": "display_data"
    },
    {
     "data": {
      "image/png": "[encoded data removed]",
      "text/plain": [
       "<matplotlib.figure.Figure at 0x1ac633d7828>"
      ]
     },
     "metadata": {},
     "output_type": "display_data"
    }
   ],
   "source": [
    "lm = linear_model.LinearRegression()\n",
    "weather = pd.get_dummies(bike_data.weathersit)\n",
    "\n",
    "get_linear_model_metrics(weather[[1, 2, 3, 4]], y, lm)\n",
    "\n",
    "# drop the least significant, weather situation  = 4\n",
    "get_linear_model_metrics(weather[[1, 2, 3]], y, lm)\n"
   ]
  },
  {
   "cell_type": "code",
   "execution_count": null,
   "metadata": {
    "collapsed": true
   },
   "outputs": [],
   "source": [
    "import scipy\n",
    "N = lm.nobs\n",
    "P = lm.df_model\n",
    "dfn, dfd = P, N - P - 1\n",
    "F = lm.mse_model / lm.mse_resid\n",
    "p = 1.0 - scipy.stats.f.cdf(F,dfn,dfd)\n",
    "print('F-statistic: {:.3f},  p-value: {:.5f}'.format( F, p ))\n",
    "print(N)"
   ]
  },
  {
   "cell_type": "code",
   "execution_count": 99,
   "metadata": {
    "collapsed": false
   },
   "outputs": [
    {
     "data": {
      "text/html": [
       "<div>\n",
       "<table border=\"1\" class=\"dataframe\">\n",
       "  <thead>\n",
       "    <tr style=\"text-align: right;\">\n",
       "      <th></th>\n",
       "      <th>instant</th>\n",
       "      <th>dteday</th>\n",
       "      <th>season</th>\n",
       "      <th>yr</th>\n",
       "      <th>mnth</th>\n",
       "      <th>hr</th>\n",
       "      <th>holiday</th>\n",
       "      <th>weekday</th>\n",
       "      <th>workingday</th>\n",
       "      <th>weathersit</th>\n",
       "      <th>temp</th>\n",
       "      <th>atemp</th>\n",
       "      <th>hum</th>\n",
       "      <th>windspeed</th>\n",
       "      <th>casual</th>\n",
       "      <th>registered</th>\n",
       "      <th>cnt</th>\n",
       "    </tr>\n",
       "  </thead>\n",
       "  <tbody>\n",
       "    <tr>\n",
       "      <th>0</th>\n",
       "      <td>1</td>\n",
       "      <td>2011-01-01</td>\n",
       "      <td>1</td>\n",
       "      <td>0</td>\n",
       "      <td>1</td>\n",
       "      <td>0</td>\n",
       "      <td>0</td>\n",
       "      <td>6</td>\n",
       "      <td>0</td>\n",
       "      <td>1</td>\n",
       "      <td>0.24</td>\n",
       "      <td>0.2879</td>\n",
       "      <td>0.81</td>\n",
       "      <td>0.0</td>\n",
       "      <td>3</td>\n",
       "      <td>13</td>\n",
       "      <td>16</td>\n",
       "    </tr>\n",
       "    <tr>\n",
       "      <th>1</th>\n",
       "      <td>2</td>\n",
       "      <td>2011-01-01</td>\n",
       "      <td>1</td>\n",
       "      <td>0</td>\n",
       "      <td>1</td>\n",
       "      <td>1</td>\n",
       "      <td>0</td>\n",
       "      <td>6</td>\n",
       "      <td>0</td>\n",
       "      <td>1</td>\n",
       "      <td>0.22</td>\n",
       "      <td>0.2727</td>\n",
       "      <td>0.80</td>\n",
       "      <td>0.0</td>\n",
       "      <td>8</td>\n",
       "      <td>32</td>\n",
       "      <td>40</td>\n",
       "    </tr>\n",
       "    <tr>\n",
       "      <th>2</th>\n",
       "      <td>3</td>\n",
       "      <td>2011-01-01</td>\n",
       "      <td>1</td>\n",
       "      <td>0</td>\n",
       "      <td>1</td>\n",
       "      <td>2</td>\n",
       "      <td>0</td>\n",
       "      <td>6</td>\n",
       "      <td>0</td>\n",
       "      <td>1</td>\n",
       "      <td>0.22</td>\n",
       "      <td>0.2727</td>\n",
       "      <td>0.80</td>\n",
       "      <td>0.0</td>\n",
       "      <td>5</td>\n",
       "      <td>27</td>\n",
       "      <td>32</td>\n",
       "    </tr>\n",
       "    <tr>\n",
       "      <th>3</th>\n",
       "      <td>4</td>\n",
       "      <td>2011-01-01</td>\n",
       "      <td>1</td>\n",
       "      <td>0</td>\n",
       "      <td>1</td>\n",
       "      <td>3</td>\n",
       "      <td>0</td>\n",
       "      <td>6</td>\n",
       "      <td>0</td>\n",
       "      <td>1</td>\n",
       "      <td>0.24</td>\n",
       "      <td>0.2879</td>\n",
       "      <td>0.75</td>\n",
       "      <td>0.0</td>\n",
       "      <td>3</td>\n",
       "      <td>10</td>\n",
       "      <td>13</td>\n",
       "    </tr>\n",
       "    <tr>\n",
       "      <th>4</th>\n",
       "      <td>5</td>\n",
       "      <td>2011-01-01</td>\n",
       "      <td>1</td>\n",
       "      <td>0</td>\n",
       "      <td>1</td>\n",
       "      <td>4</td>\n",
       "      <td>0</td>\n",
       "      <td>6</td>\n",
       "      <td>0</td>\n",
       "      <td>1</td>\n",
       "      <td>0.24</td>\n",
       "      <td>0.2879</td>\n",
       "      <td>0.75</td>\n",
       "      <td>0.0</td>\n",
       "      <td>0</td>\n",
       "      <td>1</td>\n",
       "      <td>1</td>\n",
       "    </tr>\n",
       "  </tbody>\n",
       "</table>\n",
       "</div>"
      ],
      "text/plain": [
       "   instant      dteday  season  yr  mnth  hr  holiday  weekday  workingday  \\\n",
       "0        1  2011-01-01       1   0     1   0        0        6           0   \n",
       "1        2  2011-01-01       1   0     1   1        0        6           0   \n",
       "2        3  2011-01-01       1   0     1   2        0        6           0   \n",
       "3        4  2011-01-01       1   0     1   3        0        6           0   \n",
       "4        5  2011-01-01       1   0     1   4        0        6           0   \n",
       "\n",
       "   weathersit  temp   atemp   hum  windspeed  casual  registered  cnt  \n",
       "0           1  0.24  0.2879  0.81        0.0       3          13   16  \n",
       "1           1  0.22  0.2727  0.80        0.0       8          32   40  \n",
       "2           1  0.22  0.2727  0.80        0.0       5          27   32  \n",
       "3           1  0.24  0.2879  0.75        0.0       3          10   13  \n",
       "4           1  0.24  0.2879  0.75        0.0       0           1    1  "
      ]
     },
     "execution_count": 99,
     "metadata": {},
     "output_type": "execute_result"
    }
   ],
   "source": [
    "bike_data.head()"
   ]
  },
  {
   "cell_type": "markdown",
   "metadata": {},
   "source": [
    "### Similar in Statsmodels"
   ]
  },
  {
   "cell_type": "code",
   "execution_count": 145,
   "metadata": {
    "collapsed": false
   },
   "outputs": [
    {
     "data": {
      "text/html": [
       "<table class=\"simpletable\">\n",
       "<caption>OLS Regression Results</caption>\n",
       "<tr>\n",
       "  <th>Dep. Variable:</th>            <td>y</td>        <th>  R-squared:         </th> <td>   0.023</td> \n",
       "</tr>\n",
       "<tr>\n",
       "  <th>Model:</th>                   <td>OLS</td>       <th>  Adj. R-squared:    </th> <td>   0.023</td> \n",
       "</tr>\n",
       "<tr>\n",
       "  <th>Method:</th>             <td>Least Squares</td>  <th>  F-statistic:       </th> <td>   104.0</td> \n",
       "</tr>\n",
       "<tr>\n",
       "  <th>Date:</th>             <td>Mon, 09 Oct 2017</td> <th>  Prob (F-statistic):</th> <td>1.07e-87</td> \n",
       "</tr>\n",
       "<tr>\n",
       "  <th>Time:</th>                 <td>00:19:46</td>     <th>  Log-Likelihood:    </th> <td> -92197.</td> \n",
       "</tr>\n",
       "<tr>\n",
       "  <th>No. Observations:</th>      <td> 17379</td>      <th>  AIC:               </th> <td>1.844e+05</td>\n",
       "</tr>\n",
       "<tr>\n",
       "  <th>Df Residuals:</th>          <td> 17374</td>      <th>  BIC:               </th> <td>1.844e+05</td>\n",
       "</tr>\n",
       "<tr>\n",
       "  <th>Df Model:</th>              <td>     4</td>      <th>                     </th>     <td> </td>    \n",
       "</tr>\n",
       "<tr>\n",
       "  <th>Covariance Type:</th>      <td>nonrobust</td>    <th>                     </th>     <td> </td>    \n",
       "</tr>\n",
       "</table>\n",
       "<table class=\"simpletable\">\n",
       "<tr>\n",
       "              <td></td>                <th>coef</th>     <th>std err</th>      <th>t</th>      <th>P>|t|</th>  <th>[0.025</th>    <th>0.975]</th>  \n",
       "</tr>\n",
       "<tr>\n",
       "  <th>Intercept</th>                <td>  -7.9e+12</td> <td> 3.85e+13</td> <td>   -0.205</td> <td> 0.837</td> <td>-8.33e+13</td> <td> 6.75e+13</td>\n",
       "</tr>\n",
       "<tr>\n",
       "  <th>weather[[1, 2, 3, 4]][0]</th> <td>   7.9e+12</td> <td> 3.85e+13</td> <td>    0.205</td> <td> 0.837</td> <td>-6.75e+13</td> <td> 8.33e+13</td>\n",
       "</tr>\n",
       "<tr>\n",
       "  <th>weather[[1, 2, 3, 4]][1]</th> <td>   7.9e+12</td> <td> 3.85e+13</td> <td>    0.205</td> <td> 0.837</td> <td>-6.75e+13</td> <td> 8.33e+13</td>\n",
       "</tr>\n",
       "<tr>\n",
       "  <th>weather[[1, 2, 3, 4]][2]</th> <td>   7.9e+12</td> <td> 3.85e+13</td> <td>    0.205</td> <td> 0.837</td> <td>-6.75e+13</td> <td> 8.33e+13</td>\n",
       "</tr>\n",
       "<tr>\n",
       "  <th>weather[[1, 2, 3, 4]][3]</th> <td>   7.9e+12</td> <td> 3.85e+13</td> <td>    0.205</td> <td> 0.837</td> <td>-6.75e+13</td> <td> 8.33e+13</td>\n",
       "</tr>\n",
       "</table>\n",
       "<table class=\"simpletable\">\n",
       "<tr>\n",
       "  <th>Omnibus:</th>       <td>9006.603</td> <th>  Durbin-Watson:     </th> <td>   0.136</td> \n",
       "</tr>\n",
       "<tr>\n",
       "  <th>Prob(Omnibus):</th>  <td> 0.000</td>  <th>  Jarque-Bera (JB):  </th> <td>59036.520</td>\n",
       "</tr>\n",
       "<tr>\n",
       "  <th>Skew:</th>           <td> 2.470</td>  <th>  Prob(JB):          </th> <td>    0.00</td> \n",
       "</tr>\n",
       "<tr>\n",
       "  <th>Kurtosis:</th>       <td>10.558</td>  <th>  Cond. No.          </th> <td>2.89e+14</td> \n",
       "</tr>\n",
       "</table>"
      ],
      "text/plain": [
       "<class 'statsmodels.iolib.summary.Summary'>\n",
       "\"\"\"\n",
       "                            OLS Regression Results                            \n",
       "==============================================================================\n",
       "Dep. Variable:                      y   R-squared:                       0.023\n",
       "Model:                            OLS   Adj. R-squared:                  0.023\n",
       "Method:                 Least Squares   F-statistic:                     104.0\n",
       "Date:                Mon, 09 Oct 2017   Prob (F-statistic):           1.07e-87\n",
       "Time:                        00:19:46   Log-Likelihood:                -92197.\n",
       "No. Observations:               17379   AIC:                         1.844e+05\n",
       "Df Residuals:                   17374   BIC:                         1.844e+05\n",
       "Df Model:                           4                                         \n",
       "Covariance Type:            nonrobust                                         \n",
       "============================================================================================\n",
       "                               coef    std err          t      P>|t|      [0.025      0.975]\n",
       "--------------------------------------------------------------------------------------------\n",
       "Intercept                  -7.9e+12   3.85e+13     -0.205      0.837   -8.33e+13    6.75e+13\n",
       "weather[[1, 2, 3, 4]][0]    7.9e+12   3.85e+13      0.205      0.837   -6.75e+13    8.33e+13\n",
       "weather[[1, 2, 3, 4]][1]    7.9e+12   3.85e+13      0.205      0.837   -6.75e+13    8.33e+13\n",
       "weather[[1, 2, 3, 4]][2]    7.9e+12   3.85e+13      0.205      0.837   -6.75e+13    8.33e+13\n",
       "weather[[1, 2, 3, 4]][3]    7.9e+12   3.85e+13      0.205      0.837   -6.75e+13    8.33e+13\n",
       "==============================================================================\n",
       "Omnibus:                     9006.603   Durbin-Watson:                   0.136\n",
       "Prob(Omnibus):                  0.000   Jarque-Bera (JB):            59036.520\n",
       "Skew:                           2.470   Prob(JB):                         0.00\n",
       "Kurtosis:                      10.558   Cond. No.                     2.89e+14\n",
       "==============================================================================\n",
       "\n",
       "Warnings:\n",
       "[1] Standard Errors assume that the covariance matrix of the errors is correctly specified.\n",
       "[2] The smallest eigenvalue is 3.21e-25. This might indicate that there are\n",
       "strong multicollinearity problems or that the design matrix is singular.\n",
       "\"\"\""
      ]
     },
     "execution_count": 145,
     "metadata": {},
     "output_type": "execute_result"
    }
   ],
   "source": [
    "# all dummies in the model\n",
    "lm_stats = smf.ols(formula='y ~ weather[[1, 2, 3, 4]]', data=bike_data).fit()\n",
    "lm_stats.summary()"
   ]
  },
  {
   "cell_type": "code",
   "execution_count": 144,
   "metadata": {
    "collapsed": false
   },
   "outputs": [
    {
     "name": "stdout",
     "output_type": "stream",
     "text": [
      "F-statistic: 104.015,  p-value: 0.00000\n",
      "17379.0\n"
     ]
    }
   ],
   "source": [
    "import scipy\n",
    "N = lm_stats.nobs\n",
    "P = lm_stats.df_model\n",
    "dfn, dfd = P, N - P - 1\n",
    "F = lm_stats.mse_model / lm_stats.mse_resid\n",
    "p = 1.0 - scipy.stats.f.cdf(F,dfn,dfd)\n",
    "print('F-statistic: {:.3f},  p-value: {:.5f}'.format( F, p ))\n",
    "print(N)"
   ]
  },
  {
   "cell_type": "code",
   "execution_count": 107,
   "metadata": {
    "collapsed": false
   },
   "outputs": [
    {
     "data": {
      "text/plain": [
       "array([-37.54543065, -32.54543065, -35.54543065, ..., -33.54543065,\n",
       "       -27.54543065, -28.54543065])"
      ]
     },
     "execution_count": 107,
     "metadata": {},
     "output_type": "execute_result"
    }
   ],
   "source": [
    "lm_stats.resid.values"
   ]
  },
  {
   "cell_type": "code",
   "execution_count": 111,
   "metadata": {
    "collapsed": false
   },
   "outputs": [
    {
     "data": {
      "text/plain": [
       "<matplotlib.axes._subplots.AxesSubplot at 0x1ac639f80f0>"
      ]
     },
     "execution_count": 111,
     "metadata": {},
     "output_type": "execute_result"
    },
    {
     "data": {
      "image/png": "[encoded data removed]",
      "text/plain": [
       "<matplotlib.figure.Figure at 0x1ac63593ac8>"
      ]
     },
     "metadata": {},
     "output_type": "display_data"
    }
   ],
   "source": [
    "df = pd.DataFrame({'residuals':lm_stats.resid.values})\n",
    "sns.distplot(df['residuals'])"
   ]
  },
  {
   "cell_type": "code",
   "execution_count": 185,
   "metadata": {
    "collapsed": false
   },
   "outputs": [
    {
     "data": {
      "text/html": [
       "<table class=\"simpletable\">\n",
       "<caption>OLS Regression Results</caption>\n",
       "<tr>\n",
       "  <th>Dep. Variable:</th>            <td>y</td>        <th>  R-squared:         </th> <td>   0.023</td> \n",
       "</tr>\n",
       "<tr>\n",
       "  <th>Model:</th>                   <td>OLS</td>       <th>  Adj. R-squared:    </th> <td>   0.023</td> \n",
       "</tr>\n",
       "<tr>\n",
       "  <th>Method:</th>             <td>Least Squares</td>  <th>  F-statistic:       </th> <td>   138.7</td> \n",
       "</tr>\n",
       "<tr>\n",
       "  <th>Date:</th>             <td>Mon, 09 Oct 2017</td> <th>  Prob (F-statistic):</th> <td>8.08e-89</td> \n",
       "</tr>\n",
       "<tr>\n",
       "  <th>Time:</th>                 <td>20:50:04</td>     <th>  Log-Likelihood:    </th> <td> -92197.</td> \n",
       "</tr>\n",
       "<tr>\n",
       "  <th>No. Observations:</th>      <td> 17379</td>      <th>  AIC:               </th> <td>1.844e+05</td>\n",
       "</tr>\n",
       "<tr>\n",
       "  <th>Df Residuals:</th>          <td> 17375</td>      <th>  BIC:               </th> <td>1.844e+05</td>\n",
       "</tr>\n",
       "<tr>\n",
       "  <th>Df Model:</th>              <td>     3</td>      <th>                     </th>     <td> </td>    \n",
       "</tr>\n",
       "<tr>\n",
       "  <th>Covariance Type:</th>      <td>nonrobust</td>    <th>                     </th>     <td> </td>    \n",
       "</tr>\n",
       "</table>\n",
       "<table class=\"simpletable\">\n",
       "<tr>\n",
       "            <td></td>               <th>coef</th>     <th>std err</th>      <th>t</th>      <th>P>|t|</th>  <th>[0.025</th>    <th>0.975]</th>  \n",
       "</tr>\n",
       "<tr>\n",
       "  <th>Intercept</th>             <td>   16.0557</td> <td>    1.294</td> <td>   12.412</td> <td> 0.000</td> <td>   13.520</td> <td>   18.591</td>\n",
       "</tr>\n",
       "<tr>\n",
       "  <th>weather[[1, 2, 4]][0]</th> <td>   24.4898</td> <td>    1.372</td> <td>   17.854</td> <td> 0.000</td> <td>   21.801</td> <td>   27.178</td>\n",
       "</tr>\n",
       "<tr>\n",
       "  <th>weather[[1, 2, 4]][1]</th> <td>   13.5396</td> <td>    1.482</td> <td>    9.137</td> <td> 0.000</td> <td>   10.635</td> <td>   16.444</td>\n",
       "</tr>\n",
       "<tr>\n",
       "  <th>weather[[1, 2, 4]][2]</th> <td>  -13.3890</td> <td>   28.164</td> <td>   -0.475</td> <td> 0.635</td> <td>  -68.592</td> <td>   41.814</td>\n",
       "</tr>\n",
       "</table>\n",
       "<table class=\"simpletable\">\n",
       "<tr>\n",
       "  <th>Omnibus:</th>       <td>9001.632</td> <th>  Durbin-Watson:     </th> <td>   0.136</td> \n",
       "</tr>\n",
       "<tr>\n",
       "  <th>Prob(Omnibus):</th>  <td> 0.000</td>  <th>  Jarque-Bera (JB):  </th> <td>58962.554</td>\n",
       "</tr>\n",
       "<tr>\n",
       "  <th>Skew:</th>           <td> 2.468</td>  <th>  Prob(JB):          </th> <td>    0.00</td> \n",
       "</tr>\n",
       "<tr>\n",
       "  <th>Kurtosis:</th>       <td>10.553</td>  <th>  Cond. No.          </th> <td>    94.6</td> \n",
       "</tr>\n",
       "</table>"
      ],
      "text/plain": [
       "<class 'statsmodels.iolib.summary.Summary'>\n",
       "\"\"\"\n",
       "                            OLS Regression Results                            \n",
       "==============================================================================\n",
       "Dep. Variable:                      y   R-squared:                       0.023\n",
       "Model:                            OLS   Adj. R-squared:                  0.023\n",
       "Method:                 Least Squares   F-statistic:                     138.7\n",
       "Date:                Mon, 09 Oct 2017   Prob (F-statistic):           8.08e-89\n",
       "Time:                        20:50:04   Log-Likelihood:                -92197.\n",
       "No. Observations:               17379   AIC:                         1.844e+05\n",
       "Df Residuals:                   17375   BIC:                         1.844e+05\n",
       "Df Model:                           3                                         \n",
       "Covariance Type:            nonrobust                                         \n",
       "=========================================================================================\n",
       "                            coef    std err          t      P>|t|      [0.025      0.975]\n",
       "-----------------------------------------------------------------------------------------\n",
       "Intercept                16.0557      1.294     12.412      0.000      13.520      18.591\n",
       "weather[[1, 2, 4]][0]    24.4898      1.372     17.854      0.000      21.801      27.178\n",
       "weather[[1, 2, 4]][1]    13.5396      1.482      9.137      0.000      10.635      16.444\n",
       "weather[[1, 2, 4]][2]   -13.3890     28.164     -0.475      0.635     -68.592      41.814\n",
       "==============================================================================\n",
       "Omnibus:                     9001.632   Durbin-Watson:                   0.136\n",
       "Prob(Omnibus):                  0.000   Jarque-Bera (JB):            58962.554\n",
       "Skew:                           2.468   Prob(JB):                         0.00\n",
       "Kurtosis:                      10.553   Cond. No.                         94.6\n",
       "==============================================================================\n",
       "\n",
       "Warnings:\n",
       "[1] Standard Errors assume that the covariance matrix of the errors is correctly specified.\n",
       "\"\"\""
      ]
     },
     "execution_count": 185,
     "metadata": {},
     "output_type": "execute_result"
    }
   ],
   "source": [
    "#droping one\n",
    "lm_stats = smf.ols(formula='y ~ weather[[1, 2, 4]]', data=bike_data).fit()\n",
    "lm_stats.summary()"
   ]
  },
  {
   "cell_type": "markdown",
   "metadata": {},
   "source": [
    "### Interpretation: \n",
    "This model makes more sense, because we can more easily explain the variables compared to the one we left out. \n",
    "\n",
    "For example, this suggests that a clear day (weathersit:1) on average brings in about 38 more riders hourly than a day with heavy snow. \n",
    "\n",
    "In fact, since the weather situations \"degrade\" in quality (1 is the nicest day, 4 is the worst), the coefficients now reflect that well. \n",
    "\n",
    "However at this point, there is still a lot of work to do, because weather on its own fails to explain ridership well.\n",
    "\n",
    "\n"
   ]
  },
  {
   "cell_type": "markdown",
   "metadata": {},
   "source": [
    "## Guided Practice: Combining non-correlated features into a better model (15 mins)"
   ]
  },
  {
   "cell_type": "code",
   "execution_count": 103,
   "metadata": {
    "collapsed": false
   },
   "outputs": [
    {
     "data": {
      "text/plain": [
       "instant         int64\n",
       "dteday         object\n",
       "season          int64\n",
       "yr              int64\n",
       "mnth            int64\n",
       "hr              int64\n",
       "holiday         int64\n",
       "weekday         int64\n",
       "workingday      int64\n",
       "weathersit      int64\n",
       "temp          float64\n",
       "atemp         float64\n",
       "hum           float64\n",
       "windspeed     float64\n",
       "casual          int64\n",
       "registered      int64\n",
       "cnt             int64\n",
       "dtype: object"
      ]
     },
     "execution_count": 103,
     "metadata": {},
     "output_type": "execute_result"
    }
   ],
   "source": [
    "bike_data.dtypes"
   ]
  },
  {
   "cell_type": "markdown",
   "metadata": {},
   "source": [
    "## With a partner, complete this code together and visualize the correlations of all the numerical features built into the data set.\n",
    "\n",
    "We want to:\n",
    "\n",
    "- Add the three significant weather situations into our current model\n",
    "- Find two more features that are not correlated with current features, but could be strong indicators for predicting guest riders."
   ]
  },
  {
   "cell_type": "code",
   "execution_count": null,
   "metadata": {
    "collapsed": true
   },
   "outputs": [],
   "source": [
    "#starter \n",
    "lm = linear_model.LinearRegression()\n",
    "bikemodel_data = bike_data.join() # add in the three weather situations\n",
    "\n",
    "cmap = sns.diverging_palette(220, 10, as_cmap=True)\n",
    "correlations = # what are we getting the correlations of?\n",
    "print correlations\n",
    "print sns.heatmap(correlations, cmap=cmap)\n",
    "\n",
    "columns_to_keep = [] #[which_variables?]\n",
    "final_feature_set = bikemodel_data[columns_to_keep]\n",
    "\n",
    "get_linear_model_metrics(final_feature_set, y, lm)"
   ]
  },
  {
   "cell_type": "code",
   "execution_count": 85,
   "metadata": {
    "collapsed": false
   },
   "outputs": [
    {
     "name": "stdout",
     "output_type": "stream",
     "text": [
      "               temp       hum  windspeed  weather_1  weather_2  weather_3  \\\n",
      "temp       1.000000 -0.069881  -0.023125   0.101044  -0.069657  -0.062406   \n",
      "hum       -0.069881  1.000000  -0.290105  -0.383425   0.220758   0.309737   \n",
      "windspeed -0.023125 -0.290105   1.000000   0.005150  -0.049241   0.070018   \n",
      "weather_1  0.101044 -0.383425   0.005150   1.000000  -0.822961  -0.412414   \n",
      "weather_2 -0.069657  0.220758  -0.049241  -0.822961   1.000000  -0.177417   \n",
      "weather_3 -0.062406  0.309737   0.070018  -0.412414  -0.177417   1.000000   \n",
      "holiday   -0.027340 -0.010588   0.003988   0.009167   0.004910  -0.023664   \n",
      "hour_1    -0.040738  0.083197  -0.053580   0.008819  -0.006750  -0.005379   \n",
      "hour_2    -0.045627  0.096198  -0.060241   0.005156  -0.003921  -0.002518   \n",
      "hour_3    -0.046575  0.108659  -0.065444  -0.001685   0.003843  -0.003117   \n",
      "hour_4    -0.053459  0.121990  -0.057285  -0.000450   0.000506   0.000096   \n",
      "hour_5    -0.065571  0.124406  -0.067411  -0.004791   0.011541  -0.010083   \n",
      "hour_6    -0.069911  0.126481  -0.055217  -0.014011   0.017969  -0.004410   \n",
      "hour_7    -0.062825  0.112289  -0.044717  -0.020841   0.015641   0.011168   \n",
      "hour_8    -0.045570  0.081720  -0.023117  -0.022657   0.025452  -0.001427   \n",
      "hour_9    -0.021986  0.037325   0.001989  -0.029315   0.035263  -0.005625   \n",
      "hour_10    0.003896 -0.012090   0.020399  -0.020236   0.026106  -0.006675   \n",
      "hour_11    0.027808 -0.060432   0.029448  -0.018420   0.028068  -0.012973   \n",
      "hour_12    0.047007 -0.098114   0.044294  -0.021224   0.025918  -0.004659   \n",
      "hour_13    0.062752 -0.125421   0.053938  -0.009517   0.011360  -0.001596   \n",
      "hour_14    0.073992 -0.141266   0.072461  -0.002867   0.002216   0.001548   \n",
      "hour_15    0.077838 -0.146532   0.077046   0.003782  -0.008235   0.006789   \n",
      "hour_16    0.073918 -0.142656   0.080822   0.018486  -0.026678   0.009842   \n",
      "hour_17    0.062626 -0.123506   0.074068   0.016674  -0.028636   0.017174   \n",
      "hour_18    0.047992 -0.098888   0.059114   0.013256  -0.021142   0.010026   \n",
      "hour_19    0.029525 -0.059376   0.034269   0.018700  -0.019835  -0.000463   \n",
      "hour_20    0.012609 -0.027918   0.008759   0.025354  -0.032907   0.008977   \n",
      "hour_21   -0.001830  0.004671  -0.015770   0.021120  -0.021142  -0.002561   \n",
      "hour_22   -0.013554  0.028089  -0.026419   0.018700  -0.017220  -0.004659   \n",
      "hour_23   -0.023847  0.049900  -0.043234   0.008417  -0.013952   0.007928   \n",
      "\n",
      "            holiday    hour_1    hour_2    hour_3    ...      hour_14  \\\n",
      "temp      -0.027340 -0.040738 -0.045627 -0.046575    ...     0.073992   \n",
      "hum       -0.010588  0.083197  0.096198  0.108659    ...    -0.141266   \n",
      "windspeed  0.003988 -0.053580 -0.060241 -0.065444    ...     0.072461   \n",
      "weather_1  0.009167  0.008819  0.005156 -0.001685    ...    -0.002867   \n",
      "weather_2  0.004910 -0.006750 -0.003921  0.003843    ...     0.002216   \n",
      "weather_3 -0.023664 -0.005379 -0.002518 -0.003117    ...     0.001548   \n",
      "holiday    1.000000  0.000293  0.000744 -0.003602    ...     0.000045   \n",
      "hour_1     0.000293  1.000000 -0.043188 -0.042618    ...    -0.043627   \n",
      "hour_2     0.000744 -0.043188  1.000000 -0.042340    ...    -0.043343   \n",
      "hour_3    -0.003602 -0.042618 -0.042340  1.000000    ...    -0.042771   \n",
      "hour_4    -0.000093 -0.042618 -0.042340 -0.041782    ...    -0.042771   \n",
      "hour_5     0.000643 -0.043251 -0.042969 -0.042402    ...    -0.043406   \n",
      "hour_6     0.000244 -0.043502 -0.043219 -0.042648    ...    -0.043658   \n",
      "hour_7     0.000144 -0.043564 -0.043281 -0.042710    ...    -0.043721   \n",
      "hour_8     0.000144 -0.043564 -0.043281 -0.042710    ...    -0.043721   \n",
      "hour_9     0.000144 -0.043564 -0.043281 -0.042710    ...    -0.043721   \n",
      "hour_10    0.000144 -0.043564 -0.043281 -0.042710    ...    -0.043721   \n",
      "hour_11    0.000144 -0.043564 -0.043281 -0.042710    ...    -0.043721   \n",
      "hour_12    0.000095 -0.043596 -0.043312 -0.042740    ...    -0.043752   \n",
      "hour_13    0.000045 -0.043627 -0.043343 -0.042771    ...    -0.043784   \n",
      "hour_14    0.000045 -0.043627 -0.043343 -0.042771    ...     1.000000   \n",
      "hour_15    0.000045 -0.043627 -0.043343 -0.042771    ...    -0.043784   \n",
      "hour_16   -0.000004 -0.043658 -0.043374 -0.042802    ...    -0.043815   \n",
      "hour_17   -0.000004 -0.043658 -0.043374 -0.042802    ...    -0.043815   \n",
      "hour_18    0.000095 -0.043596 -0.043312 -0.042740    ...    -0.043752   \n",
      "hour_19    0.000095 -0.043596 -0.043312 -0.042740    ...    -0.043752   \n",
      "hour_20    0.000095 -0.043596 -0.043312 -0.042740    ...    -0.043752   \n",
      "hour_21    0.000095 -0.043596 -0.043312 -0.042740    ...    -0.043752   \n",
      "hour_22    0.000095 -0.043596 -0.043312 -0.042740    ...    -0.043752   \n",
      "hour_23    0.000095 -0.043596 -0.043312 -0.042740    ...    -0.043752   \n",
      "\n",
      "            hour_15   hour_16   hour_17   hour_18   hour_19   hour_20  \\\n",
      "temp       0.077838  0.073918  0.062626  0.047992  0.029525  0.012609   \n",
      "hum       -0.146532 -0.142656 -0.123506 -0.098888 -0.059376 -0.027918   \n",
      "windspeed  0.077046  0.080822  0.074068  0.059114  0.034269  0.008759   \n",
      "weather_1  0.003782  0.018486  0.016674  0.013256  0.018700  0.025354   \n",
      "weather_2 -0.008235 -0.026678 -0.028636 -0.021142 -0.019835 -0.032907   \n",
      "weather_3  0.006789  0.009842  0.017174  0.010026 -0.000463  0.008977   \n",
      "holiday    0.000045 -0.000004 -0.000004  0.000095  0.000095  0.000095   \n",
      "hour_1    -0.043627 -0.043658 -0.043658 -0.043596 -0.043596 -0.043596   \n",
      "hour_2    -0.043343 -0.043374 -0.043374 -0.043312 -0.043312 -0.043312   \n",
      "hour_3    -0.042771 -0.042802 -0.042802 -0.042740 -0.042740 -0.042740   \n",
      "hour_4    -0.042771 -0.042802 -0.042802 -0.042740 -0.042740 -0.042740   \n",
      "hour_5    -0.043406 -0.043437 -0.043437 -0.043375 -0.043375 -0.043375   \n",
      "hour_6    -0.043658 -0.043690 -0.043690 -0.043627 -0.043627 -0.043627   \n",
      "hour_7    -0.043721 -0.043752 -0.043752 -0.043690 -0.043690 -0.043690   \n",
      "hour_8    -0.043721 -0.043752 -0.043752 -0.043690 -0.043690 -0.043690   \n",
      "hour_9    -0.043721 -0.043752 -0.043752 -0.043690 -0.043690 -0.043690   \n",
      "hour_10   -0.043721 -0.043752 -0.043752 -0.043690 -0.043690 -0.043690   \n",
      "hour_11   -0.043721 -0.043752 -0.043752 -0.043690 -0.043690 -0.043690   \n",
      "hour_12   -0.043752 -0.043784 -0.043784 -0.043721 -0.043721 -0.043721   \n",
      "hour_13   -0.043784 -0.043815 -0.043815 -0.043752 -0.043752 -0.043752   \n",
      "hour_14   -0.043784 -0.043815 -0.043815 -0.043752 -0.043752 -0.043752   \n",
      "hour_15    1.000000 -0.043815 -0.043815 -0.043752 -0.043752 -0.043752   \n",
      "hour_16   -0.043815  1.000000 -0.043846 -0.043784 -0.043784 -0.043784   \n",
      "hour_17   -0.043815 -0.043846  1.000000 -0.043784 -0.043784 -0.043784   \n",
      "hour_18   -0.043752 -0.043784 -0.043784  1.000000 -0.043721 -0.043721   \n",
      "hour_19   -0.043752 -0.043784 -0.043784 -0.043721  1.000000 -0.043721   \n",
      "hour_20   -0.043752 -0.043784 -0.043784 -0.043721 -0.043721  1.000000   \n",
      "hour_21   -0.043752 -0.043784 -0.043784 -0.043721 -0.043721 -0.043721   \n",
      "hour_22   -0.043752 -0.043784 -0.043784 -0.043721 -0.043721 -0.043721   \n",
      "hour_23   -0.043752 -0.043784 -0.043784 -0.043721 -0.043721 -0.043721   \n",
      "\n",
      "            hour_21   hour_22   hour_23  \n",
      "temp      -0.001830 -0.013554 -0.023847  \n",
      "hum        0.004671  0.028089  0.049900  \n",
      "windspeed -0.015770 -0.026419 -0.043234  \n",
      "weather_1  0.021120  0.018700  0.008417  \n",
      "weather_2 -0.021142 -0.017220 -0.013952  \n",
      "weather_3 -0.002561 -0.004659  0.007928  \n",
      "holiday    0.000095  0.000095  0.000095  \n",
      "hour_1    -0.043596 -0.043596 -0.043596  \n",
      "hour_2    -0.043312 -0.043312 -0.043312  \n",
      "hour_3    -0.042740 -0.042740 -0.042740  \n",
      "hour_4    -0.042740 -0.042740 -0.042740  \n",
      "hour_5    -0.043375 -0.043375 -0.043375  \n",
      "hour_6    -0.043627 -0.043627 -0.043627  \n",
      "hour_7    -0.043690 -0.043690 -0.043690  \n",
      "hour_8    -0.043690 -0.043690 -0.043690  \n",
      "hour_9    -0.043690 -0.043690 -0.043690  \n",
      "hour_10   -0.043690 -0.043690 -0.043690  \n",
      "hour_11   -0.043690 -0.043690 -0.043690  \n",
      "hour_12   -0.043721 -0.043721 -0.043721  \n",
      "hour_13   -0.043752 -0.043752 -0.043752  \n",
      "hour_14   -0.043752 -0.043752 -0.043752  \n",
      "hour_15   -0.043752 -0.043752 -0.043752  \n",
      "hour_16   -0.043784 -0.043784 -0.043784  \n",
      "hour_17   -0.043784 -0.043784 -0.043784  \n",
      "hour_18   -0.043721 -0.043721 -0.043721  \n",
      "hour_19   -0.043721 -0.043721 -0.043721  \n",
      "hour_20   -0.043721 -0.043721 -0.043721  \n",
      "hour_21    1.000000 -0.043721 -0.043721  \n",
      "hour_22   -0.043721  1.000000 -0.043721  \n",
      "hour_23   -0.043721 -0.043721  1.000000  \n",
      "\n",
      "[30 rows x 30 columns]\n",
      "Axes(0.125,0.125;0.62x0.755)\n",
      "P Values: [  0.00000000e+000   0.00000000e+000   8.66781628e-033   3.75616929e-073\n",
      "   3.43170021e-022   1.57718666e-055   3.15814032e-005   6.64996464e-060\n",
      "   3.26347943e-066   3.30809960e-073   9.64851198e-080   2.34162115e-081\n",
      "   8.63420127e-070   2.84021955e-043   5.03259555e-015   7.51024245e-003\n",
      "   1.56865913e-009   9.55402696e-041   5.42563140e-075   1.83858247e-094\n",
      "   6.55214084e-112   3.08895832e-108   4.17937513e-102   6.03744699e-105\n",
      "   3.54290569e-046   2.37080976e-013   7.55377998e-001   3.33118416e-005\n",
      "   5.89308930e-014   1.88193460e-030]\n",
      "Coefficients: [ 88.42806475 -25.98048404 -14.6642051    8.76400843   4.48588562\n",
      "  -4.62325314  11.29336789  -2.62706845  -3.60946762  -5.15276778\n",
      "  -5.64825757  -4.71408242  -1.33868312   4.96845651  13.50628848\n",
      "  19.96151743  32.31022779  42.25013161  48.79358176  50.88297531\n",
      "  52.97981729  51.91538155  51.10596721  53.05224882  41.49530335\n",
      "  31.19860421  20.62213158  14.29415646   9.71462063   4.12777657]\n",
      "y-intercept: -17.8903807121\n",
      "R-Squared: 0.452711867537\n"
     ]
    },
    {
     "name": "stderr",
     "output_type": "stream",
     "text": [
      "C:\\Users\\Ayham\\Anaconda3\\lib\\site-packages\\numpy\\lib\\function_base.py:564: VisibleDeprecationWarning: using a non-integer number instead of an integer will result in an error in the future\n",
      "  n = np.zeros(bins, ntype)\n",
      "C:\\Users\\Ayham\\Anaconda3\\lib\\site-packages\\numpy\\lib\\function_base.py:611: VisibleDeprecationWarning: using a non-integer number instead of an integer will result in an error in the future\n",
      "  n += np.bincount(indices, weights=tmp_w, minlength=bins).astype(ntype)\n"
     ]
    },
    {
     "data": {
      "text/plain": [
       "LinearRegression(copy_X=True, fit_intercept=True, n_jobs=1, normalize=False)"
      ]
     },
     "execution_count": 85,
     "metadata": {},
     "output_type": "execute_result"
    },
    {
     "data": {
      "image/png": "[encoded data removed]",
      "text/plain": [
       "<matplotlib.figure.Figure at 0x29412d71fd0>"
      ]
     },
     "metadata": {},
     "output_type": "display_data"
    },
    {
     "data": {
      "image/png": "[encoded data removed]",
      "text/plain": [
       "<matplotlib.figure.Figure at 0x29412d53748>"
      ]
     },
     "metadata": {},
     "output_type": "display_data"
    }
   ],
   "source": [
    "#solution\n",
    "lm = linear_model.LinearRegression()\n",
    "weather = pd.get_dummies(bike_data.weathersit)\n",
    "weather.columns = ['weather_' + str(i) for i in weather.columns]\n",
    "\n",
    "hours = pd.get_dummies(bike_data.hr)\n",
    "hours.columns = ['hour_' + str(i) for i in hours.columns]\n",
    "\n",
    "season = pd.get_dummies(bike_data.season)\n",
    "season.columns = ['season_' + str(i) for i in season.columns]\n",
    "\n",
    "\n",
    "bikemodel_data = bike_data.join(weather) # add in the three weather situations\n",
    "bikemodel_data = bikemodel_data.join(hours)\n",
    "bikemodel_data = bikemodel_data.join(season)\n",
    "\n",
    "cmap = sns.diverging_palette(220, 10, as_cmap=True)\n",
    "\n",
    "columns_to_keep = ['temp', 'hum', 'windspeed', 'weather_1', 'weather_2', 'weather_3', 'holiday',]\n",
    "columns_to_keep.extend(['hour_' + str(i) for i in range(1, 24)])\n",
    "\n",
    "correlations = bikemodel_data[columns_to_keep].corr()\n",
    "print(correlations)\n",
    "print(sns.heatmap(correlations, cmap=cmap))\n",
    "final_feature_set = bikemodel_data[columns_to_keep]\n",
    "get_linear_model_metrics(final_feature_set, y, lm)"
   ]
  },
  {
   "cell_type": "markdown",
   "metadata": {},
   "source": [
    "## Independent Practice: Building models for other y variables (25 minutes)\n",
    "\n",
    "We've completely a model together that explains casual guest riders. Now it's your turn to build another model, using a different y variable: registered riders.\n",
    "\n",
    "#### Pay attention to:\n",
    "\n",
    "* the distribution of riders (should we rescale the data?)  \n",
    "* checking correlations with variables and registered riders  \n",
    "* having a feature space (our matrix) with low multicollinearity  \n",
    "* model complexity vs explanation of variance: at what point do features in a model stop improving r-squared?  \n",
    "* the linear assumption -- given all feature values being 0, should we have no ridership? negative ridership? positive ridership?\n",
    "\n",
    "#### Bonus\n",
    "\n",
    "* Which variables would make sense to dummy (because they are categorical, not continuous)?  \n",
    "* What features might explain ridership but aren't included in the data set? \n",
    "* Is there a way to build these using pandas and the features available?\n",
    "* Outcomes: If your model at least improves upon the original model and the explanatory effects (coefficients) make sense, consider this a complete task. \n",
    "\n",
    "### If your model has an r-squared above .4, this a relatively effective model for the data available. Kudos!"
   ]
  },
  {
   "cell_type": "code",
   "execution_count": 111,
   "metadata": {
    "collapsed": false
   },
   "outputs": [
    {
     "data": {
      "text/plain": [
       "Index([u'instant', u'dteday', u'season', u'yr', u'mnth', u'hr', u'holiday',\n",
       "       u'weekday', u'workingday', u'weathersit', u'temp', u'atemp', u'hum',\n",
       "       u'windspeed', u'casual', u'registered', u'cnt', u'weather_1',\n",
       "       u'weather_2', u'weather_3', u'weather_4', u'hour_0', u'hour_1',\n",
       "       u'hour_2', u'hour_3', u'hour_4', u'hour_5', u'hour_6', u'hour_7',\n",
       "       u'hour_8', u'hour_9', u'hour_10', u'hour_11', u'hour_12', u'hour_13',\n",
       "       u'hour_14', u'hour_15', u'hour_16', u'hour_17', u'hour_18', u'hour_19',\n",
       "       u'hour_20', u'hour_21', u'hour_22', u'hour_23', u'season_1',\n",
       "       u'season_2', u'season_3', u'season_4'],\n",
       "      dtype='object')"
      ]
     },
     "execution_count": 111,
     "metadata": {},
     "output_type": "execute_result"
    }
   ],
   "source": [
    "bikemodel_data.columns"
   ]
  },
  {
   "cell_type": "code",
   "execution_count": 124,
   "metadata": {
    "collapsed": false
   },
   "outputs": [
    {
     "data": {
      "text/html": [
       "<table class=\"simpletable\">\n",
       "<caption>OLS Regression Results</caption>\n",
       "<tr>\n",
       "  <th>Dep. Variable:</th>          <td>log_y</td>      <th>  R-squared:         </th> <td>   0.722</td> \n",
       "</tr>\n",
       "<tr>\n",
       "  <th>Model:</th>                   <td>OLS</td>       <th>  Adj. R-squared:    </th> <td>   0.721</td> \n",
       "</tr>\n",
       "<tr>\n",
       "  <th>Method:</th>             <td>Least Squares</td>  <th>  F-statistic:       </th> <td>   1553.</td> \n",
       "</tr>\n",
       "<tr>\n",
       "  <th>Date:</th>             <td>Thu, 04 Feb 2016</td> <th>  Prob (F-statistic):</th>  <td>  0.00</td>  \n",
       "</tr>\n",
       "<tr>\n",
       "  <th>Time:</th>                 <td>11:44:24</td>     <th>  Log-Likelihood:    </th> <td> -4868.9</td> \n",
       "</tr>\n",
       "<tr>\n",
       "  <th>No. Observations:</th>      <td> 17379</td>      <th>  AIC:               </th> <td>   9798.</td> \n",
       "</tr>\n",
       "<tr>\n",
       "  <th>Df Residuals:</th>          <td> 17349</td>      <th>  BIC:               </th> <td>1.003e+04</td>\n",
       "</tr>\n",
       "<tr>\n",
       "  <th>Df Model:</th>              <td>    29</td>      <th>                     </th>     <td> </td>    \n",
       "</tr>\n",
       "<tr>\n",
       "  <th>Covariance Type:</th>      <td>nonrobust</td>    <th>                     </th>     <td> </td>    \n",
       "</tr>\n",
       "</table>\n",
       "<table class=\"simpletable\">\n",
       "<tr>\n",
       "      <td></td>         <th>coef</th>     <th>std err</th>      <th>t</th>      <th>P>|t|</th> <th>[95.0% Conf. Int.]</th> \n",
       "</tr>\n",
       "<tr>\n",
       "  <th>Intercept</th> <td>    1.8137</td> <td>    0.186</td> <td>    9.747</td> <td> 0.000</td> <td>    1.449     2.178</td>\n",
       "</tr>\n",
       "<tr>\n",
       "  <th>temp</th>      <td>    0.7374</td> <td>    0.013</td> <td>   56.233</td> <td> 0.000</td> <td>    0.712     0.763</td>\n",
       "</tr>\n",
       "<tr>\n",
       "  <th>hum</th>       <td>   -0.2402</td> <td>    0.016</td> <td>  -14.574</td> <td> 0.000</td> <td>   -0.273    -0.208</td>\n",
       "</tr>\n",
       "<tr>\n",
       "  <th>windspeed</th> <td>   -0.0988</td> <td>    0.021</td> <td>   -4.644</td> <td> 0.000</td> <td>   -0.140    -0.057</td>\n",
       "</tr>\n",
       "<tr>\n",
       "  <th>weather_1</th> <td>    0.0102</td> <td>    0.185</td> <td>    0.055</td> <td> 0.956</td> <td>   -0.353     0.373</td>\n",
       "</tr>\n",
       "<tr>\n",
       "  <th>weather_2</th> <td>    0.0196</td> <td>    0.185</td> <td>    0.106</td> <td> 0.916</td> <td>   -0.344     0.383</td>\n",
       "</tr>\n",
       "<tr>\n",
       "  <th>weather_3</th> <td>   -0.1737</td> <td>    0.185</td> <td>   -0.937</td> <td> 0.349</td> <td>   -0.537     0.190</td>\n",
       "</tr>\n",
       "<tr>\n",
       "  <th>holiday</th>   <td>   -0.1262</td> <td>    0.015</td> <td>   -8.672</td> <td> 0.000</td> <td>   -0.155    -0.098</td>\n",
       "</tr>\n",
       "<tr>\n",
       "  <th>hour_1</th>    <td>   -0.7016</td> <td>    0.015</td> <td>  -47.740</td> <td> 0.000</td> <td>   -0.730    -0.673</td>\n",
       "</tr>\n",
       "<tr>\n",
       "  <th>hour_2</th>    <td>   -0.9087</td> <td>    0.015</td> <td>  -61.469</td> <td> 0.000</td> <td>   -0.938    -0.880</td>\n",
       "</tr>\n",
       "<tr>\n",
       "  <th>hour_3</th>    <td>   -1.1141</td> <td>    0.015</td> <td>  -74.600</td> <td> 0.000</td> <td>   -1.143    -1.085</td>\n",
       "</tr>\n",
       "<tr>\n",
       "  <th>hour_4</th>    <td>   -1.2190</td> <td>    0.015</td> <td>  -81.464</td> <td> 0.000</td> <td>   -1.248    -1.190</td>\n",
       "</tr>\n",
       "<tr>\n",
       "  <th>hour_5</th>    <td>   -0.7704</td> <td>    0.015</td> <td>  -51.897</td> <td> 0.000</td> <td>   -0.799    -0.741</td>\n",
       "</tr>\n",
       "<tr>\n",
       "  <th>hour_6</th>    <td>   -0.2697</td> <td>    0.015</td> <td>  -18.240</td> <td> 0.000</td> <td>   -0.299    -0.241</td>\n",
       "</tr>\n",
       "<tr>\n",
       "  <th>hour_7</th>    <td>    0.1413</td> <td>    0.015</td> <td>    9.600</td> <td> 0.000</td> <td>    0.112     0.170</td>\n",
       "</tr>\n",
       "<tr>\n",
       "  <th>hour_8</th>    <td>    0.4064</td> <td>    0.015</td> <td>   27.720</td> <td> 0.000</td> <td>    0.378     0.435</td>\n",
       "</tr>\n",
       "<tr>\n",
       "  <th>hour_9</th>    <td>    0.2346</td> <td>    0.015</td> <td>   16.069</td> <td> 0.000</td> <td>    0.206     0.263</td>\n",
       "</tr>\n",
       "<tr>\n",
       "  <th>hour_10</th>   <td>    0.0358</td> <td>    0.015</td> <td>    2.461</td> <td> 0.014</td> <td>    0.007     0.064</td>\n",
       "</tr>\n",
       "<tr>\n",
       "  <th>hour_11</th>   <td>    0.0696</td> <td>    0.015</td> <td>    4.771</td> <td> 0.000</td> <td>    0.041     0.098</td>\n",
       "</tr>\n",
       "<tr>\n",
       "  <th>hour_12</th>   <td>    0.1510</td> <td>    0.015</td> <td>   10.334</td> <td> 0.000</td> <td>    0.122     0.180</td>\n",
       "</tr>\n",
       "<tr>\n",
       "  <th>hour_13</th>   <td>    0.1287</td> <td>    0.015</td> <td>    8.789</td> <td> 0.000</td> <td>    0.100     0.157</td>\n",
       "</tr>\n",
       "<tr>\n",
       "  <th>hour_14</th>   <td>    0.0767</td> <td>    0.015</td> <td>    5.226</td> <td> 0.000</td> <td>    0.048     0.105</td>\n",
       "</tr>\n",
       "<tr>\n",
       "  <th>hour_15</th>   <td>    0.1050</td> <td>    0.015</td> <td>    7.149</td> <td> 0.000</td> <td>    0.076     0.134</td>\n",
       "</tr>\n",
       "<tr>\n",
       "  <th>hour_16</th>   <td>    0.2418</td> <td>    0.015</td> <td>   16.491</td> <td> 0.000</td> <td>    0.213     0.271</td>\n",
       "</tr>\n",
       "<tr>\n",
       "  <th>hour_18</th>   <td>    0.4222</td> <td>    0.015</td> <td>   28.917</td> <td> 0.000</td> <td>    0.394     0.451</td>\n",
       "</tr>\n",
       "<tr>\n",
       "  <th>hour_19</th>   <td>    0.3061</td> <td>    0.015</td> <td>   21.029</td> <td> 0.000</td> <td>    0.278     0.335</td>\n",
       "</tr>\n",
       "<tr>\n",
       "  <th>hour_20</th>   <td>    0.1876</td> <td>    0.015</td> <td>   12.891</td> <td> 0.000</td> <td>    0.159     0.216</td>\n",
       "</tr>\n",
       "<tr>\n",
       "  <th>hour_21</th>   <td>    0.0848</td> <td>    0.015</td> <td>    5.823</td> <td> 0.000</td> <td>    0.056     0.113</td>\n",
       "</tr>\n",
       "<tr>\n",
       "  <th>hour_22</th>   <td>   -0.0199</td> <td>    0.015</td> <td>   -1.363</td> <td> 0.173</td> <td>   -0.048     0.009</td>\n",
       "</tr>\n",
       "<tr>\n",
       "  <th>hour_23</th>   <td>   -0.1876</td> <td>    0.015</td> <td>  -12.840</td> <td> 0.000</td> <td>   -0.216    -0.159</td>\n",
       "</tr>\n",
       "</table>\n",
       "<table class=\"simpletable\">\n",
       "<tr>\n",
       "  <th>Omnibus:</th>       <td>759.007</td> <th>  Durbin-Watson:     </th> <td>   0.667</td> \n",
       "</tr>\n",
       "<tr>\n",
       "  <th>Prob(Omnibus):</th> <td> 0.000</td>  <th>  Jarque-Bera (JB):  </th> <td>1074.743</td> \n",
       "</tr>\n",
       "<tr>\n",
       "  <th>Skew:</th>          <td>-0.424</td>  <th>  Prob(JB):          </th> <td>4.19e-234</td>\n",
       "</tr>\n",
       "<tr>\n",
       "  <th>Kurtosis:</th>      <td> 3.875</td>  <th>  Cond. No.          </th> <td>    229.</td> \n",
       "</tr>\n",
       "</table>"
      ],
      "text/plain": [
       "<class 'statsmodels.iolib.summary.Summary'>\n",
       "\"\"\"\n",
       "                            OLS Regression Results                            \n",
       "==============================================================================\n",
       "Dep. Variable:                  log_y   R-squared:                       0.722\n",
       "Model:                            OLS   Adj. R-squared:                  0.721\n",
       "Method:                 Least Squares   F-statistic:                     1553.\n",
       "Date:                Thu, 04 Feb 2016   Prob (F-statistic):               0.00\n",
       "Time:                        11:44:24   Log-Likelihood:                -4868.9\n",
       "No. Observations:               17379   AIC:                             9798.\n",
       "Df Residuals:                   17349   BIC:                         1.003e+04\n",
       "Df Model:                          29                                         \n",
       "Covariance Type:            nonrobust                                         \n",
       "==============================================================================\n",
       "                 coef    std err          t      P>|t|      [95.0% Conf. Int.]\n",
       "------------------------------------------------------------------------------\n",
       "Intercept      1.8137      0.186      9.747      0.000         1.449     2.178\n",
       "temp           0.7374      0.013     56.233      0.000         0.712     0.763\n",
       "hum           -0.2402      0.016    -14.574      0.000        -0.273    -0.208\n",
       "windspeed     -0.0988      0.021     -4.644      0.000        -0.140    -0.057\n",
       "weather_1      0.0102      0.185      0.055      0.956        -0.353     0.373\n",
       "weather_2      0.0196      0.185      0.106      0.916        -0.344     0.383\n",
       "weather_3     -0.1737      0.185     -0.937      0.349        -0.537     0.190\n",
       "holiday       -0.1262      0.015     -8.672      0.000        -0.155    -0.098\n",
       "hour_1        -0.7016      0.015    -47.740      0.000        -0.730    -0.673\n",
       "hour_2        -0.9087      0.015    -61.469      0.000        -0.938    -0.880\n",
       "hour_3        -1.1141      0.015    -74.600      0.000        -1.143    -1.085\n",
       "hour_4        -1.2190      0.015    -81.464      0.000        -1.248    -1.190\n",
       "hour_5        -0.7704      0.015    -51.897      0.000        -0.799    -0.741\n",
       "hour_6        -0.2697      0.015    -18.240      0.000        -0.299    -0.241\n",
       "hour_7         0.1413      0.015      9.600      0.000         0.112     0.170\n",
       "hour_8         0.4064      0.015     27.720      0.000         0.378     0.435\n",
       "hour_9         0.2346      0.015     16.069      0.000         0.206     0.263\n",
       "hour_10        0.0358      0.015      2.461      0.014         0.007     0.064\n",
       "hour_11        0.0696      0.015      4.771      0.000         0.041     0.098\n",
       "hour_12        0.1510      0.015     10.334      0.000         0.122     0.180\n",
       "hour_13        0.1287      0.015      8.789      0.000         0.100     0.157\n",
       "hour_14        0.0767      0.015      5.226      0.000         0.048     0.105\n",
       "hour_15        0.1050      0.015      7.149      0.000         0.076     0.134\n",
       "hour_16        0.2418      0.015     16.491      0.000         0.213     0.271\n",
       "hour_18        0.4222      0.015     28.917      0.000         0.394     0.451\n",
       "hour_19        0.3061      0.015     21.029      0.000         0.278     0.335\n",
       "hour_20        0.1876      0.015     12.891      0.000         0.159     0.216\n",
       "hour_21        0.0848      0.015      5.823      0.000         0.056     0.113\n",
       "hour_22       -0.0199      0.015     -1.363      0.173        -0.048     0.009\n",
       "hour_23       -0.1876      0.015    -12.840      0.000        -0.216    -0.159\n",
       "==============================================================================\n",
       "Omnibus:                      759.007   Durbin-Watson:                   0.667\n",
       "Prob(Omnibus):                  0.000   Jarque-Bera (JB):             1074.743\n",
       "Skew:                          -0.424   Prob(JB):                    4.19e-234\n",
       "Kurtosis:                       3.875   Cond. No.                         229.\n",
       "==============================================================================\n",
       "\n",
       "Warnings:\n",
       "[1] Standard Errors assume that the covariance matrix of the errors is correctly specified.\n",
       "\"\"\""
      ]
     },
     "execution_count": 124,
     "metadata": {},
     "output_type": "execute_result"
    }
   ],
   "source": [
    "y = bike_data['registered']\n",
    "log_y = np.log10(y+1)\n",
    "lm = smf.ols(formula=' log_y ~ temp + hum + windspeed + weather_1 + weather_2 + weather_3 + holiday + hour_1 + hour_2 + hour_3 + hour_4 + hour_5 + hour_6 + hour_7 + hour_8 + hour_9 + hour_10 + hour_11 + hour_12 + hour_13 + hour_14 + hour_15 + hour_16 + hour_18 + hour_19 + hour_20 + hour_21 + hour_22 + hour_23', data=bikemodel_data).fit()\n",
    "#print the full summary\n",
    "lm.summary()"
   ]
  },
  {
   "cell_type": "code",
   "execution_count": null,
   "metadata": {
    "collapsed": true
   },
   "outputs": [],
   "source": []
  }
 ],
 "metadata": {
  "kernelspec": {
   "display_name": "Python 3",
   "language": "python",
   "name": "python3"
  },
  "language_info": {
   "codemirror_mode": {
    "name": "ipython",
    "version": 3
   },
   "file_extension": ".py",
   "mimetype": "text/x-python",
   "name": "python",
   "nbconvert_exporter": "python",
   "pygments_lexer": "ipython3",
   "version": "3.6.0"
  }
 },
 "nbformat": 4,
 "nbformat_minor": 0
}
