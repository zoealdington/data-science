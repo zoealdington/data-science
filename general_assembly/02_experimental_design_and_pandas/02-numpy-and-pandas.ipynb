{
 "cells": [
  {
   "cell_type": "markdown",
   "metadata": {
    "focus": false,
    "id": "e2d2e96d-e50e-4d2b-9ca2-b748fec717d5",
    "slideshow": {
     "slide_type": "slide"
    }
   },
   "source": [
    "# Agenda\n",
    "* Numpy\n",
    "* Pandas\n",
    "* Lab\n"
   ]
  },
  {
   "cell_type": "markdown",
   "metadata": {
    "focus": false,
    "id": "b4120c3a-6f30-49ba-ab8f-a86e3aa3adbd",
    "slideshow": {
     "slide_type": "subslide"
    }
   },
   "source": [
    "# Introduction\n"
   ]
  },
  {
   "cell_type": "markdown",
   "metadata": {
    "focus": false,
    "id": "485a2c1b-c45a-40da-a088-d164ede434c3",
    "slideshow": {
     "slide_type": "slide"
    }
   },
   "source": [
    "## Create a new notebook for your code-along:\n",
    "\n",
    "From our submission directory, type:\n",
    "    \n",
    "    jupyter notebook\n",
    "\n",
    "From the IPython Dashboard, open a new notebook.\n",
    "Change the title to: \"Numpy and Pandas\""
   ]
  },
  {
   "cell_type": "markdown",
   "metadata": {
    "focus": false,
    "id": "2bd62dd0-8f25-4203-8faf-9ec99b96aef2",
    "slideshow": {
     "slide_type": "slide"
    }
   },
   "source": [
    "# Introduction to Numpy\n",
    "\n",
    "* Overview\n",
    "* ndarray\n",
    "* Indexing and Slicing\n",
    "\n",
    "More info: [http://wiki.scipy.org/Tentative_NumPy_Tutorial](http://wiki.scipy.org/Tentative_NumPy_Tutorial)\n"
   ]
  },
  {
   "cell_type": "markdown",
   "metadata": {
    "focus": false,
    "id": "7db20dcb-cef2-4ae9-b44a-7b04744f74cf",
    "slideshow": {
     "slide_type": "subslide"
    }
   },
   "source": [
    "## Numpy Overview\n",
    "\n",
    "* Why Python for Data? Numpy brings *decades* of C math into Python!\n",
    "* Numpy provides a wrapper for extensive C/C++/Fortran codebases, used for data analysis functionality\n",
    "* NDAarray allows easy vectorized math and broadcasting (i.e. functions for vector elements of different shapes)"
   ]
  },
  {
   "cell_type": "code",
   "execution_count": 1,
   "metadata": {
    "collapsed": true,
    "focus": false,
    "id": "247250c7-2583-41fa-9198-6198b83fd243",
    "slideshow": {
     "slide_type": "subslide"
    }
   },
   "outputs": [],
   "source": [
    "from numpy import * #Load all the numpy packages\n"
   ]
  },
  {
   "cell_type": "markdown",
   "metadata": {
    "focus": false,
    "id": "21e43d98-4809-4360-8f14-1b1012c3acef",
    "slideshow": {
     "slide_type": "subslide"
    }
   },
   "source": [
    "### A Note About \"import as\"\n",
    "\n",
    "    import * \n",
    "This loads all submodules. Note: this is a waste of memory when incorporated into deployed code. \n",
    "We'll use it here by example - it's fine to use for learning purposes and legibility.\n",
    "\n",
    "As we'll see later, the proper convention is to use:\n",
    "\n",
    "    import numpy as np\n",
    "    \n",
    "And then to specifically call needed methods:\n",
    "\n",
    "![](http://note.io/1juA60F)"
   ]
  },
  {
   "cell_type": "markdown",
   "metadata": {
    "focus": false,
    "id": "7b1b97a1-ccb0-44a9-a0f8-12dcc590bc66",
    "slideshow": {
     "slide_type": "subslide"
    }
   },
   "source": [
    "### Creating ndarrays"
   ]
  },
  {
   "cell_type": "markdown",
   "metadata": {
    "focus": false,
    "id": "d6f83896-c0f2-4185-a528-481262fe2d91",
    "slideshow": {
     "slide_type": "fragment"
    }
   },
   "source": [
    "An array object represents a multidimensional, homogeneous array of fixed-size items. "
   ]
  },
  {
   "cell_type": "code",
   "execution_count": 2,
   "metadata": {
    "focus": false,
    "id": "54f9011d-2143-4bb7-81fc-e3216ac4c866",
    "slideshow": {
     "slide_type": "subslide"
    }
   },
   "outputs": [
    {
     "data": {
      "text/plain": [
       "array([  1.        ,   1.47368421,   1.94736842,   2.42105263,\n",
       "         2.89473684,   3.36842105,   3.84210526,   4.31578947,\n",
       "         4.78947368,   5.26315789,   5.73684211,   6.21052632,\n",
       "         6.68421053,   7.15789474,   7.63157895,   8.10526316,\n",
       "         8.57894737,   9.05263158,   9.52631579,  10.        ])"
      ]
     },
     "execution_count": 2,
     "metadata": {},
     "output_type": "execute_result"
    }
   ],
   "source": [
    "# Creating arrays #what is the default type?\n",
    "a = zeros((3)) \n",
    "b = ones((2,3))\n",
    "c = random.randint(1,10,(2,3,4))\n",
    "d = arange(0,11,0.1)\n",
    "f = linspace(1,10,20)\n",
    "e = empty(3)\n",
    "f"
   ]
  },
  {
   "cell_type": "markdown",
   "metadata": {
    "focus": false,
    "id": "668f00fe-00c6-4866-87a7-9293497f3a15",
    "slideshow": {
     "slide_type": "fragment"
    }
   },
   "source": [
    "What are these functions?\n",
    "\n",
    "    arange?\n",
    "    empty?"
   ]
  },
  {
   "cell_type": "code",
   "execution_count": 3,
   "metadata": {
    "focus": false,
    "id": "a84a1773-b477-421f-9f17-e26eb326b408",
    "slideshow": {
     "slide_type": "fragment"
    }
   },
   "outputs": [
    {
     "data": {
      "text/plain": [
       "(array([ 0.,  0.,  0.]), array([[ 1.,  1.,  1.],\n",
       "        [ 1.,  1.,  1.]]), array([[[8, 1, 6, 1],\n",
       "         [3, 9, 3, 2],\n",
       "         [3, 2, 9, 2]],\n",
       " \n",
       "        [[4, 4, 7, 2],\n",
       "         [2, 2, 5, 2],\n",
       "         [7, 4, 8, 6]]]), array([  0. ,   0.1,   0.2,   0.3,   0.4,   0.5,   0.6,   0.7,   0.8,\n",
       "          0.9,   1. ,   1.1,   1.2,   1.3,   1.4,   1.5,   1.6,   1.7,\n",
       "          1.8,   1.9,   2. ,   2.1,   2.2,   2.3,   2.4,   2.5,   2.6,\n",
       "          2.7,   2.8,   2.9,   3. ,   3.1,   3.2,   3.3,   3.4,   3.5,\n",
       "          3.6,   3.7,   3.8,   3.9,   4. ,   4.1,   4.2,   4.3,   4.4,\n",
       "          4.5,   4.6,   4.7,   4.8,   4.9,   5. ,   5.1,   5.2,   5.3,\n",
       "          5.4,   5.5,   5.6,   5.7,   5.8,   5.9,   6. ,   6.1,   6.2,\n",
       "          6.3,   6.4,   6.5,   6.6,   6.7,   6.8,   6.9,   7. ,   7.1,\n",
       "          7.2,   7.3,   7.4,   7.5,   7.6,   7.7,   7.8,   7.9,   8. ,\n",
       "          8.1,   8.2,   8.3,   8.4,   8.5,   8.6,   8.7,   8.8,   8.9,\n",
       "          9. ,   9.1,   9.2,   9.3,   9.4,   9.5,   9.6,   9.7,   9.8,\n",
       "          9.9,  10. ,  10.1,  10.2,  10.3,  10.4,  10.5,  10.6,  10.7,\n",
       "         10.8,  10.9]))"
      ]
     },
     "execution_count": 3,
     "metadata": {},
     "output_type": "execute_result"
    }
   ],
   "source": [
    "# Note the way each array is printed:\n",
    "a,b,c,d\n"
   ]
  },
  {
   "cell_type": "code",
   "execution_count": 4,
   "metadata": {},
   "outputs": [
    {
     "name": "stdout",
     "output_type": "stream",
     "text": [
      "int64\n"
     ]
    },
    {
     "data": {
      "text/plain": [
       "array([1, 2, 3, 4])"
      ]
     },
     "execution_count": 4,
     "metadata": {},
     "output_type": "execute_result"
    }
   ],
   "source": [
    "#Wrong_Array = array(1,2,3,4)    # WRONG\n",
    "Right_Array = array([1,2,3,4])  # RIGHT\n",
    "print(Right_Array.dtype)\n",
    "Right_Array"
   ]
  },
  {
   "cell_type": "code",
   "execution_count": 5,
   "metadata": {
    "collapsed": true,
    "focus": false,
    "id": "67c9acc2-c9a7-4636-acca-038bd99def6d",
    "slideshow": {
     "slide_type": "subslide"
    }
   },
   "outputs": [],
   "source": [
    "## Arithmetic in arrays is element wise"
   ]
  },
  {
   "cell_type": "code",
   "execution_count": 6,
   "metadata": {
    "focus": false,
    "id": "34461526-ff37-4e7d-8ff9-2f6887c10a1a",
    "slideshow": {
     "slide_type": "fragment"
    }
   },
   "outputs": [
    {
     "data": {
      "text/plain": [
       "array([0, 1, 2, 3])"
      ]
     },
     "execution_count": 6,
     "metadata": {},
     "output_type": "execute_result"
    }
   ],
   "source": [
    " a = array( [20,30,40,50] )\n",
    " b = arange( 4 )\n",
    " b"
   ]
  },
  {
   "cell_type": "code",
   "execution_count": 7,
   "metadata": {
    "focus": false,
    "id": "9b21c965-2734-4f09-aae0-4d344b93e681",
    "slideshow": {
     "slide_type": "fragment"
    }
   },
   "outputs": [
    {
     "data": {
      "text/plain": [
       "array([20, 29, 38, 47])"
      ]
     },
     "execution_count": 7,
     "metadata": {},
     "output_type": "execute_result"
    }
   ],
   "source": [
    " c = a-b #vectorization and broadcasting\n",
    " c\n",
    "#Vectorization describes the absence of any explicit looping, indexing, etc., in the code\n",
    "#Broadcasting is the term used to describe the implicit element-by-element behavior of operations"
   ]
  },
  {
   "cell_type": "code",
   "execution_count": 8,
   "metadata": {
    "focus": false,
    "id": "03828206-43b2-445f-b54d-7ebaca5585f5",
    "slideshow": {
     "slide_type": "fragment"
    }
   },
   "outputs": [
    {
     "data": {
      "text/plain": [
       "array([0, 1, 4, 9])"
      ]
     },
     "execution_count": 8,
     "metadata": {},
     "output_type": "execute_result"
    }
   ],
   "source": [
    " b**2"
   ]
  },
  {
   "cell_type": "code",
   "execution_count": 9,
   "metadata": {},
   "outputs": [
    {
     "name": "stdout",
     "output_type": "stream",
     "text": [
      "[  0   1   8  27  64 125 216 343 512 729]\n",
      "[-1000     1 -1000    27 -1000   125   216   343   512   729]\n",
      "[  729   512   343   216   125 -1000    27 -1000     1 -1000]\n"
     ]
    }
   ],
   "source": [
    "a = arange(10)**3\n",
    "print(a)\n",
    "a[:6:2] = -1000    # equivalent to a[0:6:2] = -1000; from start to position 6, exclusive, set every 2nd element to -1000\n",
    "print(a)\n",
    "print(a[ : : -1])                                 # reversed a"
   ]
  },
  {
   "cell_type": "code",
   "execution_count": 10,
   "metadata": {},
   "outputs": [
    {
     "name": "stdout",
     "output_type": "stream",
     "text": [
      "[[  0   1   8]\n",
      " [ 27  64 125]\n",
      " [216 343 512]]\n",
      "[[216 343 512]\n",
      " [ 27  64 125]\n",
      " [  0   1   8]]\n",
      "[[512 343 216]\n",
      " [125  64  27]\n",
      " [  8   1   0]]\n"
     ]
    }
   ],
   "source": [
    "a = arange(9).reshape(3,3)**3\n",
    "\n",
    "print(a)\n",
    "print(a[ : : -1])\n",
    "print(a.flat[::-1].reshape(3,3)) #equivalent to print(a.reshape(9)[::-1].reshape(3,3))"
   ]
  },
  {
   "cell_type": "markdown",
   "metadata": {
    "focus": false,
    "id": "e4c29549-9a0a-420c-9f86-99a798daa288",
    "slideshow": {
     "slide_type": "subslide"
    }
   },
   "source": [
    "## Indexing, Slicing and Iterating"
   ]
  },
  {
   "cell_type": "code",
   "execution_count": 11,
   "metadata": {
    "collapsed": true,
    "focus": false,
    "id": "100e8b85-16f4-43e0-9c47-67c60e1f81ed",
    "slideshow": {
     "slide_type": "fragment"
    }
   },
   "outputs": [],
   "source": [
    "# one-dimensional arrays work like lists:\n",
    "a = arange(10)**2"
   ]
  },
  {
   "cell_type": "code",
   "execution_count": 12,
   "metadata": {
    "focus": false,
    "id": "26090d07-f5d6-4baa-aacc-979982af6f14",
    "slideshow": {
     "slide_type": "fragment"
    }
   },
   "outputs": [
    {
     "data": {
      "text/plain": [
       "array([ 0,  1,  4,  9, 16, 25, 36, 49, 64, 81])"
      ]
     },
     "execution_count": 12,
     "metadata": {},
     "output_type": "execute_result"
    }
   ],
   "source": [
    "a"
   ]
  },
  {
   "cell_type": "code",
   "execution_count": 13,
   "metadata": {
    "focus": false,
    "id": "8d56b369-acfc-4e82-b325-c1aba3ee35cd",
    "slideshow": {
     "slide_type": "fragment"
    }
   },
   "outputs": [
    {
     "data": {
      "text/plain": [
       "array([ 4,  9, 16])"
      ]
     },
     "execution_count": 13,
     "metadata": {},
     "output_type": "execute_result"
    }
   ],
   "source": [
    "a[2:5]"
   ]
  },
  {
   "cell_type": "code",
   "execution_count": 14,
   "metadata": {
    "collapsed": true,
    "focus": false,
    "id": "7dbe0ac8-d44b-4698-82c6-537afff33cea",
    "slideshow": {
     "slide_type": "subslide"
    }
   },
   "outputs": [],
   "source": [
    "# Multidimensional arrays use tuples with commas for indexing\n",
    "# with (row,column) conventions beginning, as always in Python, from 0"
   ]
  },
  {
   "cell_type": "code",
   "execution_count": 15,
   "metadata": {
    "collapsed": true,
    "focus": false,
    "id": "27ba2fb0-9c69-438f-9136-da9c2204b100",
    "slideshow": {
     "slide_type": "fragment"
    }
   },
   "outputs": [],
   "source": [
    "b = random.randint(1,100,(4,4))"
   ]
  },
  {
   "cell_type": "code",
   "execution_count": 16,
   "metadata": {
    "focus": false,
    "id": "845e0d23-74e7-4f8b-a6ca-cc7a8984b13b",
    "slideshow": {
     "slide_type": "fragment"
    }
   },
   "outputs": [
    {
     "data": {
      "text/plain": [
       "array([[97, 73, 59, 80],\n",
       "       [ 9, 90, 37, 93],\n",
       "       [93, 63, 56, 47],\n",
       "       [27, 63, 76, 40]])"
      ]
     },
     "execution_count": 16,
     "metadata": {},
     "output_type": "execute_result"
    }
   ],
   "source": [
    "b"
   ]
  },
  {
   "cell_type": "code",
   "execution_count": 17,
   "metadata": {
    "focus": false,
    "id": "58463e8a-312c-4ff9-970f-c8204d6dbc30",
    "slideshow": {
     "slide_type": "fragment"
    }
   },
   "outputs": [
    {
     "name": "stdout",
     "output_type": "stream",
     "text": [
      "47\n",
      "97\n",
      "9\n",
      "1003\n",
      "93\n",
      "40\n"
     ]
    }
   ],
   "source": [
    "# Guess the output\n",
    "print(b[2,3])\n",
    "print(b[0,0])\n",
    "print(b.min())\n",
    "print(b.sum())\n",
    "print(b[1,:].max())\n",
    "print(b[:,3].min())"
   ]
  },
  {
   "cell_type": "code",
   "execution_count": 18,
   "metadata": {
    "focus": false,
    "id": "77b7d441-34a9-4d52-aab7-563e966702c9",
    "slideshow": {
     "slide_type": "fragment"
    }
   },
   "outputs": [
    {
     "data": {
      "text/plain": [
       "(array([73, 90, 63]), array([73, 90, 63, 63]))"
      ]
     },
     "execution_count": 18,
     "metadata": {},
     "output_type": "execute_result"
    }
   ],
   "source": [
    "b[0:3,1],b[:,1]"
   ]
  },
  {
   "cell_type": "code",
   "execution_count": 19,
   "metadata": {
    "focus": false,
    "id": "9b24506c-d8e4-4f1b-8fdb-b9c835b980c9",
    "slideshow": {
     "slide_type": "fragment"
    }
   },
   "outputs": [
    {
     "data": {
      "text/plain": [
       "array([[ 9, 90, 37, 93],\n",
       "       [93, 63, 56, 47]])"
      ]
     },
     "execution_count": 19,
     "metadata": {},
     "output_type": "execute_result"
    }
   ],
   "source": [
    "b[1:3,:]"
   ]
  },
  {
   "cell_type": "code",
   "execution_count": 20,
   "metadata": {},
   "outputs": [
    {
     "data": {
      "text/plain": [
       "array([[ 0,  1,  2,  3],\n",
       "       [ 4,  5,  6,  7],\n",
       "       [ 8,  9, 10, 11]])"
      ]
     },
     "execution_count": 20,
     "metadata": {},
     "output_type": "execute_result"
    }
   ],
   "source": [
    "b = arange(12).reshape(3,4)\n",
    "b"
   ]
  },
  {
   "cell_type": "code",
   "execution_count": 21,
   "metadata": {},
   "outputs": [
    {
     "data": {
      "text/plain": [
       "array([12, 15, 18, 21])"
      ]
     },
     "execution_count": 21,
     "metadata": {},
     "output_type": "execute_result"
    }
   ],
   "source": [
    "b.sum(axis=0)"
   ]
  },
  {
   "cell_type": "markdown",
   "metadata": {
    "focus": false,
    "id": "39dee2d5-b969-40d1-9bcb-9061b29c317b",
    "slideshow": {
     "slide_type": "slide"
    }
   },
   "source": [
    "# Introduction to Pandas\n",
    "\n",
    "* Object Creation\n",
    "* Viewing data\n",
    "* Selection\n",
    "* Missing data\n",
    "* Grouping\n",
    "* Reshaping\n",
    "* Time series\n",
    "* Plotting\n",
    "* i/o\n",
    " \n",
    "\n",
    "_pandas.pydata.org_"
   ]
  },
  {
   "cell_type": "markdown",
   "metadata": {
    "focus": false,
    "id": "7306e5f4-bc93-4370-9156-7ad4bb0b3662",
    "slideshow": {
     "slide_type": "slide"
    }
   },
   "source": [
    "## Pandas Overview\n",
    "\n",
    "_Source: [pandas.pydata.org](http://pandas.pydata.org/pandas-docs/stable/10min.html)_"
   ]
  },
  {
   "cell_type": "code",
   "execution_count": 22,
   "metadata": {
    "collapsed": true,
    "focus": false,
    "id": "25de189f-b377-4fac-896f-757f71485109",
    "slideshow": {
     "slide_type": "subslide"
    }
   },
   "outputs": [],
   "source": [
    "import pandas as pd\n",
    "import numpy as np\n",
    "import matplotlib.pyplot as plt\n",
    "%matplotlib inline"
   ]
  },
  {
   "cell_type": "code",
   "execution_count": 23,
   "metadata": {
    "focus": false,
    "id": "c56e480d-bc62-4502-89ae-1b3c5f8f9c65",
    "slideshow": {
     "slide_type": "subslide"
    }
   },
   "outputs": [
    {
     "data": {
      "text/plain": [
       "DatetimeIndex(['2014-01-01', '2014-01-02', '2014-01-03', '2014-01-04',\n",
       "               '2014-01-05', '2014-01-06'],\n",
       "              dtype='datetime64[ns]', freq='D')"
      ]
     },
     "execution_count": 23,
     "metadata": {},
     "output_type": "execute_result"
    }
   ],
   "source": [
    "dates = pd.date_range('20140101',periods=6)\n",
    "dates"
   ]
  },
  {
   "cell_type": "code",
   "execution_count": 24,
   "metadata": {
    "focus": false,
    "id": "c1eaf66c-b3b0-4286-b8cf-ac023341c523",
    "slideshow": {
     "slide_type": "subslide"
    }
   },
   "outputs": [
    {
     "data": {
      "text/plain": [
       "Index([u'A', u'B', u'C', u'D'], dtype='object')"
      ]
     },
     "execution_count": 24,
     "metadata": {},
     "output_type": "execute_result"
    }
   ],
   "source": [
    "df = pd.DataFrame(np.random.randn(6,4),index=dates,columns=list('ABCD'))\n",
    "z = pd.DataFrame(index = df.index, columns = df.columns)\n",
    "df.columns"
   ]
  },
  {
   "cell_type": "code",
   "execution_count": 25,
   "metadata": {},
   "outputs": [
    {
     "data": {
      "text/html": [
       "<div>\n",
       "<style>\n",
       "    .dataframe thead tr:only-child th {\n",
       "        text-align: right;\n",
       "    }\n",
       "\n",
       "    .dataframe thead th {\n",
       "        text-align: left;\n",
       "    }\n",
       "\n",
       "    .dataframe tbody tr th {\n",
       "        vertical-align: top;\n",
       "    }\n",
       "</style>\n",
       "<table border=\"1\" class=\"dataframe\">\n",
       "  <thead>\n",
       "    <tr style=\"text-align: right;\">\n",
       "      <th></th>\n",
       "      <th>A</th>\n",
       "      <th>B</th>\n",
       "      <th>C</th>\n",
       "      <th>D</th>\n",
       "    </tr>\n",
       "  </thead>\n",
       "  <tbody>\n",
       "    <tr>\n",
       "      <th>2014-01-01</th>\n",
       "      <td>0.484828</td>\n",
       "      <td>0.172301</td>\n",
       "      <td>2.295682</td>\n",
       "      <td>0.071778</td>\n",
       "    </tr>\n",
       "    <tr>\n",
       "      <th>2014-01-02</th>\n",
       "      <td>0.602530</td>\n",
       "      <td>-1.655253</td>\n",
       "      <td>-0.236097</td>\n",
       "      <td>0.323834</td>\n",
       "    </tr>\n",
       "    <tr>\n",
       "      <th>2014-01-03</th>\n",
       "      <td>-0.428806</td>\n",
       "      <td>0.256375</td>\n",
       "      <td>0.731707</td>\n",
       "      <td>-0.601043</td>\n",
       "    </tr>\n",
       "    <tr>\n",
       "      <th>2014-01-04</th>\n",
       "      <td>-0.050648</td>\n",
       "      <td>0.634751</td>\n",
       "      <td>0.074866</td>\n",
       "      <td>-0.917202</td>\n",
       "    </tr>\n",
       "    <tr>\n",
       "      <th>2014-01-05</th>\n",
       "      <td>-1.288797</td>\n",
       "      <td>-0.132644</td>\n",
       "      <td>0.848636</td>\n",
       "      <td>0.145168</td>\n",
       "    </tr>\n",
       "    <tr>\n",
       "      <th>2014-01-06</th>\n",
       "      <td>2.240097</td>\n",
       "      <td>-0.735271</td>\n",
       "      <td>-0.355370</td>\n",
       "      <td>1.245675</td>\n",
       "    </tr>\n",
       "  </tbody>\n",
       "</table>\n",
       "</div>"
      ],
      "text/plain": [
       "                   A         B         C         D\n",
       "2014-01-01  0.484828  0.172301  2.295682  0.071778\n",
       "2014-01-02  0.602530 -1.655253 -0.236097  0.323834\n",
       "2014-01-03 -0.428806  0.256375  0.731707 -0.601043\n",
       "2014-01-04 -0.050648  0.634751  0.074866 -0.917202\n",
       "2014-01-05 -1.288797 -0.132644  0.848636  0.145168\n",
       "2014-01-06  2.240097 -0.735271 -0.355370  1.245675"
      ]
     },
     "execution_count": 25,
     "metadata": {},
     "output_type": "execute_result"
    }
   ],
   "source": [
    "df"
   ]
  },
  {
   "cell_type": "code",
   "execution_count": 26,
   "metadata": {
    "focus": false,
    "id": "8e7170fc-f502-45b0-b82a-bdac82dabf7e",
    "slideshow": {
     "slide_type": "subslide"
    }
   },
   "outputs": [
    {
     "data": {
      "text/html": [
       "<div>\n",
       "<style>\n",
       "    .dataframe thead tr:only-child th {\n",
       "        text-align: right;\n",
       "    }\n",
       "\n",
       "    .dataframe thead th {\n",
       "        text-align: left;\n",
       "    }\n",
       "\n",
       "    .dataframe tbody tr th {\n",
       "        vertical-align: top;\n",
       "    }\n",
       "</style>\n",
       "<table border=\"1\" class=\"dataframe\">\n",
       "  <thead>\n",
       "    <tr style=\"text-align: right;\">\n",
       "      <th></th>\n",
       "      <th>2014-01-01 00:00:00</th>\n",
       "      <th>2014-01-02 00:00:00</th>\n",
       "      <th>2014-01-03 00:00:00</th>\n",
       "      <th>2014-01-04 00:00:00</th>\n",
       "      <th>2014-01-05 00:00:00</th>\n",
       "      <th>2014-01-06 00:00:00</th>\n",
       "    </tr>\n",
       "  </thead>\n",
       "  <tbody>\n",
       "    <tr>\n",
       "      <th>A</th>\n",
       "      <td>0.484828</td>\n",
       "      <td>0.602530</td>\n",
       "      <td>-0.428806</td>\n",
       "      <td>-0.050648</td>\n",
       "      <td>-1.288797</td>\n",
       "      <td>2.240097</td>\n",
       "    </tr>\n",
       "    <tr>\n",
       "      <th>B</th>\n",
       "      <td>0.172301</td>\n",
       "      <td>-1.655253</td>\n",
       "      <td>0.256375</td>\n",
       "      <td>0.634751</td>\n",
       "      <td>-0.132644</td>\n",
       "      <td>-0.735271</td>\n",
       "    </tr>\n",
       "    <tr>\n",
       "      <th>C</th>\n",
       "      <td>2.295682</td>\n",
       "      <td>-0.236097</td>\n",
       "      <td>0.731707</td>\n",
       "      <td>0.074866</td>\n",
       "      <td>0.848636</td>\n",
       "      <td>-0.355370</td>\n",
       "    </tr>\n",
       "    <tr>\n",
       "      <th>D</th>\n",
       "      <td>0.071778</td>\n",
       "      <td>0.323834</td>\n",
       "      <td>-0.601043</td>\n",
       "      <td>-0.917202</td>\n",
       "      <td>0.145168</td>\n",
       "      <td>1.245675</td>\n",
       "    </tr>\n",
       "  </tbody>\n",
       "</table>\n",
       "</div>"
      ],
      "text/plain": [
       "   2014-01-01  2014-01-02  2014-01-03  2014-01-04  2014-01-05  2014-01-06\n",
       "A    0.484828    0.602530   -0.428806   -0.050648   -1.288797    2.240097\n",
       "B    0.172301   -1.655253    0.256375    0.634751   -0.132644   -0.735271\n",
       "C    2.295682   -0.236097    0.731707    0.074866    0.848636   -0.355370\n",
       "D    0.071778    0.323834   -0.601043   -0.917202    0.145168    1.245675"
      ]
     },
     "execution_count": 26,
     "metadata": {},
     "output_type": "execute_result"
    }
   ],
   "source": [
    "# Index, columns, underlying numpy data\n",
    "df.T"
   ]
  },
  {
   "cell_type": "code",
   "execution_count": 27,
   "metadata": {
    "focus": false,
    "id": "0c3d9fa3-7522-4e18-8be5-74661547954f",
    "slideshow": {
     "slide_type": "subslide"
    }
   },
   "outputs": [
    {
     "data": {
      "text/html": [
       "<div>\n",
       "<style>\n",
       "    .dataframe thead tr:only-child th {\n",
       "        text-align: right;\n",
       "    }\n",
       "\n",
       "    .dataframe thead th {\n",
       "        text-align: left;\n",
       "    }\n",
       "\n",
       "    .dataframe tbody tr th {\n",
       "        vertical-align: top;\n",
       "    }\n",
       "</style>\n",
       "<table border=\"1\" class=\"dataframe\">\n",
       "  <thead>\n",
       "    <tr style=\"text-align: right;\">\n",
       "      <th></th>\n",
       "      <th>A</th>\n",
       "      <th>B</th>\n",
       "      <th>C</th>\n",
       "      <th>D</th>\n",
       "      <th>E</th>\n",
       "    </tr>\n",
       "  </thead>\n",
       "  <tbody>\n",
       "    <tr>\n",
       "      <th>0</th>\n",
       "      <td>1.0</td>\n",
       "      <td>2013-01-02</td>\n",
       "      <td>1.0</td>\n",
       "      <td>3</td>\n",
       "      <td>foo</td>\n",
       "    </tr>\n",
       "    <tr>\n",
       "      <th>1</th>\n",
       "      <td>1.0</td>\n",
       "      <td>2013-01-02</td>\n",
       "      <td>1.0</td>\n",
       "      <td>3</td>\n",
       "      <td>foo</td>\n",
       "    </tr>\n",
       "    <tr>\n",
       "      <th>2</th>\n",
       "      <td>1.0</td>\n",
       "      <td>2013-01-02</td>\n",
       "      <td>1.0</td>\n",
       "      <td>3</td>\n",
       "      <td>foo</td>\n",
       "    </tr>\n",
       "    <tr>\n",
       "      <th>3</th>\n",
       "      <td>1.0</td>\n",
       "      <td>2013-01-02</td>\n",
       "      <td>1.0</td>\n",
       "      <td>3</td>\n",
       "      <td>foo</td>\n",
       "    </tr>\n",
       "  </tbody>\n",
       "</table>\n",
       "</div>"
      ],
      "text/plain": [
       "     A          B    C  D    E\n",
       "0  1.0 2013-01-02  1.0  3  foo\n",
       "1  1.0 2013-01-02  1.0  3  foo\n",
       "2  1.0 2013-01-02  1.0  3  foo\n",
       "3  1.0 2013-01-02  1.0  3  foo"
      ]
     },
     "execution_count": 27,
     "metadata": {},
     "output_type": "execute_result"
    }
   ],
   "source": [
    "df2 = pd.DataFrame({ 'A' : 1.,\n",
    "                         'B' : pd.Timestamp('20130102'),\n",
    "                         'C' : pd.Series(1,index=list(range(4)),dtype='float32'),\n",
    "                         'D' : np.array([3] * 4,dtype='int32'),\n",
    "                         'E' : 'foo' })\n",
    "    \n",
    "\n",
    "df2"
   ]
  },
  {
   "cell_type": "code",
   "execution_count": 28,
   "metadata": {
    "focus": false,
    "id": "4c3d6e0a-6a4f-48dd-87c8-71d94577f429",
    "slideshow": {
     "slide_type": "subslide"
    }
   },
   "outputs": [
    {
     "data": {
      "text/plain": [
       "A           float64\n",
       "B    datetime64[ns]\n",
       "C           float32\n",
       "D             int32\n",
       "E            object\n",
       "dtype: object"
      ]
     },
     "execution_count": 28,
     "metadata": {},
     "output_type": "execute_result"
    }
   ],
   "source": [
    "# With specific dtypes\n",
    "df2.dtypes"
   ]
  },
  {
   "cell_type": "markdown",
   "metadata": {
    "focus": false,
    "id": "2792318e-6f4c-4ae8-a937-1964456f91f8",
    "slideshow": {
     "slide_type": "slide"
    }
   },
   "source": [
    "#### Viewing Data"
   ]
  },
  {
   "cell_type": "code",
   "execution_count": 29,
   "metadata": {
    "focus": false,
    "id": "dee84a01-9e14-4996-a334-502fd8234ad4",
    "slideshow": {
     "slide_type": "subslide"
    }
   },
   "outputs": [
    {
     "data": {
      "text/html": [
       "<div>\n",
       "<style>\n",
       "    .dataframe thead tr:only-child th {\n",
       "        text-align: right;\n",
       "    }\n",
       "\n",
       "    .dataframe thead th {\n",
       "        text-align: left;\n",
       "    }\n",
       "\n",
       "    .dataframe tbody tr th {\n",
       "        vertical-align: top;\n",
       "    }\n",
       "</style>\n",
       "<table border=\"1\" class=\"dataframe\">\n",
       "  <thead>\n",
       "    <tr style=\"text-align: right;\">\n",
       "      <th></th>\n",
       "      <th>A</th>\n",
       "      <th>B</th>\n",
       "      <th>C</th>\n",
       "      <th>D</th>\n",
       "    </tr>\n",
       "  </thead>\n",
       "  <tbody>\n",
       "    <tr>\n",
       "      <th>2014-01-01</th>\n",
       "      <td>0.484828</td>\n",
       "      <td>0.172301</td>\n",
       "      <td>2.295682</td>\n",
       "      <td>0.071778</td>\n",
       "    </tr>\n",
       "    <tr>\n",
       "      <th>2014-01-02</th>\n",
       "      <td>0.602530</td>\n",
       "      <td>-1.655253</td>\n",
       "      <td>-0.236097</td>\n",
       "      <td>0.323834</td>\n",
       "    </tr>\n",
       "    <tr>\n",
       "      <th>2014-01-03</th>\n",
       "      <td>-0.428806</td>\n",
       "      <td>0.256375</td>\n",
       "      <td>0.731707</td>\n",
       "      <td>-0.601043</td>\n",
       "    </tr>\n",
       "    <tr>\n",
       "      <th>2014-01-04</th>\n",
       "      <td>-0.050648</td>\n",
       "      <td>0.634751</td>\n",
       "      <td>0.074866</td>\n",
       "      <td>-0.917202</td>\n",
       "    </tr>\n",
       "    <tr>\n",
       "      <th>2014-01-05</th>\n",
       "      <td>-1.288797</td>\n",
       "      <td>-0.132644</td>\n",
       "      <td>0.848636</td>\n",
       "      <td>0.145168</td>\n",
       "    </tr>\n",
       "  </tbody>\n",
       "</table>\n",
       "</div>"
      ],
      "text/plain": [
       "                   A         B         C         D\n",
       "2014-01-01  0.484828  0.172301  2.295682  0.071778\n",
       "2014-01-02  0.602530 -1.655253 -0.236097  0.323834\n",
       "2014-01-03 -0.428806  0.256375  0.731707 -0.601043\n",
       "2014-01-04 -0.050648  0.634751  0.074866 -0.917202\n",
       "2014-01-05 -1.288797 -0.132644  0.848636  0.145168"
      ]
     },
     "execution_count": 29,
     "metadata": {},
     "output_type": "execute_result"
    }
   ],
   "source": [
    "df.head()"
   ]
  },
  {
   "cell_type": "code",
   "execution_count": 30,
   "metadata": {
    "focus": false,
    "id": "791189f7-053a-44bd-b13c-2c6ba2cb4df5",
    "slideshow": {
     "slide_type": "fragment"
    }
   },
   "outputs": [
    {
     "data": {
      "text/html": [
       "<div>\n",
       "<style>\n",
       "    .dataframe thead tr:only-child th {\n",
       "        text-align: right;\n",
       "    }\n",
       "\n",
       "    .dataframe thead th {\n",
       "        text-align: left;\n",
       "    }\n",
       "\n",
       "    .dataframe tbody tr th {\n",
       "        vertical-align: top;\n",
       "    }\n",
       "</style>\n",
       "<table border=\"1\" class=\"dataframe\">\n",
       "  <thead>\n",
       "    <tr style=\"text-align: right;\">\n",
       "      <th></th>\n",
       "      <th>A</th>\n",
       "      <th>B</th>\n",
       "      <th>C</th>\n",
       "      <th>D</th>\n",
       "    </tr>\n",
       "  </thead>\n",
       "  <tbody>\n",
       "    <tr>\n",
       "      <th>2014-01-02</th>\n",
       "      <td>0.602530</td>\n",
       "      <td>-1.655253</td>\n",
       "      <td>-0.236097</td>\n",
       "      <td>0.323834</td>\n",
       "    </tr>\n",
       "    <tr>\n",
       "      <th>2014-01-03</th>\n",
       "      <td>-0.428806</td>\n",
       "      <td>0.256375</td>\n",
       "      <td>0.731707</td>\n",
       "      <td>-0.601043</td>\n",
       "    </tr>\n",
       "    <tr>\n",
       "      <th>2014-01-04</th>\n",
       "      <td>-0.050648</td>\n",
       "      <td>0.634751</td>\n",
       "      <td>0.074866</td>\n",
       "      <td>-0.917202</td>\n",
       "    </tr>\n",
       "    <tr>\n",
       "      <th>2014-01-05</th>\n",
       "      <td>-1.288797</td>\n",
       "      <td>-0.132644</td>\n",
       "      <td>0.848636</td>\n",
       "      <td>0.145168</td>\n",
       "    </tr>\n",
       "    <tr>\n",
       "      <th>2014-01-06</th>\n",
       "      <td>2.240097</td>\n",
       "      <td>-0.735271</td>\n",
       "      <td>-0.355370</td>\n",
       "      <td>1.245675</td>\n",
       "    </tr>\n",
       "  </tbody>\n",
       "</table>\n",
       "</div>"
      ],
      "text/plain": [
       "                   A         B         C         D\n",
       "2014-01-02  0.602530 -1.655253 -0.236097  0.323834\n",
       "2014-01-03 -0.428806  0.256375  0.731707 -0.601043\n",
       "2014-01-04 -0.050648  0.634751  0.074866 -0.917202\n",
       "2014-01-05 -1.288797 -0.132644  0.848636  0.145168\n",
       "2014-01-06  2.240097 -0.735271 -0.355370  1.245675"
      ]
     },
     "execution_count": 30,
     "metadata": {},
     "output_type": "execute_result"
    }
   ],
   "source": [
    "df.tail()"
   ]
  },
  {
   "cell_type": "code",
   "execution_count": 31,
   "metadata": {
    "focus": false,
    "id": "fc1c8091-670a-4f81-9d6f-158958c3b413",
    "slideshow": {
     "slide_type": "subslide"
    }
   },
   "outputs": [
    {
     "data": {
      "text/plain": [
       "DatetimeIndex(['2014-01-01', '2014-01-02', '2014-01-03', '2014-01-04',\n",
       "               '2014-01-05', '2014-01-06'],\n",
       "              dtype='datetime64[ns]', freq='D')"
      ]
     },
     "execution_count": 31,
     "metadata": {},
     "output_type": "execute_result"
    }
   ],
   "source": [
    "df.index"
   ]
  },
  {
   "cell_type": "code",
   "execution_count": 32,
   "metadata": {
    "focus": false,
    "id": "337688a9-1ab9-4909-80c8-159cec177b2e",
    "slideshow": {
     "slide_type": "subslide"
    }
   },
   "outputs": [
    {
     "data": {
      "text/html": [
       "<div>\n",
       "<style>\n",
       "    .dataframe thead tr:only-child th {\n",
       "        text-align: right;\n",
       "    }\n",
       "\n",
       "    .dataframe thead th {\n",
       "        text-align: left;\n",
       "    }\n",
       "\n",
       "    .dataframe tbody tr th {\n",
       "        vertical-align: top;\n",
       "    }\n",
       "</style>\n",
       "<table border=\"1\" class=\"dataframe\">\n",
       "  <thead>\n",
       "    <tr style=\"text-align: right;\">\n",
       "      <th></th>\n",
       "      <th>A</th>\n",
       "      <th>B</th>\n",
       "      <th>C</th>\n",
       "      <th>D</th>\n",
       "    </tr>\n",
       "  </thead>\n",
       "  <tbody>\n",
       "    <tr>\n",
       "      <th>count</th>\n",
       "      <td>6.000000</td>\n",
       "      <td>6.000000</td>\n",
       "      <td>6.000000</td>\n",
       "      <td>6.000000</td>\n",
       "    </tr>\n",
       "    <tr>\n",
       "      <th>mean</th>\n",
       "      <td>0.259868</td>\n",
       "      <td>-0.243290</td>\n",
       "      <td>0.559904</td>\n",
       "      <td>0.044702</td>\n",
       "    </tr>\n",
       "    <tr>\n",
       "      <th>std</th>\n",
       "      <td>1.188140</td>\n",
       "      <td>0.829610</td>\n",
       "      <td>0.983098</td>\n",
       "      <td>0.758066</td>\n",
       "    </tr>\n",
       "    <tr>\n",
       "      <th>min</th>\n",
       "      <td>-1.288797</td>\n",
       "      <td>-1.655253</td>\n",
       "      <td>-0.355370</td>\n",
       "      <td>-0.917202</td>\n",
       "    </tr>\n",
       "    <tr>\n",
       "      <th>25%</th>\n",
       "      <td>-0.334266</td>\n",
       "      <td>-0.584614</td>\n",
       "      <td>-0.158356</td>\n",
       "      <td>-0.432837</td>\n",
       "    </tr>\n",
       "    <tr>\n",
       "      <th>50%</th>\n",
       "      <td>0.217090</td>\n",
       "      <td>0.019829</td>\n",
       "      <td>0.403286</td>\n",
       "      <td>0.108473</td>\n",
       "    </tr>\n",
       "    <tr>\n",
       "      <th>75%</th>\n",
       "      <td>0.573105</td>\n",
       "      <td>0.235356</td>\n",
       "      <td>0.819403</td>\n",
       "      <td>0.279168</td>\n",
       "    </tr>\n",
       "    <tr>\n",
       "      <th>max</th>\n",
       "      <td>2.240097</td>\n",
       "      <td>0.634751</td>\n",
       "      <td>2.295682</td>\n",
       "      <td>1.245675</td>\n",
       "    </tr>\n",
       "  </tbody>\n",
       "</table>\n",
       "</div>"
      ],
      "text/plain": [
       "              A         B         C         D\n",
       "count  6.000000  6.000000  6.000000  6.000000\n",
       "mean   0.259868 -0.243290  0.559904  0.044702\n",
       "std    1.188140  0.829610  0.983098  0.758066\n",
       "min   -1.288797 -1.655253 -0.355370 -0.917202\n",
       "25%   -0.334266 -0.584614 -0.158356 -0.432837\n",
       "50%    0.217090  0.019829  0.403286  0.108473\n",
       "75%    0.573105  0.235356  0.819403  0.279168\n",
       "max    2.240097  0.634751  2.295682  1.245675"
      ]
     },
     "execution_count": 32,
     "metadata": {},
     "output_type": "execute_result"
    }
   ],
   "source": [
    "df.describe()"
   ]
  },
  {
   "cell_type": "code",
   "execution_count": 33,
   "metadata": {
    "focus": false,
    "id": "29c9b7a6-9d06-4f3b-b9d5-6ebc09cd561f",
    "slideshow": {
     "slide_type": "subslide"
    }
   },
   "outputs": [
    {
     "data": {
      "text/html": [
       "<div>\n",
       "<style>\n",
       "    .dataframe thead tr:only-child th {\n",
       "        text-align: right;\n",
       "    }\n",
       "\n",
       "    .dataframe thead th {\n",
       "        text-align: left;\n",
       "    }\n",
       "\n",
       "    .dataframe tbody tr th {\n",
       "        vertical-align: top;\n",
       "    }\n",
       "</style>\n",
       "<table border=\"1\" class=\"dataframe\">\n",
       "  <thead>\n",
       "    <tr style=\"text-align: right;\">\n",
       "      <th></th>\n",
       "      <th>A</th>\n",
       "      <th>B</th>\n",
       "      <th>C</th>\n",
       "      <th>D</th>\n",
       "    </tr>\n",
       "  </thead>\n",
       "  <tbody>\n",
       "    <tr>\n",
       "      <th>2014-01-02</th>\n",
       "      <td>0.602530</td>\n",
       "      <td>-1.655253</td>\n",
       "      <td>-0.236097</td>\n",
       "      <td>0.323834</td>\n",
       "    </tr>\n",
       "    <tr>\n",
       "      <th>2014-01-06</th>\n",
       "      <td>2.240097</td>\n",
       "      <td>-0.735271</td>\n",
       "      <td>-0.355370</td>\n",
       "      <td>1.245675</td>\n",
       "    </tr>\n",
       "    <tr>\n",
       "      <th>2014-01-05</th>\n",
       "      <td>-1.288797</td>\n",
       "      <td>-0.132644</td>\n",
       "      <td>0.848636</td>\n",
       "      <td>0.145168</td>\n",
       "    </tr>\n",
       "    <tr>\n",
       "      <th>2014-01-01</th>\n",
       "      <td>0.484828</td>\n",
       "      <td>0.172301</td>\n",
       "      <td>2.295682</td>\n",
       "      <td>0.071778</td>\n",
       "    </tr>\n",
       "    <tr>\n",
       "      <th>2014-01-03</th>\n",
       "      <td>-0.428806</td>\n",
       "      <td>0.256375</td>\n",
       "      <td>0.731707</td>\n",
       "      <td>-0.601043</td>\n",
       "    </tr>\n",
       "    <tr>\n",
       "      <th>2014-01-04</th>\n",
       "      <td>-0.050648</td>\n",
       "      <td>0.634751</td>\n",
       "      <td>0.074866</td>\n",
       "      <td>-0.917202</td>\n",
       "    </tr>\n",
       "  </tbody>\n",
       "</table>\n",
       "</div>"
      ],
      "text/plain": [
       "                   A         B         C         D\n",
       "2014-01-02  0.602530 -1.655253 -0.236097  0.323834\n",
       "2014-01-06  2.240097 -0.735271 -0.355370  1.245675\n",
       "2014-01-05 -1.288797 -0.132644  0.848636  0.145168\n",
       "2014-01-01  0.484828  0.172301  2.295682  0.071778\n",
       "2014-01-03 -0.428806  0.256375  0.731707 -0.601043\n",
       "2014-01-04 -0.050648  0.634751  0.074866 -0.917202"
      ]
     },
     "execution_count": 33,
     "metadata": {},
     "output_type": "execute_result"
    }
   ],
   "source": [
    "df.sort_values(by='B')"
   ]
  },
  {
   "cell_type": "markdown",
   "metadata": {
    "focus": false,
    "id": "1440616a-c3e7-4b5c-aec3-3705d76429cd",
    "slideshow": {
     "slide_type": "slide"
    }
   },
   "source": [
    "### Selection"
   ]
  },
  {
   "cell_type": "code",
   "execution_count": 34,
   "metadata": {
    "focus": false,
    "id": "7825e53c-bd40-4027-9581-42d8f5aafa93",
    "slideshow": {
     "slide_type": "subslide"
    }
   },
   "outputs": [
    {
     "data": {
      "text/html": [
       "<div>\n",
       "<style>\n",
       "    .dataframe thead tr:only-child th {\n",
       "        text-align: right;\n",
       "    }\n",
       "\n",
       "    .dataframe thead th {\n",
       "        text-align: left;\n",
       "    }\n",
       "\n",
       "    .dataframe tbody tr th {\n",
       "        vertical-align: top;\n",
       "    }\n",
       "</style>\n",
       "<table border=\"1\" class=\"dataframe\">\n",
       "  <thead>\n",
       "    <tr style=\"text-align: right;\">\n",
       "      <th></th>\n",
       "      <th>A</th>\n",
       "      <th>B</th>\n",
       "    </tr>\n",
       "  </thead>\n",
       "  <tbody>\n",
       "    <tr>\n",
       "      <th>2014-01-01</th>\n",
       "      <td>0.484828</td>\n",
       "      <td>0.172301</td>\n",
       "    </tr>\n",
       "    <tr>\n",
       "      <th>2014-01-02</th>\n",
       "      <td>0.602530</td>\n",
       "      <td>-1.655253</td>\n",
       "    </tr>\n",
       "    <tr>\n",
       "      <th>2014-01-03</th>\n",
       "      <td>-0.428806</td>\n",
       "      <td>0.256375</td>\n",
       "    </tr>\n",
       "    <tr>\n",
       "      <th>2014-01-04</th>\n",
       "      <td>-0.050648</td>\n",
       "      <td>0.634751</td>\n",
       "    </tr>\n",
       "    <tr>\n",
       "      <th>2014-01-05</th>\n",
       "      <td>-1.288797</td>\n",
       "      <td>-0.132644</td>\n",
       "    </tr>\n",
       "    <tr>\n",
       "      <th>2014-01-06</th>\n",
       "      <td>2.240097</td>\n",
       "      <td>-0.735271</td>\n",
       "    </tr>\n",
       "  </tbody>\n",
       "</table>\n",
       "</div>"
      ],
      "text/plain": [
       "                   A         B\n",
       "2014-01-01  0.484828  0.172301\n",
       "2014-01-02  0.602530 -1.655253\n",
       "2014-01-03 -0.428806  0.256375\n",
       "2014-01-04 -0.050648  0.634751\n",
       "2014-01-05 -1.288797 -0.132644\n",
       "2014-01-06  2.240097 -0.735271"
      ]
     },
     "execution_count": 34,
     "metadata": {},
     "output_type": "execute_result"
    }
   ],
   "source": [
    "df[['A','B']]"
   ]
  },
  {
   "cell_type": "code",
   "execution_count": 35,
   "metadata": {
    "focus": false,
    "id": "817868ae-d7df-425b-9368-e1b3c86a21d1",
    "slideshow": {
     "slide_type": "subslide"
    }
   },
   "outputs": [
    {
     "data": {
      "text/html": [
       "<div>\n",
       "<style>\n",
       "    .dataframe thead tr:only-child th {\n",
       "        text-align: right;\n",
       "    }\n",
       "\n",
       "    .dataframe thead th {\n",
       "        text-align: left;\n",
       "    }\n",
       "\n",
       "    .dataframe tbody tr th {\n",
       "        vertical-align: top;\n",
       "    }\n",
       "</style>\n",
       "<table border=\"1\" class=\"dataframe\">\n",
       "  <thead>\n",
       "    <tr style=\"text-align: right;\">\n",
       "      <th></th>\n",
       "      <th>A</th>\n",
       "      <th>B</th>\n",
       "      <th>C</th>\n",
       "      <th>D</th>\n",
       "    </tr>\n",
       "  </thead>\n",
       "  <tbody>\n",
       "    <tr>\n",
       "      <th>2014-01-01</th>\n",
       "      <td>0.484828</td>\n",
       "      <td>0.172301</td>\n",
       "      <td>2.295682</td>\n",
       "      <td>0.071778</td>\n",
       "    </tr>\n",
       "    <tr>\n",
       "      <th>2014-01-02</th>\n",
       "      <td>0.602530</td>\n",
       "      <td>-1.655253</td>\n",
       "      <td>-0.236097</td>\n",
       "      <td>0.323834</td>\n",
       "    </tr>\n",
       "    <tr>\n",
       "      <th>2014-01-03</th>\n",
       "      <td>-0.428806</td>\n",
       "      <td>0.256375</td>\n",
       "      <td>0.731707</td>\n",
       "      <td>-0.601043</td>\n",
       "    </tr>\n",
       "  </tbody>\n",
       "</table>\n",
       "</div>"
      ],
      "text/plain": [
       "                   A         B         C         D\n",
       "2014-01-01  0.484828  0.172301  2.295682  0.071778\n",
       "2014-01-02  0.602530 -1.655253 -0.236097  0.323834\n",
       "2014-01-03 -0.428806  0.256375  0.731707 -0.601043"
      ]
     },
     "execution_count": 35,
     "metadata": {},
     "output_type": "execute_result"
    }
   ],
   "source": [
    "df[0:3]"
   ]
  },
  {
   "cell_type": "code",
   "execution_count": 36,
   "metadata": {
    "focus": false,
    "id": "dcf6444e-ae7d-4058-abb0-5046d16733d2",
    "slideshow": {
     "slide_type": "subslide"
    }
   },
   "outputs": [
    {
     "data": {
      "text/plain": [
       "A    0.484828\n",
       "B    0.172301\n",
       "C    2.295682\n",
       "D    0.071778\n",
       "Name: 2014-01-01 00:00:00, dtype: float64"
      ]
     },
     "execution_count": 36,
     "metadata": {},
     "output_type": "execute_result"
    }
   ],
   "source": [
    "# By label\n",
    "df.loc[dates[0]]"
   ]
  },
  {
   "cell_type": "code",
   "execution_count": 37,
   "metadata": {
    "focus": false,
    "id": "da51e123-4546-4c14-bdcc-969751f1991e",
    "slideshow": {
     "slide_type": "fragment"
    }
   },
   "outputs": [
    {
     "data": {
      "text/html": [
       "<div>\n",
       "<style>\n",
       "    .dataframe thead tr:only-child th {\n",
       "        text-align: right;\n",
       "    }\n",
       "\n",
       "    .dataframe thead th {\n",
       "        text-align: left;\n",
       "    }\n",
       "\n",
       "    .dataframe tbody tr th {\n",
       "        vertical-align: top;\n",
       "    }\n",
       "</style>\n",
       "<table border=\"1\" class=\"dataframe\">\n",
       "  <thead>\n",
       "    <tr style=\"text-align: right;\">\n",
       "      <th></th>\n",
       "      <th>A</th>\n",
       "      <th>B</th>\n",
       "    </tr>\n",
       "  </thead>\n",
       "  <tbody>\n",
       "    <tr>\n",
       "      <th>2014-01-01</th>\n",
       "      <td>0.484828</td>\n",
       "      <td>0.172301</td>\n",
       "    </tr>\n",
       "    <tr>\n",
       "      <th>2014-01-02</th>\n",
       "      <td>0.602530</td>\n",
       "      <td>-1.655253</td>\n",
       "    </tr>\n",
       "    <tr>\n",
       "      <th>2014-01-03</th>\n",
       "      <td>-0.428806</td>\n",
       "      <td>0.256375</td>\n",
       "    </tr>\n",
       "    <tr>\n",
       "      <th>2014-01-04</th>\n",
       "      <td>-0.050648</td>\n",
       "      <td>0.634751</td>\n",
       "    </tr>\n",
       "    <tr>\n",
       "      <th>2014-01-05</th>\n",
       "      <td>-1.288797</td>\n",
       "      <td>-0.132644</td>\n",
       "    </tr>\n",
       "    <tr>\n",
       "      <th>2014-01-06</th>\n",
       "      <td>2.240097</td>\n",
       "      <td>-0.735271</td>\n",
       "    </tr>\n",
       "  </tbody>\n",
       "</table>\n",
       "</div>"
      ],
      "text/plain": [
       "                   A         B\n",
       "2014-01-01  0.484828  0.172301\n",
       "2014-01-02  0.602530 -1.655253\n",
       "2014-01-03 -0.428806  0.256375\n",
       "2014-01-04 -0.050648  0.634751\n",
       "2014-01-05 -1.288797 -0.132644\n",
       "2014-01-06  2.240097 -0.735271"
      ]
     },
     "execution_count": 37,
     "metadata": {},
     "output_type": "execute_result"
    }
   ],
   "source": [
    "# multi-axis by label\n",
    "df.loc[:,['A','B']]"
   ]
  },
  {
   "cell_type": "code",
   "execution_count": 38,
   "metadata": {
    "focus": false,
    "id": "e3e52e42-a7f3-4298-80ae-d4554764b9fe",
    "slideshow": {
     "slide_type": "fragment"
    }
   },
   "outputs": [
    {
     "data": {
      "text/html": [
       "<div>\n",
       "<style>\n",
       "    .dataframe thead tr:only-child th {\n",
       "        text-align: right;\n",
       "    }\n",
       "\n",
       "    .dataframe thead th {\n",
       "        text-align: left;\n",
       "    }\n",
       "\n",
       "    .dataframe tbody tr th {\n",
       "        vertical-align: top;\n",
       "    }\n",
       "</style>\n",
       "<table border=\"1\" class=\"dataframe\">\n",
       "  <thead>\n",
       "    <tr style=\"text-align: right;\">\n",
       "      <th></th>\n",
       "      <th>B</th>\n",
       "    </tr>\n",
       "  </thead>\n",
       "  <tbody>\n",
       "    <tr>\n",
       "      <th>2014-01-02</th>\n",
       "      <td>-1.655253</td>\n",
       "    </tr>\n",
       "    <tr>\n",
       "      <th>2014-01-03</th>\n",
       "      <td>0.256375</td>\n",
       "    </tr>\n",
       "    <tr>\n",
       "      <th>2014-01-04</th>\n",
       "      <td>0.634751</td>\n",
       "    </tr>\n",
       "  </tbody>\n",
       "</table>\n",
       "</div>"
      ],
      "text/plain": [
       "                   B\n",
       "2014-01-02 -1.655253\n",
       "2014-01-03  0.256375\n",
       "2014-01-04  0.634751"
      ]
     },
     "execution_count": 38,
     "metadata": {},
     "output_type": "execute_result"
    }
   ],
   "source": [
    "# Date Range\n",
    "df.loc['20140102':'20140104',['B']]"
   ]
  },
  {
   "cell_type": "code",
   "execution_count": 39,
   "metadata": {
    "focus": false,
    "id": "6ec7d13c-1a41-4358-bbd3-742f6253b497",
    "slideshow": {
     "slide_type": "fragment"
    }
   },
   "outputs": [
    {
     "data": {
      "text/plain": [
       "-1.6552530707792474"
      ]
     },
     "execution_count": 39,
     "metadata": {},
     "output_type": "execute_result"
    }
   ],
   "source": [
    "# Fast access to scalar\n",
    "df.at[dates[1],'B']"
   ]
  },
  {
   "cell_type": "code",
   "execution_count": 40,
   "metadata": {
    "focus": false,
    "id": "42f70279-ecea-4460-872c-95949b247caf",
    "slideshow": {
     "slide_type": "fragment"
    }
   },
   "outputs": [
    {
     "data": {
      "text/html": [
       "<div>\n",
       "<style>\n",
       "    .dataframe thead tr:only-child th {\n",
       "        text-align: right;\n",
       "    }\n",
       "\n",
       "    .dataframe thead th {\n",
       "        text-align: left;\n",
       "    }\n",
       "\n",
       "    .dataframe tbody tr th {\n",
       "        vertical-align: top;\n",
       "    }\n",
       "</style>\n",
       "<table border=\"1\" class=\"dataframe\">\n",
       "  <thead>\n",
       "    <tr style=\"text-align: right;\">\n",
       "      <th></th>\n",
       "      <th>A</th>\n",
       "      <th>B</th>\n",
       "      <th>C</th>\n",
       "      <th>D</th>\n",
       "    </tr>\n",
       "  </thead>\n",
       "  <tbody>\n",
       "    <tr>\n",
       "      <th>2014-01-04</th>\n",
       "      <td>-0.050648</td>\n",
       "      <td>0.634751</td>\n",
       "      <td>0.074866</td>\n",
       "      <td>-0.917202</td>\n",
       "    </tr>\n",
       "    <tr>\n",
       "      <th>2014-01-05</th>\n",
       "      <td>-1.288797</td>\n",
       "      <td>-0.132644</td>\n",
       "      <td>0.848636</td>\n",
       "      <td>0.145168</td>\n",
       "    </tr>\n",
       "    <tr>\n",
       "      <th>2014-01-06</th>\n",
       "      <td>2.240097</td>\n",
       "      <td>-0.735271</td>\n",
       "      <td>-0.355370</td>\n",
       "      <td>1.245675</td>\n",
       "    </tr>\n",
       "  </tbody>\n",
       "</table>\n",
       "</div>"
      ],
      "text/plain": [
       "                   A         B         C         D\n",
       "2014-01-04 -0.050648  0.634751  0.074866 -0.917202\n",
       "2014-01-05 -1.288797 -0.132644  0.848636  0.145168\n",
       "2014-01-06  2.240097 -0.735271 -0.355370  1.245675"
      ]
     },
     "execution_count": 40,
     "metadata": {},
     "output_type": "execute_result"
    }
   ],
   "source": [
    "# iloc provides integer locations similar to np style\n",
    "df.iloc[3:]"
   ]
  },
  {
   "cell_type": "markdown",
   "metadata": {
    "focus": false,
    "id": "16735d8f-3712-42a2-bd0e-8cd141fbe232",
    "slideshow": {
     "slide_type": "subslide"
    }
   },
   "source": [
    "### Boolean Indexing"
   ]
  },
  {
   "cell_type": "code",
   "execution_count": 41,
   "metadata": {
    "focus": false,
    "id": "a0af5955-c7e0-4d83-aea2-1972b21b8974",
    "slideshow": {
     "slide_type": "fragment"
    }
   },
   "outputs": [
    {
     "data": {
      "text/html": [
       "<div>\n",
       "<style>\n",
       "    .dataframe thead tr:only-child th {\n",
       "        text-align: right;\n",
       "    }\n",
       "\n",
       "    .dataframe thead th {\n",
       "        text-align: left;\n",
       "    }\n",
       "\n",
       "    .dataframe tbody tr th {\n",
       "        vertical-align: top;\n",
       "    }\n",
       "</style>\n",
       "<table border=\"1\" class=\"dataframe\">\n",
       "  <thead>\n",
       "    <tr style=\"text-align: right;\">\n",
       "      <th></th>\n",
       "      <th>A</th>\n",
       "      <th>B</th>\n",
       "      <th>C</th>\n",
       "      <th>D</th>\n",
       "    </tr>\n",
       "  </thead>\n",
       "  <tbody>\n",
       "    <tr>\n",
       "      <th>2014-01-03</th>\n",
       "      <td>-0.428806</td>\n",
       "      <td>0.256375</td>\n",
       "      <td>0.731707</td>\n",
       "      <td>-0.601043</td>\n",
       "    </tr>\n",
       "    <tr>\n",
       "      <th>2014-01-04</th>\n",
       "      <td>-0.050648</td>\n",
       "      <td>0.634751</td>\n",
       "      <td>0.074866</td>\n",
       "      <td>-0.917202</td>\n",
       "    </tr>\n",
       "    <tr>\n",
       "      <th>2014-01-05</th>\n",
       "      <td>-1.288797</td>\n",
       "      <td>-0.132644</td>\n",
       "      <td>0.848636</td>\n",
       "      <td>0.145168</td>\n",
       "    </tr>\n",
       "  </tbody>\n",
       "</table>\n",
       "</div>"
      ],
      "text/plain": [
       "                   A         B         C         D\n",
       "2014-01-03 -0.428806  0.256375  0.731707 -0.601043\n",
       "2014-01-04 -0.050648  0.634751  0.074866 -0.917202\n",
       "2014-01-05 -1.288797 -0.132644  0.848636  0.145168"
      ]
     },
     "execution_count": 41,
     "metadata": {},
     "output_type": "execute_result"
    }
   ],
   "source": [
    "df[df.A < 0] # Basically a 'where' operation"
   ]
  },
  {
   "cell_type": "markdown",
   "metadata": {
    "focus": false,
    "id": "c22c86db-8892-4337-b70f-5e849ee63daa",
    "slideshow": {
     "slide_type": "subslide"
    }
   },
   "source": [
    "### Setting"
   ]
  },
  {
   "cell_type": "code",
   "execution_count": 42,
   "metadata": {
    "collapsed": true,
    "focus": false,
    "id": "8d65e283-2ba8-43c1-ba16-e69da80b51b9",
    "slideshow": {
     "slide_type": "fragment"
    }
   },
   "outputs": [],
   "source": [
    "df_posA = df.copy() # Without \"copy\" it would act on the dataset\n",
    "\n",
    "df_posA[df_posA.A < 0] = -1*df_posA"
   ]
  },
  {
   "cell_type": "code",
   "execution_count": 43,
   "metadata": {
    "focus": false,
    "id": "ce51651b-1c4a-4a02-8e84-6a938c5c7a4c",
    "slideshow": {
     "slide_type": "fragment"
    }
   },
   "outputs": [
    {
     "data": {
      "text/html": [
       "<div>\n",
       "<style>\n",
       "    .dataframe thead tr:only-child th {\n",
       "        text-align: right;\n",
       "    }\n",
       "\n",
       "    .dataframe thead th {\n",
       "        text-align: left;\n",
       "    }\n",
       "\n",
       "    .dataframe tbody tr th {\n",
       "        vertical-align: top;\n",
       "    }\n",
       "</style>\n",
       "<table border=\"1\" class=\"dataframe\">\n",
       "  <thead>\n",
       "    <tr style=\"text-align: right;\">\n",
       "      <th></th>\n",
       "      <th>A</th>\n",
       "      <th>B</th>\n",
       "      <th>C</th>\n",
       "      <th>D</th>\n",
       "    </tr>\n",
       "  </thead>\n",
       "  <tbody>\n",
       "    <tr>\n",
       "      <th>2014-01-01</th>\n",
       "      <td>0.484828</td>\n",
       "      <td>0.172301</td>\n",
       "      <td>2.295682</td>\n",
       "      <td>0.071778</td>\n",
       "    </tr>\n",
       "    <tr>\n",
       "      <th>2014-01-02</th>\n",
       "      <td>0.602530</td>\n",
       "      <td>-1.655253</td>\n",
       "      <td>-0.236097</td>\n",
       "      <td>0.323834</td>\n",
       "    </tr>\n",
       "    <tr>\n",
       "      <th>2014-01-03</th>\n",
       "      <td>0.428806</td>\n",
       "      <td>-0.256375</td>\n",
       "      <td>-0.731707</td>\n",
       "      <td>0.601043</td>\n",
       "    </tr>\n",
       "    <tr>\n",
       "      <th>2014-01-04</th>\n",
       "      <td>0.050648</td>\n",
       "      <td>-0.634751</td>\n",
       "      <td>-0.074866</td>\n",
       "      <td>0.917202</td>\n",
       "    </tr>\n",
       "    <tr>\n",
       "      <th>2014-01-05</th>\n",
       "      <td>1.288797</td>\n",
       "      <td>0.132644</td>\n",
       "      <td>-0.848636</td>\n",
       "      <td>-0.145168</td>\n",
       "    </tr>\n",
       "    <tr>\n",
       "      <th>2014-01-06</th>\n",
       "      <td>2.240097</td>\n",
       "      <td>-0.735271</td>\n",
       "      <td>-0.355370</td>\n",
       "      <td>1.245675</td>\n",
       "    </tr>\n",
       "  </tbody>\n",
       "</table>\n",
       "</div>"
      ],
      "text/plain": [
       "                   A         B         C         D\n",
       "2014-01-01  0.484828  0.172301  2.295682  0.071778\n",
       "2014-01-02  0.602530 -1.655253 -0.236097  0.323834\n",
       "2014-01-03  0.428806 -0.256375 -0.731707  0.601043\n",
       "2014-01-04  0.050648 -0.634751 -0.074866  0.917202\n",
       "2014-01-05  1.288797  0.132644 -0.848636 -0.145168\n",
       "2014-01-06  2.240097 -0.735271 -0.355370  1.245675"
      ]
     },
     "execution_count": 43,
     "metadata": {},
     "output_type": "execute_result"
    }
   ],
   "source": [
    "df_posA"
   ]
  },
  {
   "cell_type": "code",
   "execution_count": 44,
   "metadata": {
    "collapsed": true,
    "focus": false,
    "id": "f45e9be0-2c20-4d49-b167-911f076a00b2",
    "slideshow": {
     "slide_type": "subslide"
    }
   },
   "outputs": [],
   "source": [
    "#Setting new column aligns data by index\n",
    "s1 = pd.Series([1,2,3,4,5,6],index=pd.date_range('20140102',periods=6))"
   ]
  },
  {
   "cell_type": "code",
   "execution_count": 45,
   "metadata": {
    "focus": false,
    "id": "12df6591-5940-4198-a7f9-9f7563afc75b",
    "slideshow": {
     "slide_type": "fragment"
    }
   },
   "outputs": [
    {
     "data": {
      "text/plain": [
       "2014-01-02    1\n",
       "2014-01-03    2\n",
       "2014-01-04    3\n",
       "2014-01-05    4\n",
       "2014-01-06    5\n",
       "2014-01-07    6\n",
       "Freq: D, dtype: int64"
      ]
     },
     "execution_count": 45,
     "metadata": {},
     "output_type": "execute_result"
    }
   ],
   "source": [
    "s1"
   ]
  },
  {
   "cell_type": "code",
   "execution_count": 46,
   "metadata": {
    "collapsed": true,
    "focus": false,
    "id": "7281af7b-395f-417b-aa07-c53a26591fc7",
    "slideshow": {
     "slide_type": "fragment"
    }
   },
   "outputs": [],
   "source": [
    "df['F'] = s1"
   ]
  },
  {
   "cell_type": "code",
   "execution_count": 47,
   "metadata": {
    "focus": false,
    "id": "d41dfe6d-025f-4078-a33b-3e7e0ea0d1dc",
    "slideshow": {
     "slide_type": "fragment"
    }
   },
   "outputs": [
    {
     "data": {
      "text/html": [
       "<div>\n",
       "<style>\n",
       "    .dataframe thead tr:only-child th {\n",
       "        text-align: right;\n",
       "    }\n",
       "\n",
       "    .dataframe thead th {\n",
       "        text-align: left;\n",
       "    }\n",
       "\n",
       "    .dataframe tbody tr th {\n",
       "        vertical-align: top;\n",
       "    }\n",
       "</style>\n",
       "<table border=\"1\" class=\"dataframe\">\n",
       "  <thead>\n",
       "    <tr style=\"text-align: right;\">\n",
       "      <th></th>\n",
       "      <th>A</th>\n",
       "      <th>B</th>\n",
       "      <th>C</th>\n",
       "      <th>D</th>\n",
       "      <th>F</th>\n",
       "    </tr>\n",
       "  </thead>\n",
       "  <tbody>\n",
       "    <tr>\n",
       "      <th>2014-01-01</th>\n",
       "      <td>0.484828</td>\n",
       "      <td>0.172301</td>\n",
       "      <td>2.295682</td>\n",
       "      <td>0.071778</td>\n",
       "      <td>NaN</td>\n",
       "    </tr>\n",
       "    <tr>\n",
       "      <th>2014-01-02</th>\n",
       "      <td>0.602530</td>\n",
       "      <td>-1.655253</td>\n",
       "      <td>-0.236097</td>\n",
       "      <td>0.323834</td>\n",
       "      <td>1.0</td>\n",
       "    </tr>\n",
       "    <tr>\n",
       "      <th>2014-01-03</th>\n",
       "      <td>-0.428806</td>\n",
       "      <td>0.256375</td>\n",
       "      <td>0.731707</td>\n",
       "      <td>-0.601043</td>\n",
       "      <td>2.0</td>\n",
       "    </tr>\n",
       "    <tr>\n",
       "      <th>2014-01-04</th>\n",
       "      <td>-0.050648</td>\n",
       "      <td>0.634751</td>\n",
       "      <td>0.074866</td>\n",
       "      <td>-0.917202</td>\n",
       "      <td>3.0</td>\n",
       "    </tr>\n",
       "    <tr>\n",
       "      <th>2014-01-05</th>\n",
       "      <td>-1.288797</td>\n",
       "      <td>-0.132644</td>\n",
       "      <td>0.848636</td>\n",
       "      <td>0.145168</td>\n",
       "      <td>4.0</td>\n",
       "    </tr>\n",
       "    <tr>\n",
       "      <th>2014-01-06</th>\n",
       "      <td>2.240097</td>\n",
       "      <td>-0.735271</td>\n",
       "      <td>-0.355370</td>\n",
       "      <td>1.245675</td>\n",
       "      <td>5.0</td>\n",
       "    </tr>\n",
       "  </tbody>\n",
       "</table>\n",
       "</div>"
      ],
      "text/plain": [
       "                   A         B         C         D    F\n",
       "2014-01-01  0.484828  0.172301  2.295682  0.071778  NaN\n",
       "2014-01-02  0.602530 -1.655253 -0.236097  0.323834  1.0\n",
       "2014-01-03 -0.428806  0.256375  0.731707 -0.601043  2.0\n",
       "2014-01-04 -0.050648  0.634751  0.074866 -0.917202  3.0\n",
       "2014-01-05 -1.288797 -0.132644  0.848636  0.145168  4.0\n",
       "2014-01-06  2.240097 -0.735271 -0.355370  1.245675  5.0"
      ]
     },
     "execution_count": 47,
     "metadata": {},
     "output_type": "execute_result"
    }
   ],
   "source": [
    "df"
   ]
  },
  {
   "cell_type": "markdown",
   "metadata": {
    "focus": false,
    "id": "203fd0e7-9ad9-4dcc-8167-72bd28e7a029",
    "slideshow": {
     "slide_type": "slide"
    }
   },
   "source": [
    "### Missing Data"
   ]
  },
  {
   "cell_type": "code",
   "execution_count": 48,
   "metadata": {
    "focus": false,
    "id": "98b7be6a-8d81-4c29-9439-2b5c5fae1dce",
    "slideshow": {
     "slide_type": "subslide"
    }
   },
   "outputs": [
    {
     "data": {
      "text/html": [
       "<div>\n",
       "<style>\n",
       "    .dataframe thead tr:only-child th {\n",
       "        text-align: right;\n",
       "    }\n",
       "\n",
       "    .dataframe thead th {\n",
       "        text-align: left;\n",
       "    }\n",
       "\n",
       "    .dataframe tbody tr th {\n",
       "        vertical-align: top;\n",
       "    }\n",
       "</style>\n",
       "<table border=\"1\" class=\"dataframe\">\n",
       "  <thead>\n",
       "    <tr style=\"text-align: right;\">\n",
       "      <th></th>\n",
       "      <th>A</th>\n",
       "      <th>B</th>\n",
       "      <th>C</th>\n",
       "      <th>D</th>\n",
       "      <th>F</th>\n",
       "      <th>E</th>\n",
       "    </tr>\n",
       "  </thead>\n",
       "  <tbody>\n",
       "    <tr>\n",
       "      <th>2014-01-01</th>\n",
       "      <td>0.484828</td>\n",
       "      <td>0.172301</td>\n",
       "      <td>2.295682</td>\n",
       "      <td>0.071778</td>\n",
       "      <td>NaN</td>\n",
       "      <td>NaN</td>\n",
       "    </tr>\n",
       "    <tr>\n",
       "      <th>2014-01-02</th>\n",
       "      <td>0.602530</td>\n",
       "      <td>-1.655253</td>\n",
       "      <td>-0.236097</td>\n",
       "      <td>0.323834</td>\n",
       "      <td>1.0</td>\n",
       "      <td>NaN</td>\n",
       "    </tr>\n",
       "    <tr>\n",
       "      <th>2014-01-03</th>\n",
       "      <td>-0.428806</td>\n",
       "      <td>0.256375</td>\n",
       "      <td>0.731707</td>\n",
       "      <td>-0.601043</td>\n",
       "      <td>2.0</td>\n",
       "      <td>NaN</td>\n",
       "    </tr>\n",
       "    <tr>\n",
       "      <th>2014-01-04</th>\n",
       "      <td>-0.050648</td>\n",
       "      <td>0.634751</td>\n",
       "      <td>0.074866</td>\n",
       "      <td>-0.917202</td>\n",
       "      <td>3.0</td>\n",
       "      <td>NaN</td>\n",
       "    </tr>\n",
       "  </tbody>\n",
       "</table>\n",
       "</div>"
      ],
      "text/plain": [
       "                   A         B         C         D    F   E\n",
       "2014-01-01  0.484828  0.172301  2.295682  0.071778  NaN NaN\n",
       "2014-01-02  0.602530 -1.655253 -0.236097  0.323834  1.0 NaN\n",
       "2014-01-03 -0.428806  0.256375  0.731707 -0.601043  2.0 NaN\n",
       "2014-01-04 -0.050648  0.634751  0.074866 -0.917202  3.0 NaN"
      ]
     },
     "execution_count": 48,
     "metadata": {},
     "output_type": "execute_result"
    }
   ],
   "source": [
    "# Add a column with missing data\n",
    "df1 = df.reindex(index=dates[0:4],columns=list(df.columns) + ['E'])\n",
    "df1"
   ]
  },
  {
   "cell_type": "code",
   "execution_count": 49,
   "metadata": {
    "collapsed": true,
    "focus": false,
    "id": "e13067da-23ce-440f-9e0d-693e4e5565c2",
    "slideshow": {
     "slide_type": "subslide"
    }
   },
   "outputs": [],
   "source": [
    "df1.loc[dates[0]:dates[1],'E'] = 1"
   ]
  },
  {
   "cell_type": "code",
   "execution_count": 50,
   "metadata": {
    "focus": false,
    "id": "24e2f95e-75dc-42ed-93fb-8fae3e9623a6",
    "slideshow": {
     "slide_type": "fragment"
    }
   },
   "outputs": [
    {
     "data": {
      "text/html": [
       "<div>\n",
       "<style>\n",
       "    .dataframe thead tr:only-child th {\n",
       "        text-align: right;\n",
       "    }\n",
       "\n",
       "    .dataframe thead th {\n",
       "        text-align: left;\n",
       "    }\n",
       "\n",
       "    .dataframe tbody tr th {\n",
       "        vertical-align: top;\n",
       "    }\n",
       "</style>\n",
       "<table border=\"1\" class=\"dataframe\">\n",
       "  <thead>\n",
       "    <tr style=\"text-align: right;\">\n",
       "      <th></th>\n",
       "      <th>A</th>\n",
       "      <th>B</th>\n",
       "      <th>C</th>\n",
       "      <th>D</th>\n",
       "      <th>F</th>\n",
       "      <th>E</th>\n",
       "    </tr>\n",
       "  </thead>\n",
       "  <tbody>\n",
       "    <tr>\n",
       "      <th>2014-01-01</th>\n",
       "      <td>0.484828</td>\n",
       "      <td>0.172301</td>\n",
       "      <td>2.295682</td>\n",
       "      <td>0.071778</td>\n",
       "      <td>NaN</td>\n",
       "      <td>1.0</td>\n",
       "    </tr>\n",
       "    <tr>\n",
       "      <th>2014-01-02</th>\n",
       "      <td>0.602530</td>\n",
       "      <td>-1.655253</td>\n",
       "      <td>-0.236097</td>\n",
       "      <td>0.323834</td>\n",
       "      <td>1.0</td>\n",
       "      <td>1.0</td>\n",
       "    </tr>\n",
       "    <tr>\n",
       "      <th>2014-01-03</th>\n",
       "      <td>-0.428806</td>\n",
       "      <td>0.256375</td>\n",
       "      <td>0.731707</td>\n",
       "      <td>-0.601043</td>\n",
       "      <td>2.0</td>\n",
       "      <td>NaN</td>\n",
       "    </tr>\n",
       "    <tr>\n",
       "      <th>2014-01-04</th>\n",
       "      <td>-0.050648</td>\n",
       "      <td>0.634751</td>\n",
       "      <td>0.074866</td>\n",
       "      <td>-0.917202</td>\n",
       "      <td>3.0</td>\n",
       "      <td>NaN</td>\n",
       "    </tr>\n",
       "  </tbody>\n",
       "</table>\n",
       "</div>"
      ],
      "text/plain": [
       "                   A         B         C         D    F    E\n",
       "2014-01-01  0.484828  0.172301  2.295682  0.071778  NaN  1.0\n",
       "2014-01-02  0.602530 -1.655253 -0.236097  0.323834  1.0  1.0\n",
       "2014-01-03 -0.428806  0.256375  0.731707 -0.601043  2.0  NaN\n",
       "2014-01-04 -0.050648  0.634751  0.074866 -0.917202  3.0  NaN"
      ]
     },
     "execution_count": 50,
     "metadata": {},
     "output_type": "execute_result"
    }
   ],
   "source": [
    "df1"
   ]
  },
  {
   "cell_type": "code",
   "execution_count": 51,
   "metadata": {
    "focus": false,
    "id": "3521940b-df04-432a-9cfc-18a1353d9652",
    "slideshow": {
     "slide_type": "subslide"
    }
   },
   "outputs": [
    {
     "data": {
      "text/html": [
       "<div>\n",
       "<style>\n",
       "    .dataframe thead tr:only-child th {\n",
       "        text-align: right;\n",
       "    }\n",
       "\n",
       "    .dataframe thead th {\n",
       "        text-align: left;\n",
       "    }\n",
       "\n",
       "    .dataframe tbody tr th {\n",
       "        vertical-align: top;\n",
       "    }\n",
       "</style>\n",
       "<table border=\"1\" class=\"dataframe\">\n",
       "  <thead>\n",
       "    <tr style=\"text-align: right;\">\n",
       "      <th></th>\n",
       "      <th>A</th>\n",
       "      <th>B</th>\n",
       "      <th>C</th>\n",
       "      <th>D</th>\n",
       "      <th>F</th>\n",
       "      <th>E</th>\n",
       "    </tr>\n",
       "  </thead>\n",
       "  <tbody>\n",
       "    <tr>\n",
       "      <th>2014-01-01</th>\n",
       "      <td>False</td>\n",
       "      <td>False</td>\n",
       "      <td>False</td>\n",
       "      <td>False</td>\n",
       "      <td>True</td>\n",
       "      <td>False</td>\n",
       "    </tr>\n",
       "    <tr>\n",
       "      <th>2014-01-02</th>\n",
       "      <td>False</td>\n",
       "      <td>False</td>\n",
       "      <td>False</td>\n",
       "      <td>False</td>\n",
       "      <td>False</td>\n",
       "      <td>False</td>\n",
       "    </tr>\n",
       "    <tr>\n",
       "      <th>2014-01-03</th>\n",
       "      <td>False</td>\n",
       "      <td>False</td>\n",
       "      <td>False</td>\n",
       "      <td>False</td>\n",
       "      <td>False</td>\n",
       "      <td>True</td>\n",
       "    </tr>\n",
       "    <tr>\n",
       "      <th>2014-01-04</th>\n",
       "      <td>False</td>\n",
       "      <td>False</td>\n",
       "      <td>False</td>\n",
       "      <td>False</td>\n",
       "      <td>False</td>\n",
       "      <td>True</td>\n",
       "    </tr>\n",
       "  </tbody>\n",
       "</table>\n",
       "</div>"
      ],
      "text/plain": [
       "                A      B      C      D      F      E\n",
       "2014-01-01  False  False  False  False   True  False\n",
       "2014-01-02  False  False  False  False  False  False\n",
       "2014-01-03  False  False  False  False  False   True\n",
       "2014-01-04  False  False  False  False  False   True"
      ]
     },
     "execution_count": 51,
     "metadata": {},
     "output_type": "execute_result"
    }
   ],
   "source": [
    "# find where values are null\n",
    "pd.isnull(df1)"
   ]
  },
  {
   "cell_type": "markdown",
   "metadata": {
    "focus": false,
    "id": "74c34377-4b13-4562-9ef5-35ab50ee0a52",
    "slideshow": {
     "slide_type": "slide"
    }
   },
   "source": [
    "### Operations"
   ]
  },
  {
   "cell_type": "code",
   "execution_count": 52,
   "metadata": {
    "focus": false,
    "id": "98905902-a6d4-4935-ac8e-f2cb95e123e9",
    "slideshow": {
     "slide_type": "subslide"
    }
   },
   "outputs": [
    {
     "data": {
      "text/html": [
       "<div>\n",
       "<style>\n",
       "    .dataframe thead tr:only-child th {\n",
       "        text-align: right;\n",
       "    }\n",
       "\n",
       "    .dataframe thead th {\n",
       "        text-align: left;\n",
       "    }\n",
       "\n",
       "    .dataframe tbody tr th {\n",
       "        vertical-align: top;\n",
       "    }\n",
       "</style>\n",
       "<table border=\"1\" class=\"dataframe\">\n",
       "  <thead>\n",
       "    <tr style=\"text-align: right;\">\n",
       "      <th></th>\n",
       "      <th>A</th>\n",
       "      <th>B</th>\n",
       "      <th>C</th>\n",
       "      <th>D</th>\n",
       "      <th>F</th>\n",
       "    </tr>\n",
       "  </thead>\n",
       "  <tbody>\n",
       "    <tr>\n",
       "      <th>count</th>\n",
       "      <td>6.000000</td>\n",
       "      <td>6.000000</td>\n",
       "      <td>6.000000</td>\n",
       "      <td>6.000000</td>\n",
       "      <td>5.000000</td>\n",
       "    </tr>\n",
       "    <tr>\n",
       "      <th>mean</th>\n",
       "      <td>0.259868</td>\n",
       "      <td>-0.243290</td>\n",
       "      <td>0.559904</td>\n",
       "      <td>0.044702</td>\n",
       "      <td>3.000000</td>\n",
       "    </tr>\n",
       "    <tr>\n",
       "      <th>std</th>\n",
       "      <td>1.188140</td>\n",
       "      <td>0.829610</td>\n",
       "      <td>0.983098</td>\n",
       "      <td>0.758066</td>\n",
       "      <td>1.581139</td>\n",
       "    </tr>\n",
       "    <tr>\n",
       "      <th>min</th>\n",
       "      <td>-1.288797</td>\n",
       "      <td>-1.655253</td>\n",
       "      <td>-0.355370</td>\n",
       "      <td>-0.917202</td>\n",
       "      <td>1.000000</td>\n",
       "    </tr>\n",
       "    <tr>\n",
       "      <th>25%</th>\n",
       "      <td>-0.334266</td>\n",
       "      <td>-0.584614</td>\n",
       "      <td>-0.158356</td>\n",
       "      <td>-0.432837</td>\n",
       "      <td>2.000000</td>\n",
       "    </tr>\n",
       "    <tr>\n",
       "      <th>50%</th>\n",
       "      <td>0.217090</td>\n",
       "      <td>0.019829</td>\n",
       "      <td>0.403286</td>\n",
       "      <td>0.108473</td>\n",
       "      <td>3.000000</td>\n",
       "    </tr>\n",
       "    <tr>\n",
       "      <th>75%</th>\n",
       "      <td>0.573105</td>\n",
       "      <td>0.235356</td>\n",
       "      <td>0.819403</td>\n",
       "      <td>0.279168</td>\n",
       "      <td>4.000000</td>\n",
       "    </tr>\n",
       "    <tr>\n",
       "      <th>max</th>\n",
       "      <td>2.240097</td>\n",
       "      <td>0.634751</td>\n",
       "      <td>2.295682</td>\n",
       "      <td>1.245675</td>\n",
       "      <td>5.000000</td>\n",
       "    </tr>\n",
       "  </tbody>\n",
       "</table>\n",
       "</div>"
      ],
      "text/plain": [
       "              A         B         C         D         F\n",
       "count  6.000000  6.000000  6.000000  6.000000  5.000000\n",
       "mean   0.259868 -0.243290  0.559904  0.044702  3.000000\n",
       "std    1.188140  0.829610  0.983098  0.758066  1.581139\n",
       "min   -1.288797 -1.655253 -0.355370 -0.917202  1.000000\n",
       "25%   -0.334266 -0.584614 -0.158356 -0.432837  2.000000\n",
       "50%    0.217090  0.019829  0.403286  0.108473  3.000000\n",
       "75%    0.573105  0.235356  0.819403  0.279168  4.000000\n",
       "max    2.240097  0.634751  2.295682  1.245675  5.000000"
      ]
     },
     "execution_count": 52,
     "metadata": {},
     "output_type": "execute_result"
    }
   ],
   "source": [
    "df.describe()"
   ]
  },
  {
   "cell_type": "code",
   "execution_count": 53,
   "metadata": {
    "focus": false,
    "id": "372219c5-5800-4502-83de-ac91bacb6cdb",
    "slideshow": {
     "slide_type": "subslide"
    }
   },
   "outputs": [
    {
     "data": {
      "text/plain": [
       "(A    0.259868\n",
       " B   -0.243290\n",
       " C    0.559904\n",
       " D    0.044702\n",
       " F    3.000000\n",
       " dtype: float64, 2014-01-01    0.756147\n",
       " 2014-01-02    0.007003\n",
       " 2014-01-03    0.391647\n",
       " 2014-01-04    0.548353\n",
       " 2014-01-05    0.714473\n",
       " 2014-01-06    1.479026\n",
       " Freq: D, dtype: float64)"
      ]
     },
     "execution_count": 53,
     "metadata": {},
     "output_type": "execute_result"
    }
   ],
   "source": [
    "df.mean(),df.mean(1) # Operation on two different axes"
   ]
  },
  {
   "cell_type": "markdown",
   "metadata": {
    "focus": false,
    "id": "aefd18b0-3fc6-4b15-bd6f-dd18136547a1",
    "slideshow": {
     "slide_type": "slide"
    }
   },
   "source": [
    "### Applying functions"
   ]
  },
  {
   "cell_type": "code",
   "execution_count": 54,
   "metadata": {
    "focus": false,
    "id": "1b4b693d-27fe-4eb4-8aa4-4b2a4c27a1a2",
    "slideshow": {
     "slide_type": "subslide"
    }
   },
   "outputs": [
    {
     "data": {
      "text/html": [
       "<div>\n",
       "<style>\n",
       "    .dataframe thead tr:only-child th {\n",
       "        text-align: right;\n",
       "    }\n",
       "\n",
       "    .dataframe thead th {\n",
       "        text-align: left;\n",
       "    }\n",
       "\n",
       "    .dataframe tbody tr th {\n",
       "        vertical-align: top;\n",
       "    }\n",
       "</style>\n",
       "<table border=\"1\" class=\"dataframe\">\n",
       "  <thead>\n",
       "    <tr style=\"text-align: right;\">\n",
       "      <th></th>\n",
       "      <th>A</th>\n",
       "      <th>B</th>\n",
       "      <th>C</th>\n",
       "      <th>D</th>\n",
       "      <th>F</th>\n",
       "    </tr>\n",
       "  </thead>\n",
       "  <tbody>\n",
       "    <tr>\n",
       "      <th>2014-01-01</th>\n",
       "      <td>0.484828</td>\n",
       "      <td>0.172301</td>\n",
       "      <td>2.295682</td>\n",
       "      <td>0.071778</td>\n",
       "      <td>NaN</td>\n",
       "    </tr>\n",
       "    <tr>\n",
       "      <th>2014-01-02</th>\n",
       "      <td>0.602530</td>\n",
       "      <td>-1.655253</td>\n",
       "      <td>-0.236097</td>\n",
       "      <td>0.323834</td>\n",
       "      <td>1.0</td>\n",
       "    </tr>\n",
       "    <tr>\n",
       "      <th>2014-01-03</th>\n",
       "      <td>-0.428806</td>\n",
       "      <td>0.256375</td>\n",
       "      <td>0.731707</td>\n",
       "      <td>-0.601043</td>\n",
       "      <td>2.0</td>\n",
       "    </tr>\n",
       "    <tr>\n",
       "      <th>2014-01-04</th>\n",
       "      <td>-0.050648</td>\n",
       "      <td>0.634751</td>\n",
       "      <td>0.074866</td>\n",
       "      <td>-0.917202</td>\n",
       "      <td>3.0</td>\n",
       "    </tr>\n",
       "    <tr>\n",
       "      <th>2014-01-05</th>\n",
       "      <td>-1.288797</td>\n",
       "      <td>-0.132644</td>\n",
       "      <td>0.848636</td>\n",
       "      <td>0.145168</td>\n",
       "      <td>4.0</td>\n",
       "    </tr>\n",
       "    <tr>\n",
       "      <th>2014-01-06</th>\n",
       "      <td>2.240097</td>\n",
       "      <td>-0.735271</td>\n",
       "      <td>-0.355370</td>\n",
       "      <td>1.245675</td>\n",
       "      <td>5.0</td>\n",
       "    </tr>\n",
       "  </tbody>\n",
       "</table>\n",
       "</div>"
      ],
      "text/plain": [
       "                   A         B         C         D    F\n",
       "2014-01-01  0.484828  0.172301  2.295682  0.071778  NaN\n",
       "2014-01-02  0.602530 -1.655253 -0.236097  0.323834  1.0\n",
       "2014-01-03 -0.428806  0.256375  0.731707 -0.601043  2.0\n",
       "2014-01-04 -0.050648  0.634751  0.074866 -0.917202  3.0\n",
       "2014-01-05 -1.288797 -0.132644  0.848636  0.145168  4.0\n",
       "2014-01-06  2.240097 -0.735271 -0.355370  1.245675  5.0"
      ]
     },
     "execution_count": 54,
     "metadata": {},
     "output_type": "execute_result"
    }
   ],
   "source": [
    "df"
   ]
  },
  {
   "cell_type": "code",
   "execution_count": 55,
   "metadata": {
    "focus": false,
    "id": "acb5d0e0-b6f8-4dc3-8f42-e2ca34a6aa67",
    "slideshow": {
     "slide_type": "fragment"
    }
   },
   "outputs": [
    {
     "name": "stdout",
     "output_type": "stream",
     "text": [
      "                   A         B         C         D     F\n",
      "2014-01-01  0.484828  0.172301  2.295682  0.071778   NaN\n",
      "2014-01-02  1.087358 -1.482952  2.059585  0.395612   1.0\n",
      "2014-01-03  0.658553 -1.226577  2.791292 -0.205430   3.0\n",
      "2014-01-04  0.607905 -0.591827  2.866158 -1.122632   6.0\n",
      "2014-01-05 -0.680892 -0.724470  3.714793 -0.977464  10.0\n",
      "2014-01-06  1.559206 -1.459741  3.359423  0.268211  15.0\n",
      "                   A         B         C         D         F\n",
      "2014-01-01  0.484828  0.657129  2.952811  3.024589       NaN\n",
      "2014-01-02  0.602530 -1.052723 -1.288819 -0.964985  0.035015\n",
      "2014-01-03 -0.428806 -0.172431  0.559276 -0.041767  1.958233\n",
      "2014-01-04 -0.050648  0.584103  0.658969 -0.258233  2.741767\n",
      "2014-01-05 -1.288797 -1.421440 -0.572805 -0.427636  3.572364\n",
      "2014-01-06  2.240097  1.504827  1.149457  2.395132  7.395132\n"
     ]
    }
   ],
   "source": [
    "print(df.apply(np.cumsum))\n",
    "print(df.apply(np.cumsum,1))"
   ]
  },
  {
   "cell_type": "code",
   "execution_count": 56,
   "metadata": {
    "focus": false,
    "id": "76608f05-bac8-4938-b1c5-efa228fcbb7b",
    "slideshow": {
     "slide_type": "fragment"
    }
   },
   "outputs": [
    {
     "data": {
      "text/plain": [
       "A    3.528894\n",
       "B    2.290004\n",
       "C    2.651052\n",
       "D    2.162877\n",
       "F    4.000000\n",
       "dtype: float64"
      ]
     },
     "execution_count": 56,
     "metadata": {},
     "output_type": "execute_result"
    }
   ],
   "source": [
    "df.apply(lambda x: x.max() - x.min())"
   ]
  },
  {
   "cell_type": "code",
   "execution_count": 57,
   "metadata": {
    "focus": false,
    "id": "802ec78f-0525-40e0-ab4e-4600eb22b1ed",
    "slideshow": {
     "slide_type": "subslide"
    }
   },
   "outputs": [
    {
     "data": {
      "text/plain": [
       "0       a\n",
       "1       b\n",
       "2       c\n",
       "3    aaba\n",
       "4    baca\n",
       "5     NaN\n",
       "6    caba\n",
       "7     dog\n",
       "8     cat\n",
       "dtype: object"
      ]
     },
     "execution_count": 57,
     "metadata": {},
     "output_type": "execute_result"
    }
   ],
   "source": [
    "# Built in string methods\n",
    "s = pd.Series(['A', 'B', 'C', 'Aaba', 'Baca', np.nan, 'CABA', 'dog', 'cat'])\n",
    "s.str.lower()"
   ]
  },
  {
   "cell_type": "markdown",
   "metadata": {
    "focus": false,
    "id": "ce36d58b-a2b3-4fb0-b21d-d8e40425d203",
    "slideshow": {
     "slide_type": "subslide"
    }
   },
   "source": [
    "### Merge"
   ]
  },
  {
   "cell_type": "code",
   "execution_count": 58,
   "metadata": {
    "focus": false,
    "id": "5a03c068-8ce7-4bc2-a25a-ed1744d56765",
    "slideshow": {
     "slide_type": "subslide"
    }
   },
   "outputs": [
    {
     "data": {
      "text/plain": [
       "array([[ 1.52424283,  0.0634381 , -0.72191697,  1.11848311],\n",
       "       [ 1.09009326, -1.52981275, -0.2626555 ,  0.20142038],\n",
       "       [-1.00500686,  0.50655961, -2.28822261,  1.50852407],\n",
       "       [-0.77147064,  0.39031689, -1.46057262,  0.21276756],\n",
       "       [ 0.26849362, -0.08815419, -0.08871084,  0.14302294],\n",
       "       [ 1.23685108, -0.47439761, -0.84592736, -0.7952941 ],\n",
       "       [ 0.63197133,  0.97936909,  0.97235547, -1.05670497],\n",
       "       [-0.66696297, -1.10102373,  0.79114051, -1.79605063],\n",
       "       [ 0.85102817, -1.14433328,  1.01407944, -0.141205  ],\n",
       "       [ 0.87124504, -1.00516811,  0.45907979, -0.01649608]])"
      ]
     },
     "execution_count": 58,
     "metadata": {},
     "output_type": "execute_result"
    }
   ],
   "source": [
    "random.randn(10,4)"
   ]
  },
  {
   "cell_type": "code",
   "execution_count": 59,
   "metadata": {
    "focus": false,
    "id": "54d4be63-ab84-4c0c-8c87-a4bf1affb1ec",
    "scrolled": true,
    "slideshow": {
     "slide_type": "subslide"
    }
   },
   "outputs": [
    {
     "data": {
      "text/html": [
       "<div>\n",
       "<style>\n",
       "    .dataframe thead tr:only-child th {\n",
       "        text-align: right;\n",
       "    }\n",
       "\n",
       "    .dataframe thead th {\n",
       "        text-align: left;\n",
       "    }\n",
       "\n",
       "    .dataframe tbody tr th {\n",
       "        vertical-align: top;\n",
       "    }\n",
       "</style>\n",
       "<table border=\"1\" class=\"dataframe\">\n",
       "  <thead>\n",
       "    <tr style=\"text-align: right;\">\n",
       "      <th></th>\n",
       "      <th>0</th>\n",
       "      <th>1</th>\n",
       "      <th>2</th>\n",
       "      <th>3</th>\n",
       "    </tr>\n",
       "  </thead>\n",
       "  <tbody>\n",
       "    <tr>\n",
       "      <th>0</th>\n",
       "      <td>-1.225993</td>\n",
       "      <td>-0.767318</td>\n",
       "      <td>-0.443549</td>\n",
       "      <td>0.143240</td>\n",
       "    </tr>\n",
       "    <tr>\n",
       "      <th>1</th>\n",
       "      <td>-0.836873</td>\n",
       "      <td>-2.215959</td>\n",
       "      <td>-0.440300</td>\n",
       "      <td>0.192996</td>\n",
       "    </tr>\n",
       "    <tr>\n",
       "      <th>2</th>\n",
       "      <td>-0.451197</td>\n",
       "      <td>-0.503870</td>\n",
       "      <td>-0.594466</td>\n",
       "      <td>-0.620103</td>\n",
       "    </tr>\n",
       "    <tr>\n",
       "      <th>3</th>\n",
       "      <td>-0.836296</td>\n",
       "      <td>0.570345</td>\n",
       "      <td>0.032315</td>\n",
       "      <td>-1.234609</td>\n",
       "    </tr>\n",
       "    <tr>\n",
       "      <th>4</th>\n",
       "      <td>0.629350</td>\n",
       "      <td>-0.223251</td>\n",
       "      <td>0.787715</td>\n",
       "      <td>0.346397</td>\n",
       "    </tr>\n",
       "    <tr>\n",
       "      <th>5</th>\n",
       "      <td>-0.659724</td>\n",
       "      <td>0.830717</td>\n",
       "      <td>1.094751</td>\n",
       "      <td>-1.636893</td>\n",
       "    </tr>\n",
       "    <tr>\n",
       "      <th>6</th>\n",
       "      <td>0.636036</td>\n",
       "      <td>-2.250505</td>\n",
       "      <td>2.156818</td>\n",
       "      <td>-0.031870</td>\n",
       "    </tr>\n",
       "    <tr>\n",
       "      <th>7</th>\n",
       "      <td>1.509918</td>\n",
       "      <td>-0.878459</td>\n",
       "      <td>-0.078181</td>\n",
       "      <td>-2.025088</td>\n",
       "    </tr>\n",
       "    <tr>\n",
       "      <th>8</th>\n",
       "      <td>-0.769272</td>\n",
       "      <td>-0.128108</td>\n",
       "      <td>0.640379</td>\n",
       "      <td>-1.433283</td>\n",
       "    </tr>\n",
       "    <tr>\n",
       "      <th>9</th>\n",
       "      <td>0.823874</td>\n",
       "      <td>-1.128905</td>\n",
       "      <td>0.858913</td>\n",
       "      <td>0.141558</td>\n",
       "    </tr>\n",
       "  </tbody>\n",
       "</table>\n",
       "</div>"
      ],
      "text/plain": [
       "          0         1         2         3\n",
       "0 -1.225993 -0.767318 -0.443549  0.143240\n",
       "1 -0.836873 -2.215959 -0.440300  0.192996\n",
       "2 -0.451197 -0.503870 -0.594466 -0.620103\n",
       "3 -0.836296  0.570345  0.032315 -1.234609\n",
       "4  0.629350 -0.223251  0.787715  0.346397\n",
       "5 -0.659724  0.830717  1.094751 -1.636893\n",
       "6  0.636036 -2.250505  2.156818 -0.031870\n",
       "7  1.509918 -0.878459 -0.078181 -2.025088\n",
       "8 -0.769272 -0.128108  0.640379 -1.433283\n",
       "9  0.823874 -1.128905  0.858913  0.141558"
      ]
     },
     "execution_count": 59,
     "metadata": {},
     "output_type": "execute_result"
    }
   ],
   "source": [
    "#Concatenating pandas objects together\n",
    "df = pd.DataFrame(np.random.randn(10,4))\n",
    "df"
   ]
  },
  {
   "cell_type": "code",
   "execution_count": 60,
   "metadata": {
    "focus": false,
    "id": "f39f64e5-7416-4067-867d-93d36674c19b",
    "slideshow": {
     "slide_type": "subslide"
    }
   },
   "outputs": [
    {
     "data": {
      "text/plain": [
       "[          0         1         2         3\n",
       " 0 -1.225993 -0.767318 -0.443549  0.143240\n",
       " 1 -0.836873 -2.215959 -0.440300  0.192996\n",
       " 2 -0.451197 -0.503870 -0.594466 -0.620103,\n",
       "           0         1         2         3\n",
       " 3 -0.836296  0.570345  0.032315 -1.234609\n",
       " 4  0.629350 -0.223251  0.787715  0.346397\n",
       " 5 -0.659724  0.830717  1.094751 -1.636893\n",
       " 6  0.636036 -2.250505  2.156818 -0.031870,\n",
       "           0         1         2         3\n",
       " 7  1.509918 -0.878459 -0.078181 -2.025088\n",
       " 8 -0.769272 -0.128108  0.640379 -1.433283\n",
       " 9  0.823874 -1.128905  0.858913  0.141558]"
      ]
     },
     "execution_count": 60,
     "metadata": {},
     "output_type": "execute_result"
    }
   ],
   "source": [
    "# Break it into pieces\n",
    "pieces = [df[:3], df[3:7],df[7:]]\n",
    "pieces"
   ]
  },
  {
   "cell_type": "code",
   "execution_count": 61,
   "metadata": {
    "focus": false,
    "id": "1b3617e6-0a0e-4f0a-b8a1-8715c961aa8f",
    "slideshow": {
     "slide_type": "fragment"
    }
   },
   "outputs": [
    {
     "data": {
      "text/html": [
       "<div>\n",
       "<style>\n",
       "    .dataframe thead tr:only-child th {\n",
       "        text-align: right;\n",
       "    }\n",
       "\n",
       "    .dataframe thead th {\n",
       "        text-align: left;\n",
       "    }\n",
       "\n",
       "    .dataframe tbody tr th {\n",
       "        vertical-align: top;\n",
       "    }\n",
       "</style>\n",
       "<table border=\"1\" class=\"dataframe\">\n",
       "  <thead>\n",
       "    <tr style=\"text-align: right;\">\n",
       "      <th></th>\n",
       "      <th>0</th>\n",
       "      <th>1</th>\n",
       "      <th>2</th>\n",
       "      <th>3</th>\n",
       "    </tr>\n",
       "  </thead>\n",
       "  <tbody>\n",
       "    <tr>\n",
       "      <th>0</th>\n",
       "      <td>-1.225993</td>\n",
       "      <td>-0.767318</td>\n",
       "      <td>-0.443549</td>\n",
       "      <td>0.143240</td>\n",
       "    </tr>\n",
       "    <tr>\n",
       "      <th>1</th>\n",
       "      <td>-0.836873</td>\n",
       "      <td>-2.215959</td>\n",
       "      <td>-0.440300</td>\n",
       "      <td>0.192996</td>\n",
       "    </tr>\n",
       "    <tr>\n",
       "      <th>2</th>\n",
       "      <td>-0.451197</td>\n",
       "      <td>-0.503870</td>\n",
       "      <td>-0.594466</td>\n",
       "      <td>-0.620103</td>\n",
       "    </tr>\n",
       "    <tr>\n",
       "      <th>3</th>\n",
       "      <td>-0.836296</td>\n",
       "      <td>0.570345</td>\n",
       "      <td>0.032315</td>\n",
       "      <td>-1.234609</td>\n",
       "    </tr>\n",
       "    <tr>\n",
       "      <th>4</th>\n",
       "      <td>0.629350</td>\n",
       "      <td>-0.223251</td>\n",
       "      <td>0.787715</td>\n",
       "      <td>0.346397</td>\n",
       "    </tr>\n",
       "    <tr>\n",
       "      <th>5</th>\n",
       "      <td>-0.659724</td>\n",
       "      <td>0.830717</td>\n",
       "      <td>1.094751</td>\n",
       "      <td>-1.636893</td>\n",
       "    </tr>\n",
       "    <tr>\n",
       "      <th>6</th>\n",
       "      <td>0.636036</td>\n",
       "      <td>-2.250505</td>\n",
       "      <td>2.156818</td>\n",
       "      <td>-0.031870</td>\n",
       "    </tr>\n",
       "    <tr>\n",
       "      <th>7</th>\n",
       "      <td>1.509918</td>\n",
       "      <td>-0.878459</td>\n",
       "      <td>-0.078181</td>\n",
       "      <td>-2.025088</td>\n",
       "    </tr>\n",
       "    <tr>\n",
       "      <th>8</th>\n",
       "      <td>-0.769272</td>\n",
       "      <td>-0.128108</td>\n",
       "      <td>0.640379</td>\n",
       "      <td>-1.433283</td>\n",
       "    </tr>\n",
       "    <tr>\n",
       "      <th>9</th>\n",
       "      <td>0.823874</td>\n",
       "      <td>-1.128905</td>\n",
       "      <td>0.858913</td>\n",
       "      <td>0.141558</td>\n",
       "    </tr>\n",
       "  </tbody>\n",
       "</table>\n",
       "</div>"
      ],
      "text/plain": [
       "          0         1         2         3\n",
       "0 -1.225993 -0.767318 -0.443549  0.143240\n",
       "1 -0.836873 -2.215959 -0.440300  0.192996\n",
       "2 -0.451197 -0.503870 -0.594466 -0.620103\n",
       "3 -0.836296  0.570345  0.032315 -1.234609\n",
       "4  0.629350 -0.223251  0.787715  0.346397\n",
       "5 -0.659724  0.830717  1.094751 -1.636893\n",
       "6  0.636036 -2.250505  2.156818 -0.031870\n",
       "7  1.509918 -0.878459 -0.078181 -2.025088\n",
       "8 -0.769272 -0.128108  0.640379 -1.433283\n",
       "9  0.823874 -1.128905  0.858913  0.141558"
      ]
     },
     "execution_count": 61,
     "metadata": {},
     "output_type": "execute_result"
    }
   ],
   "source": [
    "pd.concat(pieces)"
   ]
  },
  {
   "cell_type": "code",
   "execution_count": 62,
   "metadata": {
    "focus": false,
    "id": "487ed85b-a5c7-436b-80ce-53b7c5e23948",
    "slideshow": {
     "slide_type": "fragment"
    }
   },
   "outputs": [
    {
     "data": {
      "text/html": [
       "<div>\n",
       "<style>\n",
       "    .dataframe thead tr:only-child th {\n",
       "        text-align: right;\n",
       "    }\n",
       "\n",
       "    .dataframe thead th {\n",
       "        text-align: left;\n",
       "    }\n",
       "\n",
       "    .dataframe tbody tr th {\n",
       "        vertical-align: top;\n",
       "    }\n",
       "</style>\n",
       "<table border=\"1\" class=\"dataframe\">\n",
       "  <thead>\n",
       "    <tr style=\"text-align: right;\">\n",
       "      <th></th>\n",
       "      <th>0</th>\n",
       "      <th>1</th>\n",
       "      <th>2</th>\n",
       "      <th>3</th>\n",
       "    </tr>\n",
       "  </thead>\n",
       "  <tbody>\n",
       "    <tr>\n",
       "      <th>0</th>\n",
       "      <td>-1.225993</td>\n",
       "      <td>-0.767318</td>\n",
       "      <td>-0.443549</td>\n",
       "      <td>0.143240</td>\n",
       "    </tr>\n",
       "    <tr>\n",
       "      <th>1</th>\n",
       "      <td>-0.836873</td>\n",
       "      <td>-2.215959</td>\n",
       "      <td>-0.440300</td>\n",
       "      <td>0.192996</td>\n",
       "    </tr>\n",
       "    <tr>\n",
       "      <th>2</th>\n",
       "      <td>-0.451197</td>\n",
       "      <td>-0.503870</td>\n",
       "      <td>-0.594466</td>\n",
       "      <td>-0.620103</td>\n",
       "    </tr>\n",
       "    <tr>\n",
       "      <th>3</th>\n",
       "      <td>-0.836296</td>\n",
       "      <td>0.570345</td>\n",
       "      <td>0.032315</td>\n",
       "      <td>-1.234609</td>\n",
       "    </tr>\n",
       "    <tr>\n",
       "      <th>4</th>\n",
       "      <td>0.629350</td>\n",
       "      <td>-0.223251</td>\n",
       "      <td>0.787715</td>\n",
       "      <td>0.346397</td>\n",
       "    </tr>\n",
       "    <tr>\n",
       "      <th>5</th>\n",
       "      <td>-0.659724</td>\n",
       "      <td>0.830717</td>\n",
       "      <td>1.094751</td>\n",
       "      <td>-1.636893</td>\n",
       "    </tr>\n",
       "    <tr>\n",
       "      <th>6</th>\n",
       "      <td>0.636036</td>\n",
       "      <td>-2.250505</td>\n",
       "      <td>2.156818</td>\n",
       "      <td>-0.031870</td>\n",
       "    </tr>\n",
       "    <tr>\n",
       "      <th>7</th>\n",
       "      <td>1.509918</td>\n",
       "      <td>-0.878459</td>\n",
       "      <td>-0.078181</td>\n",
       "      <td>-2.025088</td>\n",
       "    </tr>\n",
       "    <tr>\n",
       "      <th>8</th>\n",
       "      <td>-0.769272</td>\n",
       "      <td>-0.128108</td>\n",
       "      <td>0.640379</td>\n",
       "      <td>-1.433283</td>\n",
       "    </tr>\n",
       "    <tr>\n",
       "      <th>9</th>\n",
       "      <td>0.823874</td>\n",
       "      <td>-1.128905</td>\n",
       "      <td>0.858913</td>\n",
       "      <td>0.141558</td>\n",
       "    </tr>\n",
       "  </tbody>\n",
       "</table>\n",
       "</div>"
      ],
      "text/plain": [
       "          0         1         2         3\n",
       "0 -1.225993 -0.767318 -0.443549  0.143240\n",
       "1 -0.836873 -2.215959 -0.440300  0.192996\n",
       "2 -0.451197 -0.503870 -0.594466 -0.620103\n",
       "3 -0.836296  0.570345  0.032315 -1.234609\n",
       "4  0.629350 -0.223251  0.787715  0.346397\n",
       "5 -0.659724  0.830717  1.094751 -1.636893\n",
       "6  0.636036 -2.250505  2.156818 -0.031870\n",
       "7  1.509918 -0.878459 -0.078181 -2.025088\n",
       "8 -0.769272 -0.128108  0.640379 -1.433283\n",
       "9  0.823874 -1.128905  0.858913  0.141558"
      ]
     },
     "execution_count": 62,
     "metadata": {},
     "output_type": "execute_result"
    }
   ],
   "source": [
    "# Also can \"Join\" and \"Append\" - join is a join on the index which is why you have to transpose here, otherwise the \n",
    "# indexes don't match\n",
    "pieces[0].T.join(pieces[1].T).join(pieces[2].T).T"
   ]
  },
  {
   "cell_type": "markdown",
   "metadata": {
    "focus": false,
    "id": "d71e2439-0018-4564-a3c9-08b21df14f49",
    "slideshow": {
     "slide_type": "subslide"
    }
   },
   "source": [
    "### Grouping\n"
   ]
  },
  {
   "cell_type": "code",
   "execution_count": 63,
   "metadata": {
    "collapsed": true,
    "focus": false,
    "id": "fa9636d6-592b-4166-b440-ab7fccf1a617",
    "slideshow": {
     "slide_type": "subslide"
    }
   },
   "outputs": [],
   "source": [
    "df = pd.DataFrame({'A' : ['foo', 'bar', 'foo', 'bar',\n",
    "                       'foo', 'bar', 'foo', 'foo'],\n",
    "                       'B' : ['one', 'one', 'two', 'three',\n",
    "                             'two', 'two', 'one', 'three'],\n",
    "                       'C' : np.random.randn(8),\n",
    "                       'D' : np.random.randn(8)})"
   ]
  },
  {
   "cell_type": "code",
   "execution_count": 64,
   "metadata": {
    "focus": false,
    "id": "be026ca6-3b88-4e6c-935f-339089743711",
    "slideshow": {
     "slide_type": "fragment"
    }
   },
   "outputs": [
    {
     "data": {
      "text/html": [
       "<div>\n",
       "<style>\n",
       "    .dataframe thead tr:only-child th {\n",
       "        text-align: right;\n",
       "    }\n",
       "\n",
       "    .dataframe thead th {\n",
       "        text-align: left;\n",
       "    }\n",
       "\n",
       "    .dataframe tbody tr th {\n",
       "        vertical-align: top;\n",
       "    }\n",
       "</style>\n",
       "<table border=\"1\" class=\"dataframe\">\n",
       "  <thead>\n",
       "    <tr style=\"text-align: right;\">\n",
       "      <th></th>\n",
       "      <th>A</th>\n",
       "      <th>B</th>\n",
       "      <th>C</th>\n",
       "      <th>D</th>\n",
       "    </tr>\n",
       "  </thead>\n",
       "  <tbody>\n",
       "    <tr>\n",
       "      <th>0</th>\n",
       "      <td>foo</td>\n",
       "      <td>one</td>\n",
       "      <td>0.194466</td>\n",
       "      <td>0.638297</td>\n",
       "    </tr>\n",
       "    <tr>\n",
       "      <th>1</th>\n",
       "      <td>bar</td>\n",
       "      <td>one</td>\n",
       "      <td>-0.926316</td>\n",
       "      <td>-0.282382</td>\n",
       "    </tr>\n",
       "    <tr>\n",
       "      <th>2</th>\n",
       "      <td>foo</td>\n",
       "      <td>two</td>\n",
       "      <td>1.367718</td>\n",
       "      <td>0.198214</td>\n",
       "    </tr>\n",
       "    <tr>\n",
       "      <th>3</th>\n",
       "      <td>bar</td>\n",
       "      <td>three</td>\n",
       "      <td>1.378266</td>\n",
       "      <td>1.760113</td>\n",
       "    </tr>\n",
       "    <tr>\n",
       "      <th>4</th>\n",
       "      <td>foo</td>\n",
       "      <td>two</td>\n",
       "      <td>1.256598</td>\n",
       "      <td>0.467494</td>\n",
       "    </tr>\n",
       "    <tr>\n",
       "      <th>5</th>\n",
       "      <td>bar</td>\n",
       "      <td>two</td>\n",
       "      <td>-0.602586</td>\n",
       "      <td>0.340824</td>\n",
       "    </tr>\n",
       "    <tr>\n",
       "      <th>6</th>\n",
       "      <td>foo</td>\n",
       "      <td>one</td>\n",
       "      <td>-0.302635</td>\n",
       "      <td>0.132023</td>\n",
       "    </tr>\n",
       "    <tr>\n",
       "      <th>7</th>\n",
       "      <td>foo</td>\n",
       "      <td>three</td>\n",
       "      <td>-0.981908</td>\n",
       "      <td>0.130531</td>\n",
       "    </tr>\n",
       "  </tbody>\n",
       "</table>\n",
       "</div>"
      ],
      "text/plain": [
       "     A      B         C         D\n",
       "0  foo    one  0.194466  0.638297\n",
       "1  bar    one -0.926316 -0.282382\n",
       "2  foo    two  1.367718  0.198214\n",
       "3  bar  three  1.378266  1.760113\n",
       "4  foo    two  1.256598  0.467494\n",
       "5  bar    two -0.602586  0.340824\n",
       "6  foo    one -0.302635  0.132023\n",
       "7  foo  three -0.981908  0.130531"
      ]
     },
     "execution_count": 64,
     "metadata": {},
     "output_type": "execute_result"
    }
   ],
   "source": [
    "df"
   ]
  },
  {
   "cell_type": "code",
   "execution_count": 65,
   "metadata": {
    "focus": false,
    "id": "20574670-3a23-4a2c-8b67-fbf3a9a7737e",
    "slideshow": {
     "slide_type": "fragment"
    }
   },
   "outputs": [
    {
     "data": {
      "text/html": [
       "<div>\n",
       "<style>\n",
       "    .dataframe thead tr:only-child th {\n",
       "        text-align: right;\n",
       "    }\n",
       "\n",
       "    .dataframe thead th {\n",
       "        text-align: left;\n",
       "    }\n",
       "\n",
       "    .dataframe tbody tr th {\n",
       "        vertical-align: top;\n",
       "    }\n",
       "</style>\n",
       "<table border=\"1\" class=\"dataframe\">\n",
       "  <thead>\n",
       "    <tr style=\"text-align: right;\">\n",
       "      <th></th>\n",
       "      <th></th>\n",
       "      <th>C</th>\n",
       "      <th>D</th>\n",
       "    </tr>\n",
       "    <tr>\n",
       "      <th>A</th>\n",
       "      <th>B</th>\n",
       "      <th></th>\n",
       "      <th></th>\n",
       "    </tr>\n",
       "  </thead>\n",
       "  <tbody>\n",
       "    <tr>\n",
       "      <th rowspan=\"3\" valign=\"top\">bar</th>\n",
       "      <th>one</th>\n",
       "      <td>-0.926316</td>\n",
       "      <td>-0.282382</td>\n",
       "    </tr>\n",
       "    <tr>\n",
       "      <th>three</th>\n",
       "      <td>1.378266</td>\n",
       "      <td>1.760113</td>\n",
       "    </tr>\n",
       "    <tr>\n",
       "      <th>two</th>\n",
       "      <td>-0.602586</td>\n",
       "      <td>0.340824</td>\n",
       "    </tr>\n",
       "    <tr>\n",
       "      <th rowspan=\"3\" valign=\"top\">foo</th>\n",
       "      <th>one</th>\n",
       "      <td>-0.108169</td>\n",
       "      <td>0.770320</td>\n",
       "    </tr>\n",
       "    <tr>\n",
       "      <th>three</th>\n",
       "      <td>-0.981908</td>\n",
       "      <td>0.130531</td>\n",
       "    </tr>\n",
       "    <tr>\n",
       "      <th>two</th>\n",
       "      <td>2.624316</td>\n",
       "      <td>0.665708</td>\n",
       "    </tr>\n",
       "  </tbody>\n",
       "</table>\n",
       "</div>"
      ],
      "text/plain": [
       "                  C         D\n",
       "A   B                        \n",
       "bar one   -0.926316 -0.282382\n",
       "    three  1.378266  1.760113\n",
       "    two   -0.602586  0.340824\n",
       "foo one   -0.108169  0.770320\n",
       "    three -0.981908  0.130531\n",
       "    two    2.624316  0.665708"
      ]
     },
     "execution_count": 65,
     "metadata": {},
     "output_type": "execute_result"
    }
   ],
   "source": [
    "df.groupby(['A','B']).sum()"
   ]
  },
  {
   "cell_type": "markdown",
   "metadata": {
    "focus": false,
    "id": "fa94e6a7-1981-4d98-b43e-3090182e5836",
    "slideshow": {
     "slide_type": "subslide"
    }
   },
   "source": [
    "### Reshaping"
   ]
  },
  {
   "cell_type": "code",
   "execution_count": 66,
   "metadata": {
    "collapsed": true,
    "focus": false,
    "id": "df08ec54-d000-4c15-8f93-100cae7a72da",
    "slideshow": {
     "slide_type": "fragment"
    }
   },
   "outputs": [],
   "source": [
    "# You can also stack or unstack levels"
   ]
  },
  {
   "cell_type": "code",
   "execution_count": 67,
   "metadata": {
    "collapsed": true,
    "focus": false,
    "id": "ab096955-7280-41aa-9ca8-e1d714d6f12c",
    "slideshow": {
     "slide_type": "fragment"
    }
   },
   "outputs": [],
   "source": [
    "a = df.groupby(['A','B']).sum()"
   ]
  },
  {
   "cell_type": "code",
   "execution_count": 68,
   "metadata": {
    "focus": false,
    "id": "19be1110-9007-4818-b7df-7bfe76201f28",
    "slideshow": {
     "slide_type": "fragment"
    }
   },
   "outputs": [
    {
     "data": {
      "text/html": [
       "<div>\n",
       "<style>\n",
       "    .dataframe thead tr:only-child th {\n",
       "        text-align: right;\n",
       "    }\n",
       "\n",
       "    .dataframe thead th {\n",
       "        text-align: left;\n",
       "    }\n",
       "\n",
       "    .dataframe tbody tr th {\n",
       "        vertical-align: top;\n",
       "    }\n",
       "</style>\n",
       "<table border=\"1\" class=\"dataframe\">\n",
       "  <thead>\n",
       "    <tr>\n",
       "      <th></th>\n",
       "      <th colspan=\"3\" halign=\"left\">C</th>\n",
       "      <th colspan=\"3\" halign=\"left\">D</th>\n",
       "    </tr>\n",
       "    <tr>\n",
       "      <th>B</th>\n",
       "      <th>one</th>\n",
       "      <th>three</th>\n",
       "      <th>two</th>\n",
       "      <th>one</th>\n",
       "      <th>three</th>\n",
       "      <th>two</th>\n",
       "    </tr>\n",
       "    <tr>\n",
       "      <th>A</th>\n",
       "      <th></th>\n",
       "      <th></th>\n",
       "      <th></th>\n",
       "      <th></th>\n",
       "      <th></th>\n",
       "      <th></th>\n",
       "    </tr>\n",
       "  </thead>\n",
       "  <tbody>\n",
       "    <tr>\n",
       "      <th>bar</th>\n",
       "      <td>-0.926316</td>\n",
       "      <td>1.378266</td>\n",
       "      <td>-0.602586</td>\n",
       "      <td>-0.282382</td>\n",
       "      <td>1.760113</td>\n",
       "      <td>0.340824</td>\n",
       "    </tr>\n",
       "    <tr>\n",
       "      <th>foo</th>\n",
       "      <td>-0.054084</td>\n",
       "      <td>-0.981908</td>\n",
       "      <td>1.312158</td>\n",
       "      <td>0.385160</td>\n",
       "      <td>0.130531</td>\n",
       "      <td>0.332854</td>\n",
       "    </tr>\n",
       "  </tbody>\n",
       "</table>\n",
       "</div>"
      ],
      "text/plain": [
       "            C                             D                    \n",
       "B         one     three       two       one     three       two\n",
       "A                                                              \n",
       "bar -0.926316  1.378266 -0.602586 -0.282382  1.760113  0.340824\n",
       "foo -0.054084 -0.981908  1.312158  0.385160  0.130531  0.332854"
      ]
     },
     "execution_count": 68,
     "metadata": {},
     "output_type": "execute_result"
    }
   ],
   "source": [
    "# Pivot Tables - default aggregation function is mean\n",
    "pd.pivot_table(df,values=['C','D'],index=['A'],columns=['B'])"
   ]
  },
  {
   "cell_type": "markdown",
   "metadata": {
    "focus": false,
    "id": "67f5eb61-baaf-4cae-973d-808a2bf89829",
    "slideshow": {
     "slide_type": "subslide"
    }
   },
   "source": [
    "### Time Series\n"
   ]
  },
  {
   "cell_type": "code",
   "execution_count": 69,
   "metadata": {
    "collapsed": true,
    "focus": false,
    "id": "09b41ef7-1b6f-4231-a3c3-b083ee337aa4"
   },
   "outputs": [],
   "source": [
    "import pandas as pd\n",
    "import numpy as np"
   ]
  },
  {
   "cell_type": "code",
   "execution_count": 70,
   "metadata": {
    "collapsed": true,
    "focus": false,
    "id": "af09a1c8-fd55-44ad-a340-93284b578f52",
    "slideshow": {
     "slide_type": "fragment"
    }
   },
   "outputs": [],
   "source": [
    "# 100 Seconds starting on January 1st\n",
    "rng = pd.date_range('1/1/2014', periods=100, freq='S')"
   ]
  },
  {
   "cell_type": "code",
   "execution_count": 71,
   "metadata": {
    "collapsed": true,
    "focus": false,
    "id": "948b5dba-e17c-4e0a-9bcb-e5cfd5dbd151",
    "slideshow": {
     "slide_type": "fragment"
    }
   },
   "outputs": [],
   "source": [
    "# Give each second a random value\n",
    "ts = pd.Series(np.random.randint(0, 500, len(rng)), index=rng)"
   ]
  },
  {
   "cell_type": "code",
   "execution_count": 72,
   "metadata": {
    "focus": false,
    "id": "ee2c76e8-2e6b-4083-97a2-ee65d8a4adde",
    "scrolled": true,
    "slideshow": {
     "slide_type": "fragment"
    }
   },
   "outputs": [
    {
     "data": {
      "text/plain": [
       "2014-01-01 00:00:00    102\n",
       "2014-01-01 00:00:01    178\n",
       "2014-01-01 00:00:02     39\n",
       "2014-01-01 00:00:03    320\n",
       "2014-01-01 00:00:04    271\n",
       "2014-01-01 00:00:05    363\n",
       "2014-01-01 00:00:06    184\n",
       "2014-01-01 00:00:07      0\n",
       "2014-01-01 00:00:08    317\n",
       "2014-01-01 00:00:09    237\n",
       "2014-01-01 00:00:10    310\n",
       "2014-01-01 00:00:11    277\n",
       "2014-01-01 00:00:12    137\n",
       "2014-01-01 00:00:13    468\n",
       "2014-01-01 00:00:14    317\n",
       "2014-01-01 00:00:15     93\n",
       "2014-01-01 00:00:16    312\n",
       "2014-01-01 00:00:17    342\n",
       "2014-01-01 00:00:18    319\n",
       "2014-01-01 00:00:19    183\n",
       "2014-01-01 00:00:20     84\n",
       "2014-01-01 00:00:21    280\n",
       "2014-01-01 00:00:22    371\n",
       "2014-01-01 00:00:23    314\n",
       "2014-01-01 00:00:24    190\n",
       "2014-01-01 00:00:25    183\n",
       "2014-01-01 00:00:26    413\n",
       "2014-01-01 00:00:27    132\n",
       "2014-01-01 00:00:28    113\n",
       "2014-01-01 00:00:29    267\n",
       "                      ... \n",
       "2014-01-01 00:01:10    332\n",
       "2014-01-01 00:01:11    393\n",
       "2014-01-01 00:01:12     86\n",
       "2014-01-01 00:01:13    299\n",
       "2014-01-01 00:01:14    390\n",
       "2014-01-01 00:01:15    113\n",
       "2014-01-01 00:01:16    287\n",
       "2014-01-01 00:01:17    469\n",
       "2014-01-01 00:01:18    347\n",
       "2014-01-01 00:01:19    386\n",
       "2014-01-01 00:01:20    194\n",
       "2014-01-01 00:01:21    333\n",
       "2014-01-01 00:01:22    354\n",
       "2014-01-01 00:01:23    129\n",
       "2014-01-01 00:01:24    446\n",
       "2014-01-01 00:01:25    226\n",
       "2014-01-01 00:01:26    230\n",
       "2014-01-01 00:01:27    211\n",
       "2014-01-01 00:01:28    133\n",
       "2014-01-01 00:01:29    216\n",
       "2014-01-01 00:01:30    196\n",
       "2014-01-01 00:01:31    178\n",
       "2014-01-01 00:01:32     16\n",
       "2014-01-01 00:01:33    360\n",
       "2014-01-01 00:01:34    278\n",
       "2014-01-01 00:01:35    399\n",
       "2014-01-01 00:01:36    339\n",
       "2014-01-01 00:01:37     37\n",
       "2014-01-01 00:01:38    230\n",
       "2014-01-01 00:01:39     33\n",
       "Freq: S, Length: 100, dtype: int64"
      ]
     },
     "execution_count": 72,
     "metadata": {},
     "output_type": "execute_result"
    }
   ],
   "source": [
    "ts"
   ]
  },
  {
   "cell_type": "code",
   "execution_count": 73,
   "metadata": {
    "focus": false,
    "id": "a5d4c14a-379a-4e9a-a3cc-e6cd5476b781",
    "slideshow": {
     "slide_type": "subslide"
    }
   },
   "outputs": [
    {
     "name": "stderr",
     "output_type": "stream",
     "text": [
      "/Users/zoealdington/anaconda/lib/python2.7/site-packages/ipykernel_launcher.py:2: FutureWarning: how in .resample() is deprecated\n",
      "the new syntax is .resample(...).mean()\n",
      "  \n"
     ]
    },
    {
     "data": {
      "text/plain": [
       "2014-01-01 00:00:00    264.383333\n",
       "2014-01-01 00:01:00    279.750000\n",
       "Freq: T, dtype: float64"
      ]
     },
     "execution_count": 73,
     "metadata": {},
     "output_type": "execute_result"
    }
   ],
   "source": [
    "# Built in resampling\n",
    "ts.resample('1Min',how='mean') # Resample secondly to 1Minutely\n",
    "#ts.resample('1Min').mean()"
   ]
  },
  {
   "cell_type": "markdown",
   "metadata": {
    "focus": false,
    "id": "b281a484-9cf5-41da-b898-ac5ea012053a",
    "slideshow": {
     "slide_type": "slide"
    }
   },
   "source": [
    "### Plotting\n"
   ]
  },
  {
   "cell_type": "code",
   "execution_count": 74,
   "metadata": {
    "focus": false,
    "id": "e0d64120-b593-447e-9088-731b31629e25",
    "slideshow": {
     "slide_type": "subslide"
    }
   },
   "outputs": [
    {
     "data": {
      "text/plain": [
       "<matplotlib.axes._subplots.AxesSubplot at 0x10b92dad0>"
      ]
     },
     "execution_count": 74,
     "metadata": {},
     "output_type": "execute_result"
    },
    {
     "data": {
      "image/png": "[encoded data removed]",
      "text/plain": [
       "<matplotlib.figure.Figure at 0x10b92d150>"
      ]
     },
     "metadata": {},
     "output_type": "display_data"
    }
   ],
   "source": [
    "ts.plot()"
   ]
  },
  {
   "cell_type": "code",
   "execution_count": 75,
   "metadata": {
    "collapsed": true,
    "focus": false,
    "id": "05fb3a7f-f96d-4d2c-8944-bf02768b7eb2",
    "slideshow": {
     "slide_type": "subslide"
    }
   },
   "outputs": [],
   "source": [
    "def randwalk(startdate,points):\n",
    "    ts = pd.Series(np.random.randn(points), index=pd.date_range(startdate, periods=points))\n",
    "    ts=ts.cumsum()\n",
    "    ts.plot()\n",
    "    return(ts)"
   ]
  },
  {
   "cell_type": "code",
   "execution_count": 76,
   "metadata": {
    "focus": false,
    "id": "0ad89701-d9a8-41d2-b93b-f0e28a76498c",
    "slideshow": {
     "slide_type": "fragment"
    }
   },
   "outputs": [
    {
     "data": {
      "image/png": "[encoded data removed]",
      "text/plain": [
       "<matplotlib.figure.Figure at 0x10ed79050>"
      ]
     },
     "metadata": {},
     "output_type": "display_data"
    }
   ],
   "source": [
    "# Using pandas to make a simple random walker by repeatedly running:\n",
    "a=randwalk('1/1/2012',1000)"
   ]
  },
  {
   "cell_type": "code",
   "execution_count": 77,
   "metadata": {
    "collapsed": true,
    "focus": false,
    "id": "d7c096a1-789c-494e-abf1-c253ad93729c",
    "slideshow": {
     "slide_type": "subslide"
    }
   },
   "outputs": [],
   "source": [
    "# Pandas plot function will print with labels as default"
   ]
  },
  {
   "cell_type": "code",
   "execution_count": 78,
   "metadata": {
    "focus": false,
    "id": "f2951491-24b2-4552-bd06-304e1b12704d",
    "slideshow": {
     "slide_type": "fragment"
    }
   },
   "outputs": [
    {
     "data": {
      "text/plain": [
       "<matplotlib.legend.Legend at 0x10ef79990>"
      ]
     },
     "execution_count": 78,
     "metadata": {},
     "output_type": "execute_result"
    },
    {
     "data": {
      "text/plain": [
       "<matplotlib.figure.Figure at 0x10b92d610>"
      ]
     },
     "metadata": {},
     "output_type": "display_data"
    },
    {
     "data": {
      "image/png": "[encoded data removed]",
      "text/plain": [
       "<matplotlib.figure.Figure at 0x10ef79210>"
      ]
     },
     "metadata": {},
     "output_type": "display_data"
    }
   ],
   "source": [
    "df = pd.DataFrame(np.random.randn(100, 4), index=ts.index,columns=['A', 'B', 'C', 'D'])\n",
    "df = df.cumsum()\n",
    "plt.figure();df.plot();plt.legend(loc='best') #"
   ]
  },
  {
   "cell_type": "code",
   "execution_count": 79,
   "metadata": {},
   "outputs": [
    {
     "data": {
      "text/plain": [
       "<matplotlib.lines.Line2D at 0x10ed6cf90>"
      ]
     },
     "execution_count": 79,
     "metadata": {},
     "output_type": "execute_result"
    },
    {
     "data": {
      "image/png": "[encoded data removed]",
      "text/plain": [
       "<matplotlib.figure.Figure at 0x10ef874d0>"
      ]
     },
     "metadata": {},
     "output_type": "display_data"
    }
   ],
   "source": [
    "#df.ix[5].plot(kind='bar'); plt.axhline(0, color='k')\n",
    "df.mean().plot(kind='bar'); plt.axhline(0, color='k')\n",
    "#df.plot.line()"
   ]
  },
  {
   "cell_type": "markdown",
   "metadata": {
    "focus": false,
    "id": "2f982866-332b-4e39-a784-092157257f8f",
    "slideshow": {
     "slide_type": "subslide"
    }
   },
   "source": [
    "### I/O\n",
    "I/O is straightforward with, for example, pd.read_csv or df.to_csv"
   ]
  },
  {
   "cell_type": "code",
   "execution_count": 85,
   "metadata": {},
   "outputs": [
    {
     "data": {
      "text/html": [
       "<div>\n",
       "<style>\n",
       "    .dataframe thead tr:only-child th {\n",
       "        text-align: right;\n",
       "    }\n",
       "\n",
       "    .dataframe thead th {\n",
       "        text-align: left;\n",
       "    }\n",
       "\n",
       "    .dataframe tbody tr th {\n",
       "        vertical-align: top;\n",
       "    }\n",
       "</style>\n",
       "<table border=\"1\" class=\"dataframe\">\n",
       "  <thead>\n",
       "    <tr style=\"text-align: right;\">\n",
       "      <th></th>\n",
       "      <th>#</th>\n",
       "      <th>INCIDENT TITLE</th>\n",
       "      <th>INCIDENT DATE</th>\n",
       "      <th>LOCATION</th>\n",
       "      <th>DESCRIPTION</th>\n",
       "      <th>CATEGORY</th>\n",
       "      <th>LATITUDE</th>\n",
       "      <th>LONGITUDE</th>\n",
       "      <th>APPROVED</th>\n",
       "      <th>VERIFIED</th>\n",
       "    </tr>\n",
       "  </thead>\n",
       "  <tbody>\n",
       "    <tr>\n",
       "      <th>4716</th>\n",
       "      <td>الإعلام السوري البديل - صحف ومجلات - آذار 2014...</td>\n",
       "      <td>2014-03-30 22:52:00</td>\n",
       "      <td>Syria</td>\n",
       "      <td>عنب بلدي | العدد 109 | الأحد 23 آذار 2014\\n&amp;am...</td>\n",
       "      <td>Article (مقالة)</td>\n",
       "      <td>34.640186</td>\n",
       "      <td>39.049411</td>\n",
       "      <td>YES</td>\n",
       "      <td>YES</td>\n",
       "      <td>NaN</td>\n",
       "    </tr>\n",
       "    <tr>\n",
       "      <th>4760</th>\n",
       "      <td>ارتفاع عدد ضحايا القنص عند معبر كراج الحجز بحل...</td>\n",
       "      <td>2014-03-30 17:22:00</td>\n",
       "      <td>Syria</td>\n",
       "      <td>ارتفاع عدد ضحايا القنص عند معبر كراج الحجز بحل...</td>\n",
       "      <td>Article (مقالة)</td>\n",
       "      <td>34.640186</td>\n",
       "      <td>39.049411</td>\n",
       "      <td>YES</td>\n",
       "      <td>YES</td>\n",
       "      <td>NaN</td>\n",
       "    </tr>\n",
       "    <tr>\n",
       "      <th>4754</th>\n",
       "      <td>خمسون قتيلاً من عناصر قوات النظام في حلب وريفه...</td>\n",
       "      <td>2014-03-30 09:22:00</td>\n",
       "      <td>Syria</td>\n",
       "      <td>تجدّد الاشتباكات في ريف اللاذقية\\n\\nخمسون قتيل...</td>\n",
       "      <td>Article (مقالة)</td>\n",
       "      <td>34.640186</td>\n",
       "      <td>39.049411</td>\n",
       "      <td>YES</td>\n",
       "      <td>YES</td>\n",
       "      <td>NaN</td>\n",
       "    </tr>\n",
       "    <tr>\n",
       "      <th>4743</th>\n",
       "      <td>هااااام فيديوهات تبين الية توزيع السلل الغذائي...</td>\n",
       "      <td>2014-03-30 08:00:00</td>\n",
       "      <td>Rif Dimashq, Syria</td>\n",
       "      <td>هاااااام # الغوطة الشرقية # ريف دمشق 30 3 2014...</td>\n",
       "      <td>Announcement (إعلان),Relief Aid (مساعدات الإغاثة)</td>\n",
       "      <td>33.461274</td>\n",
       "      <td>36.844078</td>\n",
       "      <td>YES</td>\n",
       "      <td>YES</td>\n",
       "      <td>NaN</td>\n",
       "    </tr>\n",
       "    <tr>\n",
       "      <th>4734</th>\n",
       "      <td>More than 330 barrel bomb on Daraya alone</td>\n",
       "      <td>2014-03-30 07:23:00</td>\n",
       "      <td>داريا, شارع الكازية, Hawsh al Balas, Rif Dimas...</td>\n",
       "      <td>** After the excessive air strikeswith explosi...</td>\n",
       "      <td>Aggregate Report (تقرير إجمالي),Summary Report...</td>\n",
       "      <td>33.454121</td>\n",
       "      <td>36.229229</td>\n",
       "      <td>YES</td>\n",
       "      <td>YES</td>\n",
       "      <td>NaN</td>\n",
       "    </tr>\n",
       "    <tr>\n",
       "      <th>4721</th>\n",
       "      <td>مجلس قيادة الثورة في ريف دمشق - المكتب الإعلام...</td>\n",
       "      <td>2014-03-29 20:41:00</td>\n",
       "      <td>Rif Dimashq, Syria</td>\n",
       "      <td>مجلس قيادة الثورة في ريف دمشق - المكتب الإعلام...</td>\n",
       "      <td>Aggregate Report (تقرير إجمالي),Killed (قُتِل)...</td>\n",
       "      <td>33.461274</td>\n",
       "      <td>36.844078</td>\n",
       "      <td>YES</td>\n",
       "      <td>YES</td>\n",
       "      <td>NaN</td>\n",
       "    </tr>\n",
       "    <tr>\n",
       "      <th>4755</th>\n",
       "      <td>مقتل عشرين من عناصر قوات النظام في حلب  2014/0...</td>\n",
       "      <td>2014-03-29 16:59:00</td>\n",
       "      <td>Syria</td>\n",
       "      <td>مقتل عشرين من عناصر قوات النظام في حلب\\n\\nدفعة...</td>\n",
       "      <td>Article (مقالة)</td>\n",
       "      <td>34.640186</td>\n",
       "      <td>39.049411</td>\n",
       "      <td>YES</td>\n",
       "      <td>YES</td>\n",
       "      <td>NaN</td>\n",
       "    </tr>\n",
       "    <tr>\n",
       "      <th>4733</th>\n",
       "      <td>مجلس قيادة الثورة في ريف دمشق || خروج الوفد ال...</td>\n",
       "      <td>2014-03-29 14:37:00</td>\n",
       "      <td>Rif Dimashq, Syria</td>\n",
       "      <td>مجلس قيادة الثورة في ريف دمشق || خروج الوفد ال...</td>\n",
       "      <td>Eyewitness Report (تقريرشاهد عيان),Announcemen...</td>\n",
       "      <td>33.461274</td>\n",
       "      <td>36.844078</td>\n",
       "      <td>YES</td>\n",
       "      <td>YES</td>\n",
       "      <td>NaN</td>\n",
       "    </tr>\n",
       "    <tr>\n",
       "      <th>4737</th>\n",
       "      <td>هااااااااااااام دخول المساعدات الانسانية الى ا...</td>\n",
       "      <td>2014-03-29 14:28:00</td>\n",
       "      <td>Rif Dimashq, Syria</td>\n",
       "      <td>عــــ  الغوطة الشرقية المحاصرة  ــــاجل : ريف ...</td>\n",
       "      <td>Relief Aid (مساعدات الإغاثة)</td>\n",
       "      <td>33.461274</td>\n",
       "      <td>36.844078</td>\n",
       "      <td>YES</td>\n",
       "      <td>YES</td>\n",
       "      <td>NaN</td>\n",
       "    </tr>\n",
       "    <tr>\n",
       "      <th>4732</th>\n",
       "      <td>تفاصيل استهداف مدينة حرستا بالغازات السامة يوم...</td>\n",
       "      <td>2014-03-29 11:20:00</td>\n",
       "      <td>Hirista, Rif Dimashq, Syria</td>\n",
       "      <td>مجلس قيادة الثورة في ريف دمشق | الغوطة الشرقية...</td>\n",
       "      <td>Aggregate Report (تقرير إجمالي),Chemical Poiso...</td>\n",
       "      <td>33.558874</td>\n",
       "      <td>36.362652</td>\n",
       "      <td>YES</td>\n",
       "      <td>NO</td>\n",
       "      <td>NaN</td>\n",
       "    </tr>\n",
       "    <tr>\n",
       "      <th>4742</th>\n",
       "      <td>هااااااااااااااااام .. دخول لجنة الاممية الي ع...</td>\n",
       "      <td>2014-03-29 09:58:00</td>\n",
       "      <td>Rif Dimashq, Syria</td>\n",
       "      <td>عـــــ   هااام ـــاجل :  الغوطة الشرقية لريف د...</td>\n",
       "      <td>Announcement (إعلان),Relief Aid (مساعدات الإغاثة)</td>\n",
       "      <td>33.461274</td>\n",
       "      <td>36.844078</td>\n",
       "      <td>YES</td>\n",
       "      <td>YES</td>\n",
       "      <td>NaN</td>\n",
       "    </tr>\n",
       "    <tr>\n",
       "      <th>4756</th>\n",
       "      <td>مقتل قيادي عسكري عراقي في اشتباكات بحلب - 2014...</td>\n",
       "      <td>2014-03-29 08:53:00</td>\n",
       "      <td>Syria</td>\n",
       "      <td>مقتل قيادي عسكري عراقي في اشتباكات بحلب\\n\\nوال...</td>\n",
       "      <td>Article (مقالة)</td>\n",
       "      <td>34.640186</td>\n",
       "      <td>39.049411</td>\n",
       "      <td>YES</td>\n",
       "      <td>YES</td>\n",
       "      <td>NaN</td>\n",
       "    </tr>\n",
       "    <tr>\n",
       "      <th>4731</th>\n",
       "      <td>مجلس قيادة الثورة في ريف دمشق - المكتب الإعلام...</td>\n",
       "      <td>2014-03-28 20:57:00</td>\n",
       "      <td>Rif Dimashq, Syria</td>\n",
       "      <td>مجلس قيادة الثورة في ريف دمشق - المكتب الإعلام...</td>\n",
       "      <td>Aggregate Report (تقرير إجمالي),Killed (قُتِل)...</td>\n",
       "      <td>33.461274</td>\n",
       "      <td>36.844078</td>\n",
       "      <td>YES</td>\n",
       "      <td>YES</td>\n",
       "      <td>NaN</td>\n",
       "    </tr>\n",
       "    <tr>\n",
       "      <th>4757</th>\n",
       "      <td>تنظيم دولة الإسلام في العراق والشام يعدم مدنيا...</td>\n",
       "      <td>2014-03-28 17:00:00</td>\n",
       "      <td>Syria</td>\n",
       "      <td>تنظيم دولة الإسلام في العراق والشام يعدم مدنيا...</td>\n",
       "      <td>Article (مقالة)</td>\n",
       "      <td>34.640186</td>\n",
       "      <td>39.049411</td>\n",
       "      <td>YES</td>\n",
       "      <td>YES</td>\n",
       "      <td>NaN</td>\n",
       "    </tr>\n",
       "    <tr>\n",
       "      <th>4714</th>\n",
       "      <td>ACU, launches the first &amp;quot;Dynamic Monitori...</td>\n",
       "      <td>2014-03-28 14:39:00</td>\n",
       "      <td>Syria</td>\n",
       "      <td>ACU launches the first &amp;quot;Dynamic Monitorin...</td>\n",
       "      <td>Disease Spread/Epidemic (أوبئة)</td>\n",
       "      <td>34.640186</td>\n",
       "      <td>39.049411</td>\n",
       "      <td>YES</td>\n",
       "      <td>YES</td>\n",
       "      <td>NaN</td>\n",
       "    </tr>\n",
       "    <tr>\n",
       "      <th>4758</th>\n",
       "      <td>ثلاثة قتلى و25 حالة اختناق بالغازات السامة في ...</td>\n",
       "      <td>2014-03-28 08:57:00</td>\n",
       "      <td>Syria</td>\n",
       "      <td>قتلى لقوات النظام في ريفي حلب وحماة\\n\\nثلاثة ق...</td>\n",
       "      <td>Article (مقالة)</td>\n",
       "      <td>34.640186</td>\n",
       "      <td>39.049411</td>\n",
       "      <td>YES</td>\n",
       "      <td>YES</td>\n",
       "      <td>NaN</td>\n",
       "    </tr>\n",
       "    <tr>\n",
       "      <th>4736</th>\n",
       "      <td>Protect Civilians</td>\n",
       "      <td>2014-03-28 07:56:00</td>\n",
       "      <td>Aleppo, 214, Ballirmun, Aleppo, Syria</td>\n",
       "      <td>** The Syrian regime’s vicious military campai...</td>\n",
       "      <td>Aggregate Report (تقرير إجمالي),Killed (قُتِل)...</td>\n",
       "      <td>36.260784</td>\n",
       "      <td>37.070531</td>\n",
       "      <td>YES</td>\n",
       "      <td>YES</td>\n",
       "      <td>NaN</td>\n",
       "    </tr>\n",
       "    <tr>\n",
       "      <th>4741</th>\n",
       "      <td>حرستا - ريف دمشق 28 3 2014 : الحصيلة الأولية ل...</td>\n",
       "      <td>2014-03-28 01:04:00</td>\n",
       "      <td>Hirista, Rif Dimashq, Syria</td>\n",
       "      <td>الحصيلة الأولية لاستهداف النظام لمدينة حرستا ب...</td>\n",
       "      <td>Aggregate Report (تقرير إجمالي),Chemical Poiso...</td>\n",
       "      <td>33.558874</td>\n",
       "      <td>36.362652</td>\n",
       "      <td>YES</td>\n",
       "      <td>YES</td>\n",
       "      <td>NaN</td>\n",
       "    </tr>\n",
       "    <tr>\n",
       "      <th>4740</th>\n",
       "      <td>عاجل || استهداف مدينة حرستا بريف دمشق الان بال...</td>\n",
       "      <td>2014-03-28 00:10:00</td>\n",
       "      <td>Hirista, Rif Dimashq, Syria</td>\n",
       "      <td>عاجل || استهداف مدينة حرستا بالغازات السامة وو...</td>\n",
       "      <td>Aggregate Report (تقرير إجمالي),Chemical Poiso...</td>\n",
       "      <td>33.558874</td>\n",
       "      <td>36.362652</td>\n",
       "      <td>YES</td>\n",
       "      <td>YES</td>\n",
       "      <td>NaN</td>\n",
       "    </tr>\n",
       "    <tr>\n",
       "      <th>4730</th>\n",
       "      <td>مجلس قيادة الثورة في ريف دمشق - المكتب الإعلام...</td>\n",
       "      <td>2014-03-27 20:41:00</td>\n",
       "      <td>Rif Dimashq, Syria</td>\n",
       "      <td>مجلس قيادة الثورة في ريف دمشق - المكتب الإعلام...</td>\n",
       "      <td>Aggregate Report (تقرير إجمالي),Eyewitness Rep...</td>\n",
       "      <td>33.461274</td>\n",
       "      <td>36.844078</td>\n",
       "      <td>YES</td>\n",
       "      <td>YES</td>\n",
       "      <td>NaN</td>\n",
       "    </tr>\n",
       "    <tr>\n",
       "      <th>4759</th>\n",
       "      <td>أربعون قتيلاً من قوات النظام في ريف اللاذقية  ...</td>\n",
       "      <td>2014-03-27 17:59:00</td>\n",
       "      <td>Syria</td>\n",
       "      <td>أربعون قتيلاً من قوات النظام في ريف اللاذقية\\n...</td>\n",
       "      <td>Article (مقالة)</td>\n",
       "      <td>34.640186</td>\n",
       "      <td>39.049411</td>\n",
       "      <td>YES</td>\n",
       "      <td>YES</td>\n",
       "      <td>NaN</td>\n",
       "    </tr>\n",
       "    <tr>\n",
       "      <th>4729</th>\n",
       "      <td>انضمامات عسكرية جديدة في صفوف المعارضة حول الع...</td>\n",
       "      <td>2014-03-27 17:52:00</td>\n",
       "      <td>bank of syria and overseas, برج الروس, Abu Jar...</td>\n",
       "      <td>انضمامات عسكرية جديدة في صفوف المعارضة حول الع...</td>\n",
       "      <td>Announcement (إعلان)</td>\n",
       "      <td>33.516163</td>\n",
       "      <td>36.316084</td>\n",
       "      <td>YES</td>\n",
       "      <td>YES</td>\n",
       "      <td>NaN</td>\n",
       "    </tr>\n",
       "    <tr>\n",
       "      <th>4728</th>\n",
       "      <td>اشتباكات بين الجيش الحر وكتائب الأسد على الجبه...</td>\n",
       "      <td>2014-03-27 14:56:00</td>\n",
       "      <td>داريا, شارع الكازية, Hawsh al Balas, Rif Dimas...</td>\n",
       "      <td>مجلس قيادة الثورة في ريف دمشق | الغوطة الغربية...</td>\n",
       "      <td>Eyewitness Report (تقريرشاهد عيان),Announcemen...</td>\n",
       "      <td>33.454121</td>\n",
       "      <td>36.229229</td>\n",
       "      <td>YES</td>\n",
       "      <td>YES</td>\n",
       "      <td>NaN</td>\n",
       "    </tr>\n",
       "    <tr>\n",
       "      <th>4727</th>\n",
       "      <td>الطيران المروحي يلقي خمسة براميل على خان الشيح...</td>\n",
       "      <td>2014-03-27 14:52:00</td>\n",
       "      <td>Khan ash Shaykh, Rif Dimashq, Syria</td>\n",
       "      <td>مجلس قيادة الثورة في ريف دمشق | الغوطة الغربية...</td>\n",
       "      <td>Eyewitness Report (تقريرشاهد عيان),Announcemen...</td>\n",
       "      <td>33.374182</td>\n",
       "      <td>36.114922</td>\n",
       "      <td>YES</td>\n",
       "      <td>YES</td>\n",
       "      <td>NaN</td>\n",
       "    </tr>\n",
       "    <tr>\n",
       "      <th>4726</th>\n",
       "      <td>قصف مدفعي عنيف يستهدف مدينة الزبداني في ريف دمشق</td>\n",
       "      <td>2014-03-27 14:50:00</td>\n",
       "      <td>Az Zabadani, Rif Dimashq, Syria</td>\n",
       "      <td>مجلس قيادة الثورة في ريف دمشق | القلمون - الزب...</td>\n",
       "      <td>Eyewitness Report (تقريرشاهد عيان),Announcemen...</td>\n",
       "      <td>33.724446</td>\n",
       "      <td>36.100194</td>\n",
       "      <td>YES</td>\n",
       "      <td>YES</td>\n",
       "      <td>NaN</td>\n",
       "    </tr>\n",
       "    <tr>\n",
       "      <th>4761</th>\n",
       "      <td>Behind the scenes with Syria's 'emergency cinema'</td>\n",
       "      <td>2014-03-27 14:26:00</td>\n",
       "      <td>Syria</td>\n",
       "      <td>Behind the scenes with Syria's 'emergency cine...</td>\n",
       "      <td>Twitter Report (تقرير تويتر)</td>\n",
       "      <td>34.640186</td>\n",
       "      <td>39.049411</td>\n",
       "      <td>YES</td>\n",
       "      <td>YES</td>\n",
       "      <td>NaN</td>\n",
       "    </tr>\n",
       "    <tr>\n",
       "      <th>4744</th>\n",
       "      <td>قتلى لقوات النظام في ريفي إدلب وحلب - 2014/03/...</td>\n",
       "      <td>2014-03-27 09:54:00</td>\n",
       "      <td>Syria</td>\n",
       "      <td>قتلى لقوات النظام في ريفي إدلب وحلب\\n\\nوتجدد ا...</td>\n",
       "      <td>Article (مقالة)</td>\n",
       "      <td>34.640186</td>\n",
       "      <td>39.049411</td>\n",
       "      <td>YES</td>\n",
       "      <td>YES</td>\n",
       "      <td>NaN</td>\n",
       "    </tr>\n",
       "    <tr>\n",
       "      <th>4725</th>\n",
       "      <td>مجلس قيادة الثورة في ريف دمشق - المكتب الإعلام...</td>\n",
       "      <td>2014-03-26 21:13:00</td>\n",
       "      <td>Rif Dimashq, Syria</td>\n",
       "      <td>مجلس قيادة الثورة في ريف دمشق - المكتب الإعلام...</td>\n",
       "      <td>Aggregate Report (تقرير إجمالي),Killed (قُتِل)...</td>\n",
       "      <td>33.461274</td>\n",
       "      <td>36.844078</td>\n",
       "      <td>YES</td>\n",
       "      <td>YES</td>\n",
       "      <td>NaN</td>\n",
       "    </tr>\n",
       "    <tr>\n",
       "      <th>4745</th>\n",
       "      <td>قتلى من عناصر قوات النظام في حلب وريفها  2014/...</td>\n",
       "      <td>2014-03-26 17:59:00</td>\n",
       "      <td>Syria</td>\n",
       "      <td>قتلى من عناصر قوات النظام في حلب وريفها\\n\\nقوا...</td>\n",
       "      <td>Article (مقالة)</td>\n",
       "      <td>34.640186</td>\n",
       "      <td>39.049411</td>\n",
       "      <td>YES</td>\n",
       "      <td>YES</td>\n",
       "      <td>NaN</td>\n",
       "    </tr>\n",
       "    <tr>\n",
       "      <th>4739</th>\n",
       "      <td>عااجل وهااام ... # زملكا # الغوطة اشرقية لريف ...</td>\n",
       "      <td>2014-03-26 13:23:00</td>\n",
       "      <td>Zamalka, Rif Dimashq, Syria</td>\n",
       "      <td>#زملكا - ريف دمشق الشرقي  26 3 2014 :\\nـــــــ...</td>\n",
       "      <td>Aggregate Report (تقرير إجمالي),Killed (قُتِل)...</td>\n",
       "      <td>33.516353</td>\n",
       "      <td>36.350852</td>\n",
       "      <td>YES</td>\n",
       "      <td>YES</td>\n",
       "      <td>NaN</td>\n",
       "    </tr>\n",
       "    <tr>\n",
       "      <th>...</th>\n",
       "      <td>...</td>\n",
       "      <td>...</td>\n",
       "      <td>...</td>\n",
       "      <td>...</td>\n",
       "      <td>...</td>\n",
       "      <td>...</td>\n",
       "      <td>...</td>\n",
       "      <td>...</td>\n",
       "      <td>...</td>\n",
       "      <td>...</td>\n",
       "    </tr>\n",
       "    <tr>\n",
       "      <th>3107</th>\n",
       "      <td>فيديو هام جدا يظهر لحظة اطلاق الصواريخ ونزولها...</td>\n",
       "      <td>2013-04-06 09:02:00</td>\n",
       "      <td>Barzeh, Damascus, Syria</td>\n",
       "      <td>دمشق - برزة : لحظة سقوط صواريخ أرض أرض على الح...</td>\n",
       "      <td>Eyewitness Report (تقريرشاهد عيان)</td>\n",
       "      <td>33.549054</td>\n",
       "      <td>36.314589</td>\n",
       "      <td>YES</td>\n",
       "      <td>YES</td>\n",
       "      <td>NaN</td>\n",
       "    </tr>\n",
       "    <tr>\n",
       "      <th>3102</th>\n",
       "      <td>فيديوهات القصف على برزة</td>\n",
       "      <td>2013-04-05 22:11:00</td>\n",
       "      <td>Barzeh, Damascus, Syria</td>\n",
       "      <td>دمشق - برزة : لحظة سقوط قذائف الهاون على الحي ...</td>\n",
       "      <td>Aggregate Report (تقرير إجمالي),Killed (قُتِل)...</td>\n",
       "      <td>33.549054</td>\n",
       "      <td>36.314589</td>\n",
       "      <td>YES</td>\n",
       "      <td>YES</td>\n",
       "      <td>NaN</td>\n",
       "    </tr>\n",
       "    <tr>\n",
       "      <th>3103</th>\n",
       "      <td>سقوط خمسة قذائف هاون الآن على منازل المدنيين ف...</td>\n",
       "      <td>2013-04-05 16:50:00</td>\n",
       "      <td>Barzeh, Damascus, Syria</td>\n",
       "      <td>سقوط خمسة قذائف هاون الآن على منازل المدنيين ف...</td>\n",
       "      <td>Eyewitness Report (تقريرشاهد عيان),Announcemen...</td>\n",
       "      <td>33.549054</td>\n",
       "      <td>36.314589</td>\n",
       "      <td>YES</td>\n",
       "      <td>YES</td>\n",
       "      <td>NaN</td>\n",
       "    </tr>\n",
       "    <tr>\n",
       "      <th>3104</th>\n",
       "      <td>نفي تجدد القصف الصاروخي على برزة</td>\n",
       "      <td>2013-04-05 10:56:00</td>\n",
       "      <td>Barzeh, Damascus, Syria</td>\n",
       "      <td>المكتب الاعلامي في حي برزة ينفي ما ورد من انبا...</td>\n",
       "      <td>Eyewitness Report (تقريرشاهد عيان),Announcemen...</td>\n",
       "      <td>33.549054</td>\n",
       "      <td>36.314589</td>\n",
       "      <td>YES</td>\n",
       "      <td>YES</td>\n",
       "      <td>NaN</td>\n",
       "    </tr>\n",
       "    <tr>\n",
       "      <th>3105</th>\n",
       "      <td>استهـداف حــي بـــرزة بصواريـخ توشكـا ( أرض - ...</td>\n",
       "      <td>2013-04-05 06:52:00</td>\n",
       "      <td>Barzeh, Damascus, Syria</td>\n",
       "      <td>استهـداف حــي بـــرزة بصواريـخ توشكـا ( أرض - ...</td>\n",
       "      <td>Aggregate Report (تقرير إجمالي),Killed (قُتِل)...</td>\n",
       "      <td>33.549054</td>\n",
       "      <td>36.314589</td>\n",
       "      <td>YES</td>\n",
       "      <td>YES</td>\n",
       "      <td>NaN</td>\n",
       "    </tr>\n",
       "    <tr>\n",
       "      <th>3106</th>\n",
       "      <td>اليوم الرابع والعشرين على التوالي من الحصار</td>\n",
       "      <td>2013-04-05 05:01:00</td>\n",
       "      <td>Barzeh, Damascus, Syria</td>\n",
       "      <td>أن هذا الحي يعاني منذ مايقارب الشهر من حصار خا...</td>\n",
       "      <td>Eyewitness Report (تقريرشاهد عيان)</td>\n",
       "      <td>33.549054</td>\n",
       "      <td>36.314589</td>\n",
       "      <td>YES</td>\n",
       "      <td>YES</td>\n",
       "      <td>NaN</td>\n",
       "    </tr>\n",
       "    <tr>\n",
       "      <th>3101</th>\n",
       "      <td>موقع حي برزة ولمحة عنه واهم احداثه منذ بداية ا...</td>\n",
       "      <td>2013-04-05 03:34:00</td>\n",
       "      <td>Barzeh, Damascus, Syria</td>\n",
       "      <td>موقع حي برزة ولمحة عنه واهم احداثه في صور منذ ...</td>\n",
       "      <td>Article (مقالة)</td>\n",
       "      <td>33.549054</td>\n",
       "      <td>36.314589</td>\n",
       "      <td>YES</td>\n",
       "      <td>YES</td>\n",
       "      <td>NaN</td>\n",
       "    </tr>\n",
       "    <tr>\n",
       "      <th>3100</th>\n",
       "      <td>أثار القصف الصاروخي على حي برزة في دمشق</td>\n",
       "      <td>2013-04-05 01:25:00</td>\n",
       "      <td>Barzeh, Damascus, Syria</td>\n",
       "      <td>5 شهداء وعشرات الجرحى جراء سقوط 18 صاروخ أرض-أ...</td>\n",
       "      <td>Aggregate Report (تقرير إجمالي),Killed (قُتِل)...</td>\n",
       "      <td>33.549054</td>\n",
       "      <td>36.314589</td>\n",
       "      <td>YES</td>\n",
       "      <td>YES</td>\n",
       "      <td>NaN</td>\n",
       "    </tr>\n",
       "    <tr>\n",
       "      <th>3099</th>\n",
       "      <td>برزة انتشال جثث الاطفال</td>\n",
       "      <td>2013-04-05 01:22:00</td>\n",
       "      <td>Barzeh, Damascus, Syria</td>\n",
       "      <td>انتشال جثث الاطفال من تحت انقاض المنازل المهدم...</td>\n",
       "      <td>Aggregate Report (تقرير إجمالي),Killed (قُتِل)...</td>\n",
       "      <td>33.549054</td>\n",
       "      <td>36.314589</td>\n",
       "      <td>YES</td>\n",
       "      <td>YES</td>\n",
       "      <td>NaN</td>\n",
       "    </tr>\n",
       "    <tr>\n",
       "      <th>3088</th>\n",
       "      <td>سقوط صاروخين ارض-ارض جديدين ليرتفع العدد الى 1...</td>\n",
       "      <td>2013-04-05 00:48:00</td>\n",
       "      <td>Barzeh, Damascus, Syria</td>\n",
       "      <td>مجلس برزة المحلي : سقوط صاروخين ارض-ارض جديدين...</td>\n",
       "      <td>Eyewitness Report (تقريرشاهد عيان),Announcemen...</td>\n",
       "      <td>33.549054</td>\n",
       "      <td>36.314589</td>\n",
       "      <td>YES</td>\n",
       "      <td>YES</td>\n",
       "      <td>NaN</td>\n",
       "    </tr>\n",
       "    <tr>\n",
       "      <th>3089</th>\n",
       "      <td>انتشال سيدة من تحت الانقاض</td>\n",
       "      <td>2013-04-04 23:59:00</td>\n",
       "      <td>Barzeh, Damascus, Syria</td>\n",
       "      <td>انتشال سيدة من تحت الانقاض نتيجة سقوط صاروخ ار...</td>\n",
       "      <td>Eyewitness Report (تقريرشاهد عيان)</td>\n",
       "      <td>33.549054</td>\n",
       "      <td>36.314589</td>\n",
       "      <td>YES</td>\n",
       "      <td>YES</td>\n",
       "      <td>NaN</td>\n",
       "    </tr>\n",
       "    <tr>\n",
       "      <th>3090</th>\n",
       "      <td>عاجل</td>\n",
       "      <td>2013-04-04 23:52:00</td>\n",
       "      <td>Barzeh, Damascus, Syria</td>\n",
       "      <td>مجلس برزة المحلي : سقوط صاروخين أرض أرض في هذه...</td>\n",
       "      <td>Eyewitness Report (تقريرشاهد عيان),Announcemen...</td>\n",
       "      <td>33.549054</td>\n",
       "      <td>36.314589</td>\n",
       "      <td>YES</td>\n",
       "      <td>NO</td>\n",
       "      <td>NaN</td>\n",
       "    </tr>\n",
       "    <tr>\n",
       "      <th>3091</th>\n",
       "      <td>ارتفاع حصيلة الشهداء الى 5 بينهم طفل ورجل مسن ...</td>\n",
       "      <td>2013-04-04 23:39:00</td>\n",
       "      <td>Barzeh, Damascus, Syria</td>\n",
       "      <td>مجلس برزة المحلي : ارتفاع حصيلة الشهداء الى 5 ...</td>\n",
       "      <td>Aggregate Report (تقرير إجمالي),Killed (قُتِل)...</td>\n",
       "      <td>33.549054</td>\n",
       "      <td>36.314589</td>\n",
       "      <td>YES</td>\n",
       "      <td>YES</td>\n",
       "      <td>NaN</td>\n",
       "    </tr>\n",
       "    <tr>\n",
       "      <th>3092</th>\n",
       "      <td>سقوط 8 صواريخ أرض أرض على حي برزة</td>\n",
       "      <td>2013-04-04 22:00:00</td>\n",
       "      <td>Barzeh, Damascus, Syria</td>\n",
       "      <td>مجلس برزة المحلي : سقوط 8 صواريخ أرض أرض على ح...</td>\n",
       "      <td>Eyewitness Report (تقريرشاهد عيان),Announcemen...</td>\n",
       "      <td>33.549054</td>\n",
       "      <td>36.314589</td>\n",
       "      <td>YES</td>\n",
       "      <td>NO</td>\n",
       "      <td>NaN</td>\n",
       "    </tr>\n",
       "    <tr>\n",
       "      <th>3093</th>\n",
       "      <td>ريف دمشق 04 04 2013</td>\n",
       "      <td>2013-04-04 21:39:00</td>\n",
       "      <td>Rif-Dimashq Governorate, Syria</td>\n",
       "      <td>مجلس قيادة الثورة في ريف دمشق – المكتب الاعلام...</td>\n",
       "      <td>Aggregate Report (تقرير إجمالي),Killed (قُتِل)...</td>\n",
       "      <td>33.516729</td>\n",
       "      <td>36.954107</td>\n",
       "      <td>YES</td>\n",
       "      <td>YES</td>\n",
       "      <td>NaN</td>\n",
       "    </tr>\n",
       "    <tr>\n",
       "      <th>3094</th>\n",
       "      <td>عوائل تحت الأنقاض واحتراق وتدمير منازل</td>\n",
       "      <td>2013-04-04 19:44:00</td>\n",
       "      <td>Barzeh, Damascus, Syria</td>\n",
       "      <td>عوائل تحت الأنقاض واحتراق وتدمير منازل بسقوط 4...</td>\n",
       "      <td>Aggregate Report (تقرير إجمالي),Killed (قُتِل)...</td>\n",
       "      <td>33.549054</td>\n",
       "      <td>36.314589</td>\n",
       "      <td>YES</td>\n",
       "      <td>NO</td>\n",
       "      <td>NaN</td>\n",
       "    </tr>\n",
       "    <tr>\n",
       "      <th>3095</th>\n",
       "      <td>عائلة كاملة تحت الانقاض وحرائق في بعض البيوت</td>\n",
       "      <td>2013-04-04 19:33:00</td>\n",
       "      <td>Barzeh, Damascus, Syria</td>\n",
       "      <td>مجلس برزة المحلي : عائلة كاملة تحت الانقاض وحر...</td>\n",
       "      <td>Aggregate Report (تقرير إجمالي),Killed (قُتِل)...</td>\n",
       "      <td>33.549054</td>\n",
       "      <td>36.314589</td>\n",
       "      <td>YES</td>\n",
       "      <td>NO</td>\n",
       "      <td>NaN</td>\n",
       "    </tr>\n",
       "    <tr>\n",
       "      <th>3096</th>\n",
       "      <td>ﺳﻘﻮﻁ ﺻﺎﺭﻭﺧﻴﻦ ﺃﺭﺽ ﺃﺭﺽ</td>\n",
       "      <td>2013-04-04 19:17:00</td>\n",
       "      <td>Barzeh, Damascus, Syria</td>\n",
       "      <td>ﻣﺠﻠﺲ ﺑﺮﺯﺓ ﺍﻟﻤﺤﻠﻲ : ﺳﻘﻮﻁ ﺻﺎﺭﻭﺧﻴﻦ ﺃﺭﺽ ﺃﺭﺽ ﻷ‌ﻭﻝ ﻣ...</td>\n",
       "      <td>Eyewitness Report (تقريرشاهد عيان),Announcemen...</td>\n",
       "      <td>33.549054</td>\n",
       "      <td>36.314589</td>\n",
       "      <td>YES</td>\n",
       "      <td>NO</td>\n",
       "      <td>NaN</td>\n",
       "    </tr>\n",
       "    <tr>\n",
       "      <th>3098</th>\n",
       "      <td>الإعلام السوري البديل - صحف ومجلات - الأسبوع ا...</td>\n",
       "      <td>2013-04-04 16:45:00</td>\n",
       "      <td>Syria</td>\n",
       "      <td>أصدرت عنب بلدي منشورًا جديدًا يتضمن الإصدارات ...</td>\n",
       "      <td>Article (مقالة)</td>\n",
       "      <td>34.802075</td>\n",
       "      <td>38.996815</td>\n",
       "      <td>YES</td>\n",
       "      <td>YES</td>\n",
       "      <td>NaN</td>\n",
       "    </tr>\n",
       "    <tr>\n",
       "      <th>3097</th>\n",
       "      <td>نجاة المصور من القصف</td>\n",
       "      <td>2013-04-04 10:46:00</td>\n",
       "      <td>Barzeh, Damascus, Syria</td>\n",
       "      <td>مجلس برزة المحلي |4-4-2013 |\\nجانب من القصف ال...</td>\n",
       "      <td>Eyewitness Report (تقريرشاهد عيان)</td>\n",
       "      <td>33.549054</td>\n",
       "      <td>36.314589</td>\n",
       "      <td>YES</td>\n",
       "      <td>YES</td>\n",
       "      <td>NaN</td>\n",
       "    </tr>\n",
       "    <tr>\n",
       "      <th>3087</th>\n",
       "      <td>مجزرة في حي برزة</td>\n",
       "      <td>2013-04-03 22:50:00</td>\n",
       "      <td>Barzeh, Damascus, Syria</td>\n",
       "      <td>مجلس برزة المحلي : مجزرة في حي برزة ضحيتها عدد...</td>\n",
       "      <td>Aggregate Report (تقرير إجمالي),Killed (قُتِل)...</td>\n",
       "      <td>33.549054</td>\n",
       "      <td>36.314589</td>\n",
       "      <td>YES</td>\n",
       "      <td>NO</td>\n",
       "      <td>NaN</td>\n",
       "    </tr>\n",
       "    <tr>\n",
       "      <th>3085</th>\n",
       "      <td>ريف دمشق 03 04 2013</td>\n",
       "      <td>2013-04-03 21:27:00</td>\n",
       "      <td>Rif-Dimashq Governorate, Syria</td>\n",
       "      <td>مجلس قيادة الثورة في ريف دمشق – المكتب الاعلام...</td>\n",
       "      <td>Aggregate Report (تقرير إجمالي),Killed (قُتِل)...</td>\n",
       "      <td>33.516729</td>\n",
       "      <td>36.954107</td>\n",
       "      <td>YES</td>\n",
       "      <td>YES</td>\n",
       "      <td>NaN</td>\n",
       "    </tr>\n",
       "    <tr>\n",
       "      <th>3086</th>\n",
       "      <td>قصف مسجد برزة الكبير</td>\n",
       "      <td>2013-04-03 12:57:00</td>\n",
       "      <td>Barzeh, Damascus, Syria</td>\n",
       "      <td>تجدد القصف المدفعي واستهداف مسجد برزة الكبير\\n...</td>\n",
       "      <td>Eyewitness Report (تقريرشاهد عيان)</td>\n",
       "      <td>33.549054</td>\n",
       "      <td>36.314589</td>\n",
       "      <td>YES</td>\n",
       "      <td>YES</td>\n",
       "      <td>NaN</td>\n",
       "    </tr>\n",
       "    <tr>\n",
       "      <th>3084</th>\n",
       "      <td>ريف دمشق 02 04 2013</td>\n",
       "      <td>2013-04-02 22:13:00</td>\n",
       "      <td>Rif-Dimashq Governorate, Syria</td>\n",
       "      <td>مجلس قيادة الثورة في ريف دمشق – المكتب الاعلام...</td>\n",
       "      <td>Aggregate Report (تقرير إجمالي),Killed (قُتِل)...</td>\n",
       "      <td>33.516729</td>\n",
       "      <td>36.954107</td>\n",
       "      <td>YES</td>\n",
       "      <td>YES</td>\n",
       "      <td>NaN</td>\n",
       "    </tr>\n",
       "    <tr>\n",
       "      <th>3080</th>\n",
       "      <td>أثار القصف الصاروخي</td>\n",
       "      <td>2013-04-02 16:45:00</td>\n",
       "      <td>Barzeh, Damascus, Syria</td>\n",
       "      <td>أثار القصف الصاروخي على حي برزة في دمشق\\nhttp:...</td>\n",
       "      <td>Aggregate Report (تقرير إجمالي),Killed (قُتِل)...</td>\n",
       "      <td>33.549054</td>\n",
       "      <td>36.314589</td>\n",
       "      <td>YES</td>\n",
       "      <td>YES</td>\n",
       "      <td>NaN</td>\n",
       "    </tr>\n",
       "    <tr>\n",
       "      <th>3081</th>\n",
       "      <td>ﻗﺘﻠﻰ ﻭﺟﺮﺣﻰ ﻓﻲ ﻗﺼﻒ ﺻﺎﺭﻭﺧﻲ ﺍﺳﺘﻬﺪﻑ ﺍﻟﻤﻨﻄﻘﺔ ﺍﻟﻘﺪﻳﻤ...</td>\n",
       "      <td>2013-04-02 16:20:00</td>\n",
       "      <td>Barzeh, Damascus, Syria</td>\n",
       "      <td>ﻣﺠﻠﺲ ﺑﺮﺯﺓ ﺍﻟﻤﺤﻠﻲ : ﻗﺘﻠﻰ ﻭﺟﺮﺣﻰ ﻓﻲ ﻗﺼﻒ ﺻﺎﺭﻭﺧﻲ ﺍﺳ...</td>\n",
       "      <td>Aggregate Report (تقرير إجمالي),Killed (قُتِل)...</td>\n",
       "      <td>33.549054</td>\n",
       "      <td>36.314589</td>\n",
       "      <td>YES</td>\n",
       "      <td>YES</td>\n",
       "      <td>NaN</td>\n",
       "    </tr>\n",
       "    <tr>\n",
       "      <th>3082</th>\n",
       "      <td>قصف المدفعي والصاروخي على منازل المدنيين</td>\n",
       "      <td>2013-04-02 16:20:00</td>\n",
       "      <td>Barzeh, Damascus, Syria</td>\n",
       "      <td>ارتفاع عدد الشهداء إلى 6 وعشرات الجرحى بعضهم ف...</td>\n",
       "      <td>Aggregate Report (تقرير إجمالي),Killed (قُتِل)</td>\n",
       "      <td>33.549054</td>\n",
       "      <td>36.314589</td>\n",
       "      <td>YES</td>\n",
       "      <td>YES</td>\n",
       "      <td>NaN</td>\n",
       "    </tr>\n",
       "    <tr>\n",
       "      <th>3083</th>\n",
       "      <td>شهداء وعشرات الجرحى نتيجة قصف مدفعي عنيف</td>\n",
       "      <td>2013-04-02 12:44:00</td>\n",
       "      <td>Barzeh, Damascus, Syria</td>\n",
       "      <td>مجلس برزة المحلي / 4شهداء وعشرات الجرحى نتيجة ...</td>\n",
       "      <td>Aggregate Report (تقرير إجمالي),Killed (قُتِل)...</td>\n",
       "      <td>33.549054</td>\n",
       "      <td>36.314589</td>\n",
       "      <td>YES</td>\n",
       "      <td>NO</td>\n",
       "      <td>NaN</td>\n",
       "    </tr>\n",
       "    <tr>\n",
       "      <th>3079</th>\n",
       "      <td>عاجـــل</td>\n",
       "      <td>2013-04-02 06:43:00</td>\n",
       "      <td>Barzeh, Damascus, Syria</td>\n",
       "      <td>خمسة جرحى جراء القصف بالهاون واطلاق رصاص الدوش...</td>\n",
       "      <td>Eyewitness Report (تقريرشاهد عيان),Announcemen...</td>\n",
       "      <td>33.549054</td>\n",
       "      <td>36.314589</td>\n",
       "      <td>YES</td>\n",
       "      <td>NO</td>\n",
       "      <td>NaN</td>\n",
       "    </tr>\n",
       "    <tr>\n",
       "      <th>3078</th>\n",
       "      <td>ريف دمشق 01 04 2013</td>\n",
       "      <td>2013-04-01 21:30:00</td>\n",
       "      <td>Rif-Dimashq Governorate, Syria</td>\n",
       "      <td>مجلس قيادة الثورة في ريف دمشق – المكتب الاعلام...</td>\n",
       "      <td>Aggregate Report (تقرير إجمالي),Killed (قُتِل)...</td>\n",
       "      <td>33.516729</td>\n",
       "      <td>36.954107</td>\n",
       "      <td>YES</td>\n",
       "      <td>YES</td>\n",
       "      <td>NaN</td>\n",
       "    </tr>\n",
       "  </tbody>\n",
       "</table>\n",
       "<p>1631 rows × 10 columns</p>\n",
       "</div>"
      ],
      "text/plain": [
       "                                                      #       INCIDENT TITLE  \\\n",
       "4716  الإعلام السوري البديل - صحف ومجلات - آذار 2014...  2014-03-30 22:52:00   \n",
       "4760  ارتفاع عدد ضحايا القنص عند معبر كراج الحجز بحل...  2014-03-30 17:22:00   \n",
       "4754  خمسون قتيلاً من عناصر قوات النظام في حلب وريفه...  2014-03-30 09:22:00   \n",
       "4743  هااااام فيديوهات تبين الية توزيع السلل الغذائي...  2014-03-30 08:00:00   \n",
       "4734          More than 330 barrel bomb on Daraya alone  2014-03-30 07:23:00   \n",
       "4721  مجلس قيادة الثورة في ريف دمشق - المكتب الإعلام...  2014-03-29 20:41:00   \n",
       "4755  مقتل عشرين من عناصر قوات النظام في حلب  2014/0...  2014-03-29 16:59:00   \n",
       "4733  مجلس قيادة الثورة في ريف دمشق || خروج الوفد ال...  2014-03-29 14:37:00   \n",
       "4737  هااااااااااااام دخول المساعدات الانسانية الى ا...  2014-03-29 14:28:00   \n",
       "4732  تفاصيل استهداف مدينة حرستا بالغازات السامة يوم...  2014-03-29 11:20:00   \n",
       "4742  هااااااااااااااااام .. دخول لجنة الاممية الي ع...  2014-03-29 09:58:00   \n",
       "4756  مقتل قيادي عسكري عراقي في اشتباكات بحلب - 2014...  2014-03-29 08:53:00   \n",
       "4731  مجلس قيادة الثورة في ريف دمشق - المكتب الإعلام...  2014-03-28 20:57:00   \n",
       "4757  تنظيم دولة الإسلام في العراق والشام يعدم مدنيا...  2014-03-28 17:00:00   \n",
       "4714  ACU, launches the first &quot;Dynamic Monitori...  2014-03-28 14:39:00   \n",
       "4758  ثلاثة قتلى و25 حالة اختناق بالغازات السامة في ...  2014-03-28 08:57:00   \n",
       "4736                                  Protect Civilians  2014-03-28 07:56:00   \n",
       "4741  حرستا - ريف دمشق 28 3 2014 : الحصيلة الأولية ل...  2014-03-28 01:04:00   \n",
       "4740  عاجل || استهداف مدينة حرستا بريف دمشق الان بال...  2014-03-28 00:10:00   \n",
       "4730  مجلس قيادة الثورة في ريف دمشق - المكتب الإعلام...  2014-03-27 20:41:00   \n",
       "4759  أربعون قتيلاً من قوات النظام في ريف اللاذقية  ...  2014-03-27 17:59:00   \n",
       "4729  انضمامات عسكرية جديدة في صفوف المعارضة حول الع...  2014-03-27 17:52:00   \n",
       "4728  اشتباكات بين الجيش الحر وكتائب الأسد على الجبه...  2014-03-27 14:56:00   \n",
       "4727  الطيران المروحي يلقي خمسة براميل على خان الشيح...  2014-03-27 14:52:00   \n",
       "4726   قصف مدفعي عنيف يستهدف مدينة الزبداني في ريف دمشق  2014-03-27 14:50:00   \n",
       "4761  Behind the scenes with Syria's 'emergency cinema'  2014-03-27 14:26:00   \n",
       "4744  قتلى لقوات النظام في ريفي إدلب وحلب - 2014/03/...  2014-03-27 09:54:00   \n",
       "4725  مجلس قيادة الثورة في ريف دمشق - المكتب الإعلام...  2014-03-26 21:13:00   \n",
       "4745  قتلى من عناصر قوات النظام في حلب وريفها  2014/...  2014-03-26 17:59:00   \n",
       "4739  عااجل وهااام ... # زملكا # الغوطة اشرقية لريف ...  2014-03-26 13:23:00   \n",
       "...                                                 ...                  ...   \n",
       "3107  فيديو هام جدا يظهر لحظة اطلاق الصواريخ ونزولها...  2013-04-06 09:02:00   \n",
       "3102                            فيديوهات القصف على برزة  2013-04-05 22:11:00   \n",
       "3103  سقوط خمسة قذائف هاون الآن على منازل المدنيين ف...  2013-04-05 16:50:00   \n",
       "3104                   نفي تجدد القصف الصاروخي على برزة  2013-04-05 10:56:00   \n",
       "3105  استهـداف حــي بـــرزة بصواريـخ توشكـا ( أرض - ...  2013-04-05 06:52:00   \n",
       "3106        اليوم الرابع والعشرين على التوالي من الحصار  2013-04-05 05:01:00   \n",
       "3101  موقع حي برزة ولمحة عنه واهم احداثه منذ بداية ا...  2013-04-05 03:34:00   \n",
       "3100            أثار القصف الصاروخي على حي برزة في دمشق  2013-04-05 01:25:00   \n",
       "3099                            برزة انتشال جثث الاطفال  2013-04-05 01:22:00   \n",
       "3088  سقوط صاروخين ارض-ارض جديدين ليرتفع العدد الى 1...  2013-04-05 00:48:00   \n",
       "3089                         انتشال سيدة من تحت الانقاض  2013-04-04 23:59:00   \n",
       "3090                                               عاجل  2013-04-04 23:52:00   \n",
       "3091  ارتفاع حصيلة الشهداء الى 5 بينهم طفل ورجل مسن ...  2013-04-04 23:39:00   \n",
       "3092                  سقوط 8 صواريخ أرض أرض على حي برزة  2013-04-04 22:00:00   \n",
       "3093                                ريف دمشق 04 04 2013  2013-04-04 21:39:00   \n",
       "3094             عوائل تحت الأنقاض واحتراق وتدمير منازل  2013-04-04 19:44:00   \n",
       "3095       عائلة كاملة تحت الانقاض وحرائق في بعض البيوت  2013-04-04 19:33:00   \n",
       "3096                               ﺳﻘﻮﻁ ﺻﺎﺭﻭﺧﻴﻦ ﺃﺭﺽ ﺃﺭﺽ  2013-04-04 19:17:00   \n",
       "3098  الإعلام السوري البديل - صحف ومجلات - الأسبوع ا...  2013-04-04 16:45:00   \n",
       "3097                               نجاة المصور من القصف  2013-04-04 10:46:00   \n",
       "3087                                   مجزرة في حي برزة  2013-04-03 22:50:00   \n",
       "3085                                ريف دمشق 03 04 2013  2013-04-03 21:27:00   \n",
       "3086                               قصف مسجد برزة الكبير  2013-04-03 12:57:00   \n",
       "3084                                ريف دمشق 02 04 2013  2013-04-02 22:13:00   \n",
       "3080                                أثار القصف الصاروخي  2013-04-02 16:45:00   \n",
       "3081  ﻗﺘﻠﻰ ﻭﺟﺮﺣﻰ ﻓﻲ ﻗﺼﻒ ﺻﺎﺭﻭﺧﻲ ﺍﺳﺘﻬﺪﻑ ﺍﻟﻤﻨﻄﻘﺔ ﺍﻟﻘﺪﻳﻤ...  2013-04-02 16:20:00   \n",
       "3082           قصف المدفعي والصاروخي على منازل المدنيين  2013-04-02 16:20:00   \n",
       "3083           شهداء وعشرات الجرحى نتيجة قصف مدفعي عنيف  2013-04-02 12:44:00   \n",
       "3079                                            عاجـــل  2013-04-02 06:43:00   \n",
       "3078                                ريف دمشق 01 04 2013  2013-04-01 21:30:00   \n",
       "\n",
       "                                          INCIDENT DATE  \\\n",
       "4716                                              Syria   \n",
       "4760                                              Syria   \n",
       "4754                                              Syria   \n",
       "4743                                 Rif Dimashq, Syria   \n",
       "4734  داريا, شارع الكازية, Hawsh al Balas, Rif Dimas...   \n",
       "4721                                 Rif Dimashq, Syria   \n",
       "4755                                              Syria   \n",
       "4733                                 Rif Dimashq, Syria   \n",
       "4737                                 Rif Dimashq, Syria   \n",
       "4732                        Hirista, Rif Dimashq, Syria   \n",
       "4742                                 Rif Dimashq, Syria   \n",
       "4756                                              Syria   \n",
       "4731                                 Rif Dimashq, Syria   \n",
       "4757                                              Syria   \n",
       "4714                                              Syria   \n",
       "4758                                              Syria   \n",
       "4736              Aleppo, 214, Ballirmun, Aleppo, Syria   \n",
       "4741                        Hirista, Rif Dimashq, Syria   \n",
       "4740                        Hirista, Rif Dimashq, Syria   \n",
       "4730                                 Rif Dimashq, Syria   \n",
       "4759                                              Syria   \n",
       "4729  bank of syria and overseas, برج الروس, Abu Jar...   \n",
       "4728  داريا, شارع الكازية, Hawsh al Balas, Rif Dimas...   \n",
       "4727                Khan ash Shaykh, Rif Dimashq, Syria   \n",
       "4726                    Az Zabadani, Rif Dimashq, Syria   \n",
       "4761                                              Syria   \n",
       "4744                                              Syria   \n",
       "4725                                 Rif Dimashq, Syria   \n",
       "4745                                              Syria   \n",
       "4739                        Zamalka, Rif Dimashq, Syria   \n",
       "...                                                 ...   \n",
       "3107                            Barzeh, Damascus, Syria   \n",
       "3102                            Barzeh, Damascus, Syria   \n",
       "3103                            Barzeh, Damascus, Syria   \n",
       "3104                            Barzeh, Damascus, Syria   \n",
       "3105                            Barzeh, Damascus, Syria   \n",
       "3106                            Barzeh, Damascus, Syria   \n",
       "3101                            Barzeh, Damascus, Syria   \n",
       "3100                            Barzeh, Damascus, Syria   \n",
       "3099                            Barzeh, Damascus, Syria   \n",
       "3088                            Barzeh, Damascus, Syria   \n",
       "3089                            Barzeh, Damascus, Syria   \n",
       "3090                            Barzeh, Damascus, Syria   \n",
       "3091                            Barzeh, Damascus, Syria   \n",
       "3092                            Barzeh, Damascus, Syria   \n",
       "3093                     Rif-Dimashq Governorate, Syria   \n",
       "3094                            Barzeh, Damascus, Syria   \n",
       "3095                            Barzeh, Damascus, Syria   \n",
       "3096                            Barzeh, Damascus, Syria   \n",
       "3098                                              Syria   \n",
       "3097                            Barzeh, Damascus, Syria   \n",
       "3087                            Barzeh, Damascus, Syria   \n",
       "3085                     Rif-Dimashq Governorate, Syria   \n",
       "3086                            Barzeh, Damascus, Syria   \n",
       "3084                     Rif-Dimashq Governorate, Syria   \n",
       "3080                            Barzeh, Damascus, Syria   \n",
       "3081                            Barzeh, Damascus, Syria   \n",
       "3082                            Barzeh, Damascus, Syria   \n",
       "3083                            Barzeh, Damascus, Syria   \n",
       "3079                            Barzeh, Damascus, Syria   \n",
       "3078                     Rif-Dimashq Governorate, Syria   \n",
       "\n",
       "                                               LOCATION  \\\n",
       "4716  عنب بلدي | العدد 109 | الأحد 23 آذار 2014\\n&am...   \n",
       "4760  ارتفاع عدد ضحايا القنص عند معبر كراج الحجز بحل...   \n",
       "4754  تجدّد الاشتباكات في ريف اللاذقية\\n\\nخمسون قتيل...   \n",
       "4743  هاااااام # الغوطة الشرقية # ريف دمشق 30 3 2014...   \n",
       "4734  ** After the excessive air strikeswith explosi...   \n",
       "4721  مجلس قيادة الثورة في ريف دمشق - المكتب الإعلام...   \n",
       "4755  مقتل عشرين من عناصر قوات النظام في حلب\\n\\nدفعة...   \n",
       "4733  مجلس قيادة الثورة في ريف دمشق || خروج الوفد ال...   \n",
       "4737  عــــ  الغوطة الشرقية المحاصرة  ــــاجل : ريف ...   \n",
       "4732  مجلس قيادة الثورة في ريف دمشق | الغوطة الشرقية...   \n",
       "4742  عـــــ   هااام ـــاجل :  الغوطة الشرقية لريف د...   \n",
       "4756  مقتل قيادي عسكري عراقي في اشتباكات بحلب\\n\\nوال...   \n",
       "4731  مجلس قيادة الثورة في ريف دمشق - المكتب الإعلام...   \n",
       "4757  تنظيم دولة الإسلام في العراق والشام يعدم مدنيا...   \n",
       "4714  ACU launches the first &quot;Dynamic Monitorin...   \n",
       "4758  قتلى لقوات النظام في ريفي حلب وحماة\\n\\nثلاثة ق...   \n",
       "4736  ** The Syrian regime’s vicious military campai...   \n",
       "4741  الحصيلة الأولية لاستهداف النظام لمدينة حرستا ب...   \n",
       "4740  عاجل || استهداف مدينة حرستا بالغازات السامة وو...   \n",
       "4730  مجلس قيادة الثورة في ريف دمشق - المكتب الإعلام...   \n",
       "4759  أربعون قتيلاً من قوات النظام في ريف اللاذقية\\n...   \n",
       "4729  انضمامات عسكرية جديدة في صفوف المعارضة حول الع...   \n",
       "4728  مجلس قيادة الثورة في ريف دمشق | الغوطة الغربية...   \n",
       "4727  مجلس قيادة الثورة في ريف دمشق | الغوطة الغربية...   \n",
       "4726  مجلس قيادة الثورة في ريف دمشق | القلمون - الزب...   \n",
       "4761  Behind the scenes with Syria's 'emergency cine...   \n",
       "4744  قتلى لقوات النظام في ريفي إدلب وحلب\\n\\nوتجدد ا...   \n",
       "4725  مجلس قيادة الثورة في ريف دمشق - المكتب الإعلام...   \n",
       "4745  قتلى من عناصر قوات النظام في حلب وريفها\\n\\nقوا...   \n",
       "4739  #زملكا - ريف دمشق الشرقي  26 3 2014 :\\nـــــــ...   \n",
       "...                                                 ...   \n",
       "3107  دمشق - برزة : لحظة سقوط صواريخ أرض أرض على الح...   \n",
       "3102  دمشق - برزة : لحظة سقوط قذائف الهاون على الحي ...   \n",
       "3103  سقوط خمسة قذائف هاون الآن على منازل المدنيين ف...   \n",
       "3104  المكتب الاعلامي في حي برزة ينفي ما ورد من انبا...   \n",
       "3105  استهـداف حــي بـــرزة بصواريـخ توشكـا ( أرض - ...   \n",
       "3106  أن هذا الحي يعاني منذ مايقارب الشهر من حصار خا...   \n",
       "3101  موقع حي برزة ولمحة عنه واهم احداثه في صور منذ ...   \n",
       "3100  5 شهداء وعشرات الجرحى جراء سقوط 18 صاروخ أرض-أ...   \n",
       "3099  انتشال جثث الاطفال من تحت انقاض المنازل المهدم...   \n",
       "3088  مجلس برزة المحلي : سقوط صاروخين ارض-ارض جديدين...   \n",
       "3089  انتشال سيدة من تحت الانقاض نتيجة سقوط صاروخ ار...   \n",
       "3090  مجلس برزة المحلي : سقوط صاروخين أرض أرض في هذه...   \n",
       "3091  مجلس برزة المحلي : ارتفاع حصيلة الشهداء الى 5 ...   \n",
       "3092  مجلس برزة المحلي : سقوط 8 صواريخ أرض أرض على ح...   \n",
       "3093  مجلس قيادة الثورة في ريف دمشق – المكتب الاعلام...   \n",
       "3094  عوائل تحت الأنقاض واحتراق وتدمير منازل بسقوط 4...   \n",
       "3095  مجلس برزة المحلي : عائلة كاملة تحت الانقاض وحر...   \n",
       "3096  ﻣﺠﻠﺲ ﺑﺮﺯﺓ ﺍﻟﻤﺤﻠﻲ : ﺳﻘﻮﻁ ﺻﺎﺭﻭﺧﻴﻦ ﺃﺭﺽ ﺃﺭﺽ ﻷ‌ﻭﻝ ﻣ...   \n",
       "3098  أصدرت عنب بلدي منشورًا جديدًا يتضمن الإصدارات ...   \n",
       "3097  مجلس برزة المحلي |4-4-2013 |\\nجانب من القصف ال...   \n",
       "3087  مجلس برزة المحلي : مجزرة في حي برزة ضحيتها عدد...   \n",
       "3085  مجلس قيادة الثورة في ريف دمشق – المكتب الاعلام...   \n",
       "3086  تجدد القصف المدفعي واستهداف مسجد برزة الكبير\\n...   \n",
       "3084  مجلس قيادة الثورة في ريف دمشق – المكتب الاعلام...   \n",
       "3080  أثار القصف الصاروخي على حي برزة في دمشق\\nhttp:...   \n",
       "3081  ﻣﺠﻠﺲ ﺑﺮﺯﺓ ﺍﻟﻤﺤﻠﻲ : ﻗﺘﻠﻰ ﻭﺟﺮﺣﻰ ﻓﻲ ﻗﺼﻒ ﺻﺎﺭﻭﺧﻲ ﺍﺳ...   \n",
       "3082  ارتفاع عدد الشهداء إلى 6 وعشرات الجرحى بعضهم ف...   \n",
       "3083  مجلس برزة المحلي / 4شهداء وعشرات الجرحى نتيجة ...   \n",
       "3079  خمسة جرحى جراء القصف بالهاون واطلاق رصاص الدوش...   \n",
       "3078  مجلس قيادة الثورة في ريف دمشق – المكتب الاعلام...   \n",
       "\n",
       "                                            DESCRIPTION   CATEGORY   LATITUDE  \\\n",
       "4716                                    Article (مقالة)  34.640186  39.049411   \n",
       "4760                                    Article (مقالة)  34.640186  39.049411   \n",
       "4754                                    Article (مقالة)  34.640186  39.049411   \n",
       "4743  Announcement (إعلان),Relief Aid (مساعدات الإغاثة)  33.461274  36.844078   \n",
       "4734  Aggregate Report (تقرير إجمالي),Summary Report...  33.454121  36.229229   \n",
       "4721  Aggregate Report (تقرير إجمالي),Killed (قُتِل)...  33.461274  36.844078   \n",
       "4755                                    Article (مقالة)  34.640186  39.049411   \n",
       "4733  Eyewitness Report (تقريرشاهد عيان),Announcemen...  33.461274  36.844078   \n",
       "4737                       Relief Aid (مساعدات الإغاثة)  33.461274  36.844078   \n",
       "4732  Aggregate Report (تقرير إجمالي),Chemical Poiso...  33.558874  36.362652   \n",
       "4742  Announcement (إعلان),Relief Aid (مساعدات الإغاثة)  33.461274  36.844078   \n",
       "4756                                    Article (مقالة)  34.640186  39.049411   \n",
       "4731  Aggregate Report (تقرير إجمالي),Killed (قُتِل)...  33.461274  36.844078   \n",
       "4757                                    Article (مقالة)  34.640186  39.049411   \n",
       "4714                    Disease Spread/Epidemic (أوبئة)  34.640186  39.049411   \n",
       "4758                                    Article (مقالة)  34.640186  39.049411   \n",
       "4736  Aggregate Report (تقرير إجمالي),Killed (قُتِل)...  36.260784  37.070531   \n",
       "4741  Aggregate Report (تقرير إجمالي),Chemical Poiso...  33.558874  36.362652   \n",
       "4740  Aggregate Report (تقرير إجمالي),Chemical Poiso...  33.558874  36.362652   \n",
       "4730  Aggregate Report (تقرير إجمالي),Eyewitness Rep...  33.461274  36.844078   \n",
       "4759                                    Article (مقالة)  34.640186  39.049411   \n",
       "4729                               Announcement (إعلان)  33.516163  36.316084   \n",
       "4728  Eyewitness Report (تقريرشاهد عيان),Announcemen...  33.454121  36.229229   \n",
       "4727  Eyewitness Report (تقريرشاهد عيان),Announcemen...  33.374182  36.114922   \n",
       "4726  Eyewitness Report (تقريرشاهد عيان),Announcemen...  33.724446  36.100194   \n",
       "4761                       Twitter Report (تقرير تويتر)  34.640186  39.049411   \n",
       "4744                                    Article (مقالة)  34.640186  39.049411   \n",
       "4725  Aggregate Report (تقرير إجمالي),Killed (قُتِل)...  33.461274  36.844078   \n",
       "4745                                    Article (مقالة)  34.640186  39.049411   \n",
       "4739  Aggregate Report (تقرير إجمالي),Killed (قُتِل)...  33.516353  36.350852   \n",
       "...                                                 ...        ...        ...   \n",
       "3107                 Eyewitness Report (تقريرشاهد عيان)  33.549054  36.314589   \n",
       "3102  Aggregate Report (تقرير إجمالي),Killed (قُتِل)...  33.549054  36.314589   \n",
       "3103  Eyewitness Report (تقريرشاهد عيان),Announcemen...  33.549054  36.314589   \n",
       "3104  Eyewitness Report (تقريرشاهد عيان),Announcemen...  33.549054  36.314589   \n",
       "3105  Aggregate Report (تقرير إجمالي),Killed (قُتِل)...  33.549054  36.314589   \n",
       "3106                 Eyewitness Report (تقريرشاهد عيان)  33.549054  36.314589   \n",
       "3101                                    Article (مقالة)  33.549054  36.314589   \n",
       "3100  Aggregate Report (تقرير إجمالي),Killed (قُتِل)...  33.549054  36.314589   \n",
       "3099  Aggregate Report (تقرير إجمالي),Killed (قُتِل)...  33.549054  36.314589   \n",
       "3088  Eyewitness Report (تقريرشاهد عيان),Announcemen...  33.549054  36.314589   \n",
       "3089                 Eyewitness Report (تقريرشاهد عيان)  33.549054  36.314589   \n",
       "3090  Eyewitness Report (تقريرشاهد عيان),Announcemen...  33.549054  36.314589   \n",
       "3091  Aggregate Report (تقرير إجمالي),Killed (قُتِل)...  33.549054  36.314589   \n",
       "3092  Eyewitness Report (تقريرشاهد عيان),Announcemen...  33.549054  36.314589   \n",
       "3093  Aggregate Report (تقرير إجمالي),Killed (قُتِل)...  33.516729  36.954107   \n",
       "3094  Aggregate Report (تقرير إجمالي),Killed (قُتِل)...  33.549054  36.314589   \n",
       "3095  Aggregate Report (تقرير إجمالي),Killed (قُتِل)...  33.549054  36.314589   \n",
       "3096  Eyewitness Report (تقريرشاهد عيان),Announcemen...  33.549054  36.314589   \n",
       "3098                                    Article (مقالة)  34.802075  38.996815   \n",
       "3097                 Eyewitness Report (تقريرشاهد عيان)  33.549054  36.314589   \n",
       "3087  Aggregate Report (تقرير إجمالي),Killed (قُتِل)...  33.549054  36.314589   \n",
       "3085  Aggregate Report (تقرير إجمالي),Killed (قُتِل)...  33.516729  36.954107   \n",
       "3086                 Eyewitness Report (تقريرشاهد عيان)  33.549054  36.314589   \n",
       "3084  Aggregate Report (تقرير إجمالي),Killed (قُتِل)...  33.516729  36.954107   \n",
       "3080  Aggregate Report (تقرير إجمالي),Killed (قُتِل)...  33.549054  36.314589   \n",
       "3081  Aggregate Report (تقرير إجمالي),Killed (قُتِل)...  33.549054  36.314589   \n",
       "3082     Aggregate Report (تقرير إجمالي),Killed (قُتِل)  33.549054  36.314589   \n",
       "3083  Aggregate Report (تقرير إجمالي),Killed (قُتِل)...  33.549054  36.314589   \n",
       "3079  Eyewitness Report (تقريرشاهد عيان),Announcemen...  33.549054  36.314589   \n",
       "3078  Aggregate Report (تقرير إجمالي),Killed (قُتِل)...  33.516729  36.954107   \n",
       "\n",
       "     LONGITUDE APPROVED  VERIFIED  \n",
       "4716       YES      YES       NaN  \n",
       "4760       YES      YES       NaN  \n",
       "4754       YES      YES       NaN  \n",
       "4743       YES      YES       NaN  \n",
       "4734       YES      YES       NaN  \n",
       "4721       YES      YES       NaN  \n",
       "4755       YES      YES       NaN  \n",
       "4733       YES      YES       NaN  \n",
       "4737       YES      YES       NaN  \n",
       "4732       YES       NO       NaN  \n",
       "4742       YES      YES       NaN  \n",
       "4756       YES      YES       NaN  \n",
       "4731       YES      YES       NaN  \n",
       "4757       YES      YES       NaN  \n",
       "4714       YES      YES       NaN  \n",
       "4758       YES      YES       NaN  \n",
       "4736       YES      YES       NaN  \n",
       "4741       YES      YES       NaN  \n",
       "4740       YES      YES       NaN  \n",
       "4730       YES      YES       NaN  \n",
       "4759       YES      YES       NaN  \n",
       "4729       YES      YES       NaN  \n",
       "4728       YES      YES       NaN  \n",
       "4727       YES      YES       NaN  \n",
       "4726       YES      YES       NaN  \n",
       "4761       YES      YES       NaN  \n",
       "4744       YES      YES       NaN  \n",
       "4725       YES      YES       NaN  \n",
       "4745       YES      YES       NaN  \n",
       "4739       YES      YES       NaN  \n",
       "...        ...      ...       ...  \n",
       "3107       YES      YES       NaN  \n",
       "3102       YES      YES       NaN  \n",
       "3103       YES      YES       NaN  \n",
       "3104       YES      YES       NaN  \n",
       "3105       YES      YES       NaN  \n",
       "3106       YES      YES       NaN  \n",
       "3101       YES      YES       NaN  \n",
       "3100       YES      YES       NaN  \n",
       "3099       YES      YES       NaN  \n",
       "3088       YES      YES       NaN  \n",
       "3089       YES      YES       NaN  \n",
       "3090       YES       NO       NaN  \n",
       "3091       YES      YES       NaN  \n",
       "3092       YES       NO       NaN  \n",
       "3093       YES      YES       NaN  \n",
       "3094       YES       NO       NaN  \n",
       "3095       YES       NO       NaN  \n",
       "3096       YES       NO       NaN  \n",
       "3098       YES      YES       NaN  \n",
       "3097       YES      YES       NaN  \n",
       "3087       YES       NO       NaN  \n",
       "3085       YES      YES       NaN  \n",
       "3086       YES      YES       NaN  \n",
       "3084       YES      YES       NaN  \n",
       "3080       YES      YES       NaN  \n",
       "3081       YES      YES       NaN  \n",
       "3082       YES      YES       NaN  \n",
       "3083       YES       NO       NaN  \n",
       "3079       YES       NO       NaN  \n",
       "3078       YES      YES       NaN  \n",
       "\n",
       "[1631 rows x 10 columns]"
      ]
     },
     "execution_count": 85,
     "metadata": {},
     "output_type": "execute_result"
    }
   ],
   "source": [
    "df = pd.read_csv('syria.csv',encoding = 'utf8') #ISO-8859-1 or utf8\n",
    "df"
   ]
  },
  {
   "cell_type": "markdown",
   "metadata": {
    "focus": false,
    "id": "a9c47dc7-ff2c-4d5f-9f77-0015da6e02aa",
    "slideshow": {
     "slide_type": "subslide"
    }
   },
   "source": [
    "#### The benefits of open source:\n",
    "\n",
    "Let's look under x's in plt modules"
   ]
  },
  {
   "cell_type": "markdown",
   "metadata": {
    "focus": false,
    "id": "29dbb281-811a-4c72-8e35-47dc93c7a6c7",
    "slideshow": {
     "slide_type": "slide"
    }
   },
   "source": []
  },
  {
   "cell_type": "markdown",
   "metadata": {
    "focus": true,
    "id": "a51cdd68-c291-46ae-9bf5-ed4f0819f161",
    "slideshow": {
     "slide_type": "slide"
    }
   },
   "source": [
    "# Next Steps\n",
    "\n",
    "**Recommended Resources**\n",
    "\n",
    "Name | Description\n",
    "--- | ---\n",
    "[Official Pandas Tutorials](http://pandas.pydata.org/pandas-docs/stable/10min.html) | Wes & Company's selection of tutorials and lectures\n",
    "[Julia Evans Pandas Cookbook](https://github.com/jvns/pandas-cookbook) | Great resource with examples from weather, bikes and 311 calls\n",
    "[Learn Pandas Tutorials](https://bitbucket.org/hrojas/learn-pandas) | A great series of Pandas tutorials from Dave Rojas\n",
    "[Research Computing Python Data PYNBs](https://github.com/ResearchComputing/Meetup-Fall-2013/tree/master/python) | A super awesome set of python notebooks from a meetup-based course exclusively devoted to pandas"
   ]
  }
 ],
 "metadata": {
  "kernelspec": {
   "display_name": "Python 3",
   "language": "python",
   "name": "python3"
  },
  "language_info": {
   "codemirror_mode": {
    "name": "ipython",
    "version": 3
   },
   "file_extension": ".py",
   "mimetype": "text/x-python",
   "name": "python",
   "nbconvert_exporter": "python",
   "pygments_lexer": "ipython3",
   "version": "3.6.1"
  }
 },
 "nbformat": 4,
 "nbformat_minor": 1
}
