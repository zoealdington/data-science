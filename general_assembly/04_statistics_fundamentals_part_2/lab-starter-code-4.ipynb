{
 "cells": [
  {
   "cell_type": "markdown",
   "metadata": {},
   "source": [
    "# Lesson 4 Independent Practice"
   ]
  },
  {
   "cell_type": "markdown",
   "metadata": {
    "collapsed": true
   },
   "source": [
    "### For this exercise, we are going to take a look at several studies and outputs in order to get comfortable reading outputs and practicing hypothesis testing."
   ]
  },
  {
   "cell_type": "markdown",
   "metadata": {},
   "source": [
    "## Data output 1\n",
    "This dataset examines the association between an outcome and generic variables x1, x3, x6\n",
    "<img src='generic-output.png'>"
   ]
  },
  {
   "cell_type": "markdown",
   "metadata": {},
   "source": [
    "#### Question 1.1 X6 has an association with the outcome of -0.2. Is this finding statistically significant? "
   ]
  },
  {
   "cell_type": "markdown",
   "metadata": {},
   "source": [
    "Answer: \n",
    "\n",
    "The p-value is 0.208 so there is a 20% chance that the relationship between the outcome and the variable, X6, is due to chance. \n",
    "\n",
    "On the flip-side, we are 80% confident that the relationship is NOT due to chance. \n",
    "\n",
    "Whether the finding is statistically significant depends on the confidence interval that we choose. Usually, the confidence interval chosen is 95%. We are only 80% confident so in this case we would say that the relationship between the outcome and the variable is not statistically significant. We would be inclined to say that the relationship is due to chance and we would not reject the null hypothesis.\n",
    "\n",
    "Also, 0 falls in the confidence interval so there is a strong chance that the co-efficient is likely to be equal to 0 and there is therefore no relationship.\n",
    "\n",
    "The t value is the number of standard errors that the coefficient falls away from 0. This then determines the p-value and the confidence interval."
   ]
  },
  {
   "cell_type": "markdown",
   "metadata": {},
   "source": [
    "#### Question 1.2 Which of the variables X1, X3, and X6 have a statistically significant finding? "
   ]
  },
  {
   "cell_type": "markdown",
   "metadata": {},
   "source": [
    "Answer:\n",
    "\n",
    "The p-values are:\n",
    "\n",
    "* X1: 0.000 < 0.05\n",
    "* X3: 0.053 > 0.05\n",
    "* X6: 0.208 > 0.05\n",
    "\n",
    "At a 95% confidence level we would only consider the relationship between X1 and the outcome to be statistically significant i.e. we would reject the null hypothesis that there is no relationship.\n",
    "\n",
    "For X3 and X6 we would not reject the null hypothesis i.e. it could be that the relationship we have seen in this sample has happened by chance."
   ]
  },
  {
   "cell_type": "markdown",
   "metadata": {},
   "source": [
    "#### Question 1.3 What does a 95% CI of 0.38-0.866 indicate? "
   ]
  },
  {
   "cell_type": "markdown",
   "metadata": {},
   "source": [
    "Answer: \n",
    "\n",
    "We are 95% confident that the true coefficient falls somewhere in the interval 0.38 - 0.866\n",
    "\n",
    "OR\n",
    "\n",
    "If we re-sampled the data and repeated the experiment 100 times, the coefficient would fall in this interval 95 times."
   ]
  },
  {
   "cell_type": "markdown",
   "metadata": {},
   "source": [
    "## Data Output 2 \n",
    "This is a data set of different animals. We measured the brain size and body size of each animale in our data set. We aim to determine if there is an association between the body size and brain size of animals in our dataset."
   ]
  },
  {
   "cell_type": "markdown",
   "metadata": {},
   "source": [
    "<img src=\"body-size.png\">"
   ]
  },
  {
   "cell_type": "markdown",
   "metadata": {},
   "source": [
    "#### Question 2.1 What is the outcome in this model? "
   ]
  },
  {
   "cell_type": "markdown",
   "metadata": {
    "collapsed": true
   },
   "source": [
    "Answer: \n",
    "\n",
    "The brain size is the outcome of the model."
   ]
  },
  {
   "cell_type": "markdown",
   "metadata": {},
   "source": [
    "#### Question 2.2 What is the predictor in this model? \n"
   ]
  },
  {
   "cell_type": "markdown",
   "metadata": {
    "collapsed": true
   },
   "source": [
    "Answer: \n",
    "\n",
    "The body size is the predictor in the model."
   ]
  },
  {
   "cell_type": "markdown",
   "metadata": {},
   "source": [
    "#### Question 2.3 What is the association body and brain size? \n"
   ]
  },
  {
   "cell_type": "markdown",
   "metadata": {},
   "source": [
    "Answer: \n",
    "\n",
    "The association is 0.97\n",
    "\n",
    "Brain size = 91.0044 + (0.9665 * body size)\n",
    "\n",
    "i.e. as the body size increases by 1 unit, the brain size increases by 0.9665 unit"
   ]
  },
  {
   "cell_type": "markdown",
   "metadata": {},
   "source": [
    "#### Question 2.4 Is this relationship statistically significant? How did you decide?"
   ]
  },
  {
   "cell_type": "markdown",
   "metadata": {},
   "source": [
    "Answer:\n",
    "\n",
    "The p-value of the relationship between body and brain is less than 0.05 so we deem the relationship to be statistically significant. There is a neglible chance that the relationship we have seen in this study is due to chance."
   ]
  },
  {
   "cell_type": "markdown",
   "metadata": {},
   "source": [
    "#### Question 2.5 Is this relationship biologically significant? What other information would you need to decide this?\n"
   ]
  },
  {
   "cell_type": "markdown",
   "metadata": {},
   "source": [
    "Answer: \n",
    "\n",
    "It is unclear whether the relationship is biologically significant. We would need to understand more about the dataset, the animals in the dataset, how the dataset was collected etc."
   ]
  },
  {
   "cell_type": "code",
   "execution_count": null,
   "metadata": {
    "collapsed": true
   },
   "outputs": [],
   "source": []
  }
 ],
 "metadata": {
  "kernelspec": {
   "display_name": "Python 3",
   "language": "python",
   "name": "python3"
  },
  "language_info": {
   "codemirror_mode": {
    "name": "ipython",
    "version": 3
   },
   "file_extension": ".py",
   "mimetype": "text/x-python",
   "name": "python",
   "nbconvert_exporter": "python",
   "pygments_lexer": "ipython3",
   "version": "3.6.1"
  }
 },
 "nbformat": 4,
 "nbformat_minor": 1
}
